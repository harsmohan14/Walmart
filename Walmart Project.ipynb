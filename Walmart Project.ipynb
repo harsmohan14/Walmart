{
 "cells": [
  {
   "cell_type": "code",
   "execution_count": 1,
   "metadata": {},
   "outputs": [
    {
     "name": "stderr",
     "output_type": "stream",
     "text": [
      "C:\\Users\\harsmoha\\Anaconda3\\lib\\site-packages\\sklearn\\cross_validation.py:41: DeprecationWarning: This module was deprecated in version 0.18 in favor of the model_selection module into which all the refactored classes and functions are moved. Also note that the interface of the new CV iterators are different from that of this module. This module will be removed in 0.20.\n",
      "  \"This module will be removed in 0.20.\", DeprecationWarning)\n"
     ]
    }
   ],
   "source": [
    "import numpy as np\n",
    "import datetime as dt\n",
    "import matplotlib.pyplot as plt\n",
    "from scipy.stats import skew\n",
    "from scipy.stats import kurtosis\n",
    "import scipy.stats as stat\n",
    "%matplotlib inline\n",
    "import pandas as pd\n",
    "import seaborn as sns\n",
    "from sklearn.datasets import load_boston\n",
    "from sklearn.cross_validation import train_test_split"
   ]
  },
  {
   "cell_type": "code",
   "execution_count": 2,
   "metadata": {},
   "outputs": [
    {
     "data": {
      "text/html": [
       "<div>\n",
       "<style>\n",
       "    .dataframe thead tr:only-child th {\n",
       "        text-align: right;\n",
       "    }\n",
       "\n",
       "    .dataframe thead th {\n",
       "        text-align: left;\n",
       "    }\n",
       "\n",
       "    .dataframe tbody tr th {\n",
       "        vertical-align: top;\n",
       "    }\n",
       "</style>\n",
       "<table border=\"1\" class=\"dataframe\">\n",
       "  <thead>\n",
       "    <tr style=\"text-align: right;\">\n",
       "      <th></th>\n",
       "      <th>Store</th>\n",
       "      <th>Dept</th>\n",
       "      <th>Date</th>\n",
       "      <th>Weekly_Sales</th>\n",
       "      <th>IsHoliday</th>\n",
       "    </tr>\n",
       "  </thead>\n",
       "  <tbody>\n",
       "    <tr>\n",
       "      <th>0</th>\n",
       "      <td>1</td>\n",
       "      <td>1</td>\n",
       "      <td>2/5/2010</td>\n",
       "      <td>24924.50</td>\n",
       "      <td>False</td>\n",
       "    </tr>\n",
       "    <tr>\n",
       "      <th>1</th>\n",
       "      <td>1</td>\n",
       "      <td>1</td>\n",
       "      <td>2/12/2010</td>\n",
       "      <td>46039.49</td>\n",
       "      <td>True</td>\n",
       "    </tr>\n",
       "    <tr>\n",
       "      <th>2</th>\n",
       "      <td>1</td>\n",
       "      <td>1</td>\n",
       "      <td>2/19/2010</td>\n",
       "      <td>41595.55</td>\n",
       "      <td>False</td>\n",
       "    </tr>\n",
       "    <tr>\n",
       "      <th>3</th>\n",
       "      <td>1</td>\n",
       "      <td>1</td>\n",
       "      <td>2/26/2010</td>\n",
       "      <td>19403.54</td>\n",
       "      <td>False</td>\n",
       "    </tr>\n",
       "    <tr>\n",
       "      <th>4</th>\n",
       "      <td>1</td>\n",
       "      <td>1</td>\n",
       "      <td>3/5/2010</td>\n",
       "      <td>21827.90</td>\n",
       "      <td>False</td>\n",
       "    </tr>\n",
       "  </tbody>\n",
       "</table>\n",
       "</div>"
      ],
      "text/plain": [
       "   Store  Dept       Date  Weekly_Sales  IsHoliday\n",
       "0      1     1   2/5/2010      24924.50      False\n",
       "1      1     1  2/12/2010      46039.49       True\n",
       "2      1     1  2/19/2010      41595.55      False\n",
       "3      1     1  2/26/2010      19403.54      False\n",
       "4      1     1   3/5/2010      21827.90      False"
      ]
     },
     "execution_count": 2,
     "metadata": {},
     "output_type": "execute_result"
    }
   ],
   "source": [
    "walmartDf = pd.read_csv('Walmart/train.csv')\n",
    "walmartDf.head()"
   ]
  },
  {
   "cell_type": "code",
   "execution_count": 3,
   "metadata": {},
   "outputs": [
    {
     "data": {
      "text/html": [
       "<div>\n",
       "<style>\n",
       "    .dataframe thead tr:only-child th {\n",
       "        text-align: right;\n",
       "    }\n",
       "\n",
       "    .dataframe thead th {\n",
       "        text-align: left;\n",
       "    }\n",
       "\n",
       "    .dataframe tbody tr th {\n",
       "        vertical-align: top;\n",
       "    }\n",
       "</style>\n",
       "<table border=\"1\" class=\"dataframe\">\n",
       "  <thead>\n",
       "    <tr style=\"text-align: right;\">\n",
       "      <th></th>\n",
       "      <th>Store</th>\n",
       "      <th>Date</th>\n",
       "      <th>Temperature</th>\n",
       "      <th>Fuel_Price</th>\n",
       "      <th>MarkDown1</th>\n",
       "      <th>MarkDown2</th>\n",
       "      <th>MarkDown3</th>\n",
       "      <th>MarkDown4</th>\n",
       "      <th>MarkDown5</th>\n",
       "      <th>CPI</th>\n",
       "      <th>Unemployment</th>\n",
       "      <th>IsHoliday</th>\n",
       "    </tr>\n",
       "  </thead>\n",
       "  <tbody>\n",
       "    <tr>\n",
       "      <th>0</th>\n",
       "      <td>1</td>\n",
       "      <td>2/5/2010</td>\n",
       "      <td>42.31</td>\n",
       "      <td>2.572</td>\n",
       "      <td>NaN</td>\n",
       "      <td>NaN</td>\n",
       "      <td>NaN</td>\n",
       "      <td>NaN</td>\n",
       "      <td>NaN</td>\n",
       "      <td>211.096358</td>\n",
       "      <td>8.106</td>\n",
       "      <td>False</td>\n",
       "    </tr>\n",
       "    <tr>\n",
       "      <th>1</th>\n",
       "      <td>1</td>\n",
       "      <td>2/12/2010</td>\n",
       "      <td>38.51</td>\n",
       "      <td>2.548</td>\n",
       "      <td>NaN</td>\n",
       "      <td>NaN</td>\n",
       "      <td>NaN</td>\n",
       "      <td>NaN</td>\n",
       "      <td>NaN</td>\n",
       "      <td>211.242170</td>\n",
       "      <td>8.106</td>\n",
       "      <td>True</td>\n",
       "    </tr>\n",
       "    <tr>\n",
       "      <th>2</th>\n",
       "      <td>1</td>\n",
       "      <td>2/19/2010</td>\n",
       "      <td>39.93</td>\n",
       "      <td>2.514</td>\n",
       "      <td>NaN</td>\n",
       "      <td>NaN</td>\n",
       "      <td>NaN</td>\n",
       "      <td>NaN</td>\n",
       "      <td>NaN</td>\n",
       "      <td>211.289143</td>\n",
       "      <td>8.106</td>\n",
       "      <td>False</td>\n",
       "    </tr>\n",
       "    <tr>\n",
       "      <th>3</th>\n",
       "      <td>1</td>\n",
       "      <td>2/26/2010</td>\n",
       "      <td>46.63</td>\n",
       "      <td>2.561</td>\n",
       "      <td>NaN</td>\n",
       "      <td>NaN</td>\n",
       "      <td>NaN</td>\n",
       "      <td>NaN</td>\n",
       "      <td>NaN</td>\n",
       "      <td>211.319643</td>\n",
       "      <td>8.106</td>\n",
       "      <td>False</td>\n",
       "    </tr>\n",
       "    <tr>\n",
       "      <th>4</th>\n",
       "      <td>1</td>\n",
       "      <td>3/5/2010</td>\n",
       "      <td>46.50</td>\n",
       "      <td>2.625</td>\n",
       "      <td>NaN</td>\n",
       "      <td>NaN</td>\n",
       "      <td>NaN</td>\n",
       "      <td>NaN</td>\n",
       "      <td>NaN</td>\n",
       "      <td>211.350143</td>\n",
       "      <td>8.106</td>\n",
       "      <td>False</td>\n",
       "    </tr>\n",
       "  </tbody>\n",
       "</table>\n",
       "</div>"
      ],
      "text/plain": [
       "   Store       Date  Temperature  Fuel_Price  MarkDown1  MarkDown2  MarkDown3  \\\n",
       "0      1   2/5/2010        42.31       2.572        NaN        NaN        NaN   \n",
       "1      1  2/12/2010        38.51       2.548        NaN        NaN        NaN   \n",
       "2      1  2/19/2010        39.93       2.514        NaN        NaN        NaN   \n",
       "3      1  2/26/2010        46.63       2.561        NaN        NaN        NaN   \n",
       "4      1   3/5/2010        46.50       2.625        NaN        NaN        NaN   \n",
       "\n",
       "   MarkDown4  MarkDown5         CPI  Unemployment  IsHoliday  \n",
       "0        NaN        NaN  211.096358         8.106      False  \n",
       "1        NaN        NaN  211.242170         8.106       True  \n",
       "2        NaN        NaN  211.289143         8.106      False  \n",
       "3        NaN        NaN  211.319643         8.106      False  \n",
       "4        NaN        NaN  211.350143         8.106      False  "
      ]
     },
     "execution_count": 3,
     "metadata": {},
     "output_type": "execute_result"
    }
   ],
   "source": [
    "walmartFDF = pd.read_csv('Walmart/features.csv')\n",
    "walmartFDF.head()"
   ]
  },
  {
   "cell_type": "code",
   "execution_count": 4,
   "metadata": {},
   "outputs": [
    {
     "data": {
      "text/plain": [
       "4158"
      ]
     },
     "execution_count": 4,
     "metadata": {},
     "output_type": "execute_result"
    }
   ],
   "source": [
    "walmartFDF.MarkDown1.isnull().sum()"
   ]
  },
  {
   "cell_type": "code",
   "execution_count": 5,
   "metadata": {},
   "outputs": [
    {
     "data": {
      "text/html": [
       "<div>\n",
       "<style>\n",
       "    .dataframe thead tr:only-child th {\n",
       "        text-align: right;\n",
       "    }\n",
       "\n",
       "    .dataframe thead th {\n",
       "        text-align: left;\n",
       "    }\n",
       "\n",
       "    .dataframe tbody tr th {\n",
       "        vertical-align: top;\n",
       "    }\n",
       "</style>\n",
       "<table border=\"1\" class=\"dataframe\">\n",
       "  <thead>\n",
       "    <tr style=\"text-align: right;\">\n",
       "      <th></th>\n",
       "      <th>Store</th>\n",
       "      <th>Temperature</th>\n",
       "      <th>Fuel_Price</th>\n",
       "      <th>MarkDown1</th>\n",
       "      <th>MarkDown2</th>\n",
       "      <th>MarkDown3</th>\n",
       "      <th>MarkDown4</th>\n",
       "      <th>MarkDown5</th>\n",
       "      <th>CPI</th>\n",
       "      <th>Unemployment</th>\n",
       "    </tr>\n",
       "  </thead>\n",
       "  <tbody>\n",
       "    <tr>\n",
       "      <th>count</th>\n",
       "      <td>8190.000000</td>\n",
       "      <td>8190.000000</td>\n",
       "      <td>8190.000000</td>\n",
       "      <td>4032.000000</td>\n",
       "      <td>2921.000000</td>\n",
       "      <td>3613.000000</td>\n",
       "      <td>3464.000000</td>\n",
       "      <td>4050.000000</td>\n",
       "      <td>7605.000000</td>\n",
       "      <td>7605.000000</td>\n",
       "    </tr>\n",
       "    <tr>\n",
       "      <th>mean</th>\n",
       "      <td>23.000000</td>\n",
       "      <td>59.356198</td>\n",
       "      <td>3.405992</td>\n",
       "      <td>7032.371786</td>\n",
       "      <td>3384.176594</td>\n",
       "      <td>1760.100180</td>\n",
       "      <td>3292.935886</td>\n",
       "      <td>4132.216422</td>\n",
       "      <td>172.460809</td>\n",
       "      <td>7.826821</td>\n",
       "    </tr>\n",
       "    <tr>\n",
       "      <th>std</th>\n",
       "      <td>12.987966</td>\n",
       "      <td>18.678607</td>\n",
       "      <td>0.431337</td>\n",
       "      <td>9262.747448</td>\n",
       "      <td>8793.583016</td>\n",
       "      <td>11276.462208</td>\n",
       "      <td>6792.329861</td>\n",
       "      <td>13086.690278</td>\n",
       "      <td>39.738346</td>\n",
       "      <td>1.877259</td>\n",
       "    </tr>\n",
       "    <tr>\n",
       "      <th>min</th>\n",
       "      <td>1.000000</td>\n",
       "      <td>-7.290000</td>\n",
       "      <td>2.472000</td>\n",
       "      <td>-2781.450000</td>\n",
       "      <td>-265.760000</td>\n",
       "      <td>-179.260000</td>\n",
       "      <td>0.220000</td>\n",
       "      <td>-185.170000</td>\n",
       "      <td>126.064000</td>\n",
       "      <td>3.684000</td>\n",
       "    </tr>\n",
       "    <tr>\n",
       "      <th>25%</th>\n",
       "      <td>12.000000</td>\n",
       "      <td>45.902500</td>\n",
       "      <td>3.041000</td>\n",
       "      <td>1577.532500</td>\n",
       "      <td>68.880000</td>\n",
       "      <td>6.600000</td>\n",
       "      <td>304.687500</td>\n",
       "      <td>1440.827500</td>\n",
       "      <td>132.364839</td>\n",
       "      <td>6.634000</td>\n",
       "    </tr>\n",
       "    <tr>\n",
       "      <th>50%</th>\n",
       "      <td>23.000000</td>\n",
       "      <td>60.710000</td>\n",
       "      <td>3.513000</td>\n",
       "      <td>4743.580000</td>\n",
       "      <td>364.570000</td>\n",
       "      <td>36.260000</td>\n",
       "      <td>1176.425000</td>\n",
       "      <td>2727.135000</td>\n",
       "      <td>182.764003</td>\n",
       "      <td>7.806000</td>\n",
       "    </tr>\n",
       "    <tr>\n",
       "      <th>75%</th>\n",
       "      <td>34.000000</td>\n",
       "      <td>73.880000</td>\n",
       "      <td>3.743000</td>\n",
       "      <td>8923.310000</td>\n",
       "      <td>2153.350000</td>\n",
       "      <td>163.150000</td>\n",
       "      <td>3310.007500</td>\n",
       "      <td>4832.555000</td>\n",
       "      <td>213.932412</td>\n",
       "      <td>8.567000</td>\n",
       "    </tr>\n",
       "    <tr>\n",
       "      <th>max</th>\n",
       "      <td>45.000000</td>\n",
       "      <td>101.950000</td>\n",
       "      <td>4.468000</td>\n",
       "      <td>103184.980000</td>\n",
       "      <td>104519.540000</td>\n",
       "      <td>149483.310000</td>\n",
       "      <td>67474.850000</td>\n",
       "      <td>771448.100000</td>\n",
       "      <td>228.976456</td>\n",
       "      <td>14.313000</td>\n",
       "    </tr>\n",
       "  </tbody>\n",
       "</table>\n",
       "</div>"
      ],
      "text/plain": [
       "             Store  Temperature   Fuel_Price      MarkDown1      MarkDown2  \\\n",
       "count  8190.000000  8190.000000  8190.000000    4032.000000    2921.000000   \n",
       "mean     23.000000    59.356198     3.405992    7032.371786    3384.176594   \n",
       "std      12.987966    18.678607     0.431337    9262.747448    8793.583016   \n",
       "min       1.000000    -7.290000     2.472000   -2781.450000    -265.760000   \n",
       "25%      12.000000    45.902500     3.041000    1577.532500      68.880000   \n",
       "50%      23.000000    60.710000     3.513000    4743.580000     364.570000   \n",
       "75%      34.000000    73.880000     3.743000    8923.310000    2153.350000   \n",
       "max      45.000000   101.950000     4.468000  103184.980000  104519.540000   \n",
       "\n",
       "           MarkDown3     MarkDown4      MarkDown5          CPI  Unemployment  \n",
       "count    3613.000000   3464.000000    4050.000000  7605.000000   7605.000000  \n",
       "mean     1760.100180   3292.935886    4132.216422   172.460809      7.826821  \n",
       "std     11276.462208   6792.329861   13086.690278    39.738346      1.877259  \n",
       "min      -179.260000      0.220000    -185.170000   126.064000      3.684000  \n",
       "25%         6.600000    304.687500    1440.827500   132.364839      6.634000  \n",
       "50%        36.260000   1176.425000    2727.135000   182.764003      7.806000  \n",
       "75%       163.150000   3310.007500    4832.555000   213.932412      8.567000  \n",
       "max    149483.310000  67474.850000  771448.100000   228.976456     14.313000  "
      ]
     },
     "execution_count": 5,
     "metadata": {},
     "output_type": "execute_result"
    }
   ],
   "source": [
    "walmartFDF.describe()"
   ]
  },
  {
   "cell_type": "code",
   "execution_count": 6,
   "metadata": {},
   "outputs": [
    {
     "data": {
      "text/plain": [
       "585"
      ]
     },
     "execution_count": 6,
     "metadata": {},
     "output_type": "execute_result"
    }
   ],
   "source": [
    "walmartFDF.CPI.isnull().sum()"
   ]
  },
  {
   "cell_type": "code",
   "execution_count": 7,
   "metadata": {},
   "outputs": [
    {
     "data": {
      "text/html": [
       "<div>\n",
       "<style>\n",
       "    .dataframe thead tr:only-child th {\n",
       "        text-align: right;\n",
       "    }\n",
       "\n",
       "    .dataframe thead th {\n",
       "        text-align: left;\n",
       "    }\n",
       "\n",
       "    .dataframe tbody tr th {\n",
       "        vertical-align: top;\n",
       "    }\n",
       "</style>\n",
       "<table border=\"1\" class=\"dataframe\">\n",
       "  <thead>\n",
       "    <tr style=\"text-align: right;\">\n",
       "      <th></th>\n",
       "      <th>Store</th>\n",
       "      <th>Dept</th>\n",
       "      <th>Date</th>\n",
       "      <th>Weekly_Sales</th>\n",
       "      <th>IsHoliday_x</th>\n",
       "      <th>Temperature</th>\n",
       "      <th>Fuel_Price</th>\n",
       "      <th>MarkDown1</th>\n",
       "      <th>MarkDown2</th>\n",
       "      <th>MarkDown3</th>\n",
       "      <th>MarkDown4</th>\n",
       "      <th>MarkDown5</th>\n",
       "      <th>CPI</th>\n",
       "      <th>Unemployment</th>\n",
       "      <th>IsHoliday_y</th>\n",
       "    </tr>\n",
       "  </thead>\n",
       "  <tbody>\n",
       "    <tr>\n",
       "      <th>0</th>\n",
       "      <td>1</td>\n",
       "      <td>1</td>\n",
       "      <td>2/5/2010</td>\n",
       "      <td>24924.50</td>\n",
       "      <td>False</td>\n",
       "      <td>42.31</td>\n",
       "      <td>2.572</td>\n",
       "      <td>NaN</td>\n",
       "      <td>NaN</td>\n",
       "      <td>NaN</td>\n",
       "      <td>NaN</td>\n",
       "      <td>NaN</td>\n",
       "      <td>211.096358</td>\n",
       "      <td>8.106</td>\n",
       "      <td>False</td>\n",
       "    </tr>\n",
       "    <tr>\n",
       "      <th>1</th>\n",
       "      <td>1</td>\n",
       "      <td>2</td>\n",
       "      <td>2/5/2010</td>\n",
       "      <td>50605.27</td>\n",
       "      <td>False</td>\n",
       "      <td>42.31</td>\n",
       "      <td>2.572</td>\n",
       "      <td>NaN</td>\n",
       "      <td>NaN</td>\n",
       "      <td>NaN</td>\n",
       "      <td>NaN</td>\n",
       "      <td>NaN</td>\n",
       "      <td>211.096358</td>\n",
       "      <td>8.106</td>\n",
       "      <td>False</td>\n",
       "    </tr>\n",
       "    <tr>\n",
       "      <th>2</th>\n",
       "      <td>1</td>\n",
       "      <td>3</td>\n",
       "      <td>2/5/2010</td>\n",
       "      <td>13740.12</td>\n",
       "      <td>False</td>\n",
       "      <td>42.31</td>\n",
       "      <td>2.572</td>\n",
       "      <td>NaN</td>\n",
       "      <td>NaN</td>\n",
       "      <td>NaN</td>\n",
       "      <td>NaN</td>\n",
       "      <td>NaN</td>\n",
       "      <td>211.096358</td>\n",
       "      <td>8.106</td>\n",
       "      <td>False</td>\n",
       "    </tr>\n",
       "    <tr>\n",
       "      <th>3</th>\n",
       "      <td>1</td>\n",
       "      <td>4</td>\n",
       "      <td>2/5/2010</td>\n",
       "      <td>39954.04</td>\n",
       "      <td>False</td>\n",
       "      <td>42.31</td>\n",
       "      <td>2.572</td>\n",
       "      <td>NaN</td>\n",
       "      <td>NaN</td>\n",
       "      <td>NaN</td>\n",
       "      <td>NaN</td>\n",
       "      <td>NaN</td>\n",
       "      <td>211.096358</td>\n",
       "      <td>8.106</td>\n",
       "      <td>False</td>\n",
       "    </tr>\n",
       "    <tr>\n",
       "      <th>4</th>\n",
       "      <td>1</td>\n",
       "      <td>5</td>\n",
       "      <td>2/5/2010</td>\n",
       "      <td>32229.38</td>\n",
       "      <td>False</td>\n",
       "      <td>42.31</td>\n",
       "      <td>2.572</td>\n",
       "      <td>NaN</td>\n",
       "      <td>NaN</td>\n",
       "      <td>NaN</td>\n",
       "      <td>NaN</td>\n",
       "      <td>NaN</td>\n",
       "      <td>211.096358</td>\n",
       "      <td>8.106</td>\n",
       "      <td>False</td>\n",
       "    </tr>\n",
       "  </tbody>\n",
       "</table>\n",
       "</div>"
      ],
      "text/plain": [
       "   Store  Dept      Date  Weekly_Sales  IsHoliday_x  Temperature  Fuel_Price  \\\n",
       "0      1     1  2/5/2010      24924.50        False        42.31       2.572   \n",
       "1      1     2  2/5/2010      50605.27        False        42.31       2.572   \n",
       "2      1     3  2/5/2010      13740.12        False        42.31       2.572   \n",
       "3      1     4  2/5/2010      39954.04        False        42.31       2.572   \n",
       "4      1     5  2/5/2010      32229.38        False        42.31       2.572   \n",
       "\n",
       "   MarkDown1  MarkDown2  MarkDown3  MarkDown4  MarkDown5         CPI  \\\n",
       "0        NaN        NaN        NaN        NaN        NaN  211.096358   \n",
       "1        NaN        NaN        NaN        NaN        NaN  211.096358   \n",
       "2        NaN        NaN        NaN        NaN        NaN  211.096358   \n",
       "3        NaN        NaN        NaN        NaN        NaN  211.096358   \n",
       "4        NaN        NaN        NaN        NaN        NaN  211.096358   \n",
       "\n",
       "   Unemployment  IsHoliday_y  \n",
       "0         8.106        False  \n",
       "1         8.106        False  \n",
       "2         8.106        False  \n",
       "3         8.106        False  \n",
       "4         8.106        False  "
      ]
     },
     "execution_count": 7,
     "metadata": {},
     "output_type": "execute_result"
    }
   ],
   "source": [
    "walmartDF = pd.merge(walmartDf,walmartFDF,on=['Store','Date'], how='inner')\n",
    "walmartDF.head()"
   ]
  },
  {
   "cell_type": "code",
   "execution_count": 8,
   "metadata": {},
   "outputs": [
    {
     "data": {
      "text/html": [
       "<div>\n",
       "<style>\n",
       "    .dataframe thead tr:only-child th {\n",
       "        text-align: right;\n",
       "    }\n",
       "\n",
       "    .dataframe thead th {\n",
       "        text-align: left;\n",
       "    }\n",
       "\n",
       "    .dataframe tbody tr th {\n",
       "        vertical-align: top;\n",
       "    }\n",
       "</style>\n",
       "<table border=\"1\" class=\"dataframe\">\n",
       "  <thead>\n",
       "    <tr style=\"text-align: right;\">\n",
       "      <th></th>\n",
       "      <th>Store</th>\n",
       "      <th>Dept</th>\n",
       "      <th>Weekly_Sales</th>\n",
       "      <th>IsHoliday_x</th>\n",
       "      <th>Temperature</th>\n",
       "      <th>Fuel_Price</th>\n",
       "      <th>MarkDown1</th>\n",
       "      <th>MarkDown2</th>\n",
       "      <th>MarkDown3</th>\n",
       "      <th>MarkDown4</th>\n",
       "      <th>MarkDown5</th>\n",
       "      <th>CPI</th>\n",
       "      <th>Unemployment</th>\n",
       "      <th>IsHoliday_y</th>\n",
       "    </tr>\n",
       "  </thead>\n",
       "  <tbody>\n",
       "    <tr>\n",
       "      <th>Store</th>\n",
       "      <td>1.000000</td>\n",
       "      <td>0.024004</td>\n",
       "      <td>-0.085195</td>\n",
       "      <td>-0.000548</td>\n",
       "      <td>-0.050097</td>\n",
       "      <td>0.065290</td>\n",
       "      <td>-0.119588</td>\n",
       "      <td>-0.035173</td>\n",
       "      <td>-0.031556</td>\n",
       "      <td>-0.009941</td>\n",
       "      <td>-0.026634</td>\n",
       "      <td>-0.211088</td>\n",
       "      <td>0.208552</td>\n",
       "      <td>-0.000548</td>\n",
       "    </tr>\n",
       "    <tr>\n",
       "      <th>Dept</th>\n",
       "      <td>0.024004</td>\n",
       "      <td>1.000000</td>\n",
       "      <td>0.148032</td>\n",
       "      <td>0.000916</td>\n",
       "      <td>0.004437</td>\n",
       "      <td>0.003572</td>\n",
       "      <td>-0.002426</td>\n",
       "      <td>0.000290</td>\n",
       "      <td>0.001784</td>\n",
       "      <td>0.004257</td>\n",
       "      <td>0.000109</td>\n",
       "      <td>-0.007477</td>\n",
       "      <td>0.007837</td>\n",
       "      <td>0.000916</td>\n",
       "    </tr>\n",
       "    <tr>\n",
       "      <th>Weekly_Sales</th>\n",
       "      <td>-0.085195</td>\n",
       "      <td>0.148032</td>\n",
       "      <td>1.000000</td>\n",
       "      <td>0.012774</td>\n",
       "      <td>-0.002312</td>\n",
       "      <td>-0.000120</td>\n",
       "      <td>0.085251</td>\n",
       "      <td>0.024130</td>\n",
       "      <td>0.060385</td>\n",
       "      <td>0.045414</td>\n",
       "      <td>0.090362</td>\n",
       "      <td>-0.020921</td>\n",
       "      <td>-0.025864</td>\n",
       "      <td>0.012774</td>\n",
       "    </tr>\n",
       "    <tr>\n",
       "      <th>IsHoliday_x</th>\n",
       "      <td>-0.000548</td>\n",
       "      <td>0.000916</td>\n",
       "      <td>0.012774</td>\n",
       "      <td>1.000000</td>\n",
       "      <td>-0.155949</td>\n",
       "      <td>-0.078281</td>\n",
       "      <td>-0.035586</td>\n",
       "      <td>0.334818</td>\n",
       "      <td>0.427960</td>\n",
       "      <td>-0.000562</td>\n",
       "      <td>-0.053719</td>\n",
       "      <td>-0.001944</td>\n",
       "      <td>0.010460</td>\n",
       "      <td>1.000000</td>\n",
       "    </tr>\n",
       "    <tr>\n",
       "      <th>Temperature</th>\n",
       "      <td>-0.050097</td>\n",
       "      <td>0.004437</td>\n",
       "      <td>-0.002312</td>\n",
       "      <td>-0.155949</td>\n",
       "      <td>1.000000</td>\n",
       "      <td>0.143859</td>\n",
       "      <td>-0.040594</td>\n",
       "      <td>-0.323927</td>\n",
       "      <td>-0.096880</td>\n",
       "      <td>-0.063947</td>\n",
       "      <td>-0.017544</td>\n",
       "      <td>0.182112</td>\n",
       "      <td>0.096730</td>\n",
       "      <td>-0.155949</td>\n",
       "    </tr>\n",
       "    <tr>\n",
       "      <th>Fuel_Price</th>\n",
       "      <td>0.065290</td>\n",
       "      <td>0.003572</td>\n",
       "      <td>-0.000120</td>\n",
       "      <td>-0.078281</td>\n",
       "      <td>0.143859</td>\n",
       "      <td>1.000000</td>\n",
       "      <td>0.061371</td>\n",
       "      <td>-0.220895</td>\n",
       "      <td>-0.102092</td>\n",
       "      <td>-0.044986</td>\n",
       "      <td>-0.128065</td>\n",
       "      <td>-0.164210</td>\n",
       "      <td>-0.033853</td>\n",
       "      <td>-0.078281</td>\n",
       "    </tr>\n",
       "    <tr>\n",
       "      <th>MarkDown1</th>\n",
       "      <td>-0.119588</td>\n",
       "      <td>-0.002426</td>\n",
       "      <td>0.085251</td>\n",
       "      <td>-0.035586</td>\n",
       "      <td>-0.040594</td>\n",
       "      <td>0.061371</td>\n",
       "      <td>1.000000</td>\n",
       "      <td>0.024486</td>\n",
       "      <td>-0.108115</td>\n",
       "      <td>0.819238</td>\n",
       "      <td>0.160257</td>\n",
       "      <td>-0.055558</td>\n",
       "      <td>0.050285</td>\n",
       "      <td>-0.035586</td>\n",
       "    </tr>\n",
       "    <tr>\n",
       "      <th>MarkDown2</th>\n",
       "      <td>-0.035173</td>\n",
       "      <td>0.000290</td>\n",
       "      <td>0.024130</td>\n",
       "      <td>0.334818</td>\n",
       "      <td>-0.323927</td>\n",
       "      <td>-0.220895</td>\n",
       "      <td>0.024486</td>\n",
       "      <td>1.000000</td>\n",
       "      <td>-0.050108</td>\n",
       "      <td>-0.007768</td>\n",
       "      <td>-0.007440</td>\n",
       "      <td>-0.039534</td>\n",
       "      <td>0.020940</td>\n",
       "      <td>0.334818</td>\n",
       "    </tr>\n",
       "    <tr>\n",
       "      <th>MarkDown3</th>\n",
       "      <td>-0.031556</td>\n",
       "      <td>0.001784</td>\n",
       "      <td>0.060385</td>\n",
       "      <td>0.427960</td>\n",
       "      <td>-0.096880</td>\n",
       "      <td>-0.102092</td>\n",
       "      <td>-0.108115</td>\n",
       "      <td>-0.050108</td>\n",
       "      <td>1.000000</td>\n",
       "      <td>-0.071095</td>\n",
       "      <td>-0.026467</td>\n",
       "      <td>-0.023590</td>\n",
       "      <td>0.012818</td>\n",
       "      <td>0.427960</td>\n",
       "    </tr>\n",
       "    <tr>\n",
       "      <th>MarkDown4</th>\n",
       "      <td>-0.009941</td>\n",
       "      <td>0.004257</td>\n",
       "      <td>0.045414</td>\n",
       "      <td>-0.000562</td>\n",
       "      <td>-0.063947</td>\n",
       "      <td>-0.044986</td>\n",
       "      <td>0.819238</td>\n",
       "      <td>-0.007768</td>\n",
       "      <td>-0.071095</td>\n",
       "      <td>1.000000</td>\n",
       "      <td>0.107792</td>\n",
       "      <td>-0.049628</td>\n",
       "      <td>0.024963</td>\n",
       "      <td>-0.000562</td>\n",
       "    </tr>\n",
       "    <tr>\n",
       "      <th>MarkDown5</th>\n",
       "      <td>-0.026634</td>\n",
       "      <td>0.000109</td>\n",
       "      <td>0.090362</td>\n",
       "      <td>-0.053719</td>\n",
       "      <td>-0.017544</td>\n",
       "      <td>-0.128065</td>\n",
       "      <td>0.160257</td>\n",
       "      <td>-0.007440</td>\n",
       "      <td>-0.026467</td>\n",
       "      <td>0.107792</td>\n",
       "      <td>1.000000</td>\n",
       "      <td>0.060630</td>\n",
       "      <td>-0.003843</td>\n",
       "      <td>-0.053719</td>\n",
       "    </tr>\n",
       "    <tr>\n",
       "      <th>CPI</th>\n",
       "      <td>-0.211088</td>\n",
       "      <td>-0.007477</td>\n",
       "      <td>-0.020921</td>\n",
       "      <td>-0.001944</td>\n",
       "      <td>0.182112</td>\n",
       "      <td>-0.164210</td>\n",
       "      <td>-0.055558</td>\n",
       "      <td>-0.039534</td>\n",
       "      <td>-0.023590</td>\n",
       "      <td>-0.049628</td>\n",
       "      <td>0.060630</td>\n",
       "      <td>1.000000</td>\n",
       "      <td>-0.299953</td>\n",
       "      <td>-0.001944</td>\n",
       "    </tr>\n",
       "    <tr>\n",
       "      <th>Unemployment</th>\n",
       "      <td>0.208552</td>\n",
       "      <td>0.007837</td>\n",
       "      <td>-0.025864</td>\n",
       "      <td>0.010460</td>\n",
       "      <td>0.096730</td>\n",
       "      <td>-0.033853</td>\n",
       "      <td>0.050285</td>\n",
       "      <td>0.020940</td>\n",
       "      <td>0.012818</td>\n",
       "      <td>0.024963</td>\n",
       "      <td>-0.003843</td>\n",
       "      <td>-0.299953</td>\n",
       "      <td>1.000000</td>\n",
       "      <td>0.010460</td>\n",
       "    </tr>\n",
       "    <tr>\n",
       "      <th>IsHoliday_y</th>\n",
       "      <td>-0.000548</td>\n",
       "      <td>0.000916</td>\n",
       "      <td>0.012774</td>\n",
       "      <td>1.000000</td>\n",
       "      <td>-0.155949</td>\n",
       "      <td>-0.078281</td>\n",
       "      <td>-0.035586</td>\n",
       "      <td>0.334818</td>\n",
       "      <td>0.427960</td>\n",
       "      <td>-0.000562</td>\n",
       "      <td>-0.053719</td>\n",
       "      <td>-0.001944</td>\n",
       "      <td>0.010460</td>\n",
       "      <td>1.000000</td>\n",
       "    </tr>\n",
       "  </tbody>\n",
       "</table>\n",
       "</div>"
      ],
      "text/plain": [
       "                 Store      Dept  Weekly_Sales  IsHoliday_x  Temperature  \\\n",
       "Store         1.000000  0.024004     -0.085195    -0.000548    -0.050097   \n",
       "Dept          0.024004  1.000000      0.148032     0.000916     0.004437   \n",
       "Weekly_Sales -0.085195  0.148032      1.000000     0.012774    -0.002312   \n",
       "IsHoliday_x  -0.000548  0.000916      0.012774     1.000000    -0.155949   \n",
       "Temperature  -0.050097  0.004437     -0.002312    -0.155949     1.000000   \n",
       "Fuel_Price    0.065290  0.003572     -0.000120    -0.078281     0.143859   \n",
       "MarkDown1    -0.119588 -0.002426      0.085251    -0.035586    -0.040594   \n",
       "MarkDown2    -0.035173  0.000290      0.024130     0.334818    -0.323927   \n",
       "MarkDown3    -0.031556  0.001784      0.060385     0.427960    -0.096880   \n",
       "MarkDown4    -0.009941  0.004257      0.045414    -0.000562    -0.063947   \n",
       "MarkDown5    -0.026634  0.000109      0.090362    -0.053719    -0.017544   \n",
       "CPI          -0.211088 -0.007477     -0.020921    -0.001944     0.182112   \n",
       "Unemployment  0.208552  0.007837     -0.025864     0.010460     0.096730   \n",
       "IsHoliday_y  -0.000548  0.000916      0.012774     1.000000    -0.155949   \n",
       "\n",
       "              Fuel_Price  MarkDown1  MarkDown2  MarkDown3  MarkDown4  \\\n",
       "Store           0.065290  -0.119588  -0.035173  -0.031556  -0.009941   \n",
       "Dept            0.003572  -0.002426   0.000290   0.001784   0.004257   \n",
       "Weekly_Sales   -0.000120   0.085251   0.024130   0.060385   0.045414   \n",
       "IsHoliday_x    -0.078281  -0.035586   0.334818   0.427960  -0.000562   \n",
       "Temperature     0.143859  -0.040594  -0.323927  -0.096880  -0.063947   \n",
       "Fuel_Price      1.000000   0.061371  -0.220895  -0.102092  -0.044986   \n",
       "MarkDown1       0.061371   1.000000   0.024486  -0.108115   0.819238   \n",
       "MarkDown2      -0.220895   0.024486   1.000000  -0.050108  -0.007768   \n",
       "MarkDown3      -0.102092  -0.108115  -0.050108   1.000000  -0.071095   \n",
       "MarkDown4      -0.044986   0.819238  -0.007768  -0.071095   1.000000   \n",
       "MarkDown5      -0.128065   0.160257  -0.007440  -0.026467   0.107792   \n",
       "CPI            -0.164210  -0.055558  -0.039534  -0.023590  -0.049628   \n",
       "Unemployment   -0.033853   0.050285   0.020940   0.012818   0.024963   \n",
       "IsHoliday_y    -0.078281  -0.035586   0.334818   0.427960  -0.000562   \n",
       "\n",
       "              MarkDown5       CPI  Unemployment  IsHoliday_y  \n",
       "Store         -0.026634 -0.211088      0.208552    -0.000548  \n",
       "Dept           0.000109 -0.007477      0.007837     0.000916  \n",
       "Weekly_Sales   0.090362 -0.020921     -0.025864     0.012774  \n",
       "IsHoliday_x   -0.053719 -0.001944      0.010460     1.000000  \n",
       "Temperature   -0.017544  0.182112      0.096730    -0.155949  \n",
       "Fuel_Price    -0.128065 -0.164210     -0.033853    -0.078281  \n",
       "MarkDown1      0.160257 -0.055558      0.050285    -0.035586  \n",
       "MarkDown2     -0.007440 -0.039534      0.020940     0.334818  \n",
       "MarkDown3     -0.026467 -0.023590      0.012818     0.427960  \n",
       "MarkDown4      0.107792 -0.049628      0.024963    -0.000562  \n",
       "MarkDown5      1.000000  0.060630     -0.003843    -0.053719  \n",
       "CPI            0.060630  1.000000     -0.299953    -0.001944  \n",
       "Unemployment  -0.003843 -0.299953      1.000000     0.010460  \n",
       "IsHoliday_y   -0.053719 -0.001944      0.010460     1.000000  "
      ]
     },
     "execution_count": 8,
     "metadata": {},
     "output_type": "execute_result"
    }
   ],
   "source": [
    "walmartCorr = walmartDF.corr(method='pearson')\n",
    "walmartCorr"
   ]
  },
  {
   "cell_type": "code",
   "execution_count": 9,
   "metadata": {},
   "outputs": [
    {
     "data": {
      "text/plain": [
       "<matplotlib.image.AxesImage at 0x27730c15240>"
      ]
     },
     "execution_count": 9,
     "metadata": {},
     "output_type": "execute_result"
    },
    {
     "data": {
      "image/png": "[encoded data removed]",
      "text/plain": [
       "<matplotlib.figure.Figure at 0x277224fde10>"
      ]
     },
     "metadata": {},
     "output_type": "display_data"
    }
   ],
   "source": [
    "a,b = plt.subplots(figsize=(6,6))\n",
    "b.matshow(walmartCorr)\n",
    "#plt.xticks(range(walmartCorr.columns), walmartCorr.columns)\n",
    "#plt.yticks(range(walmartCorr.columns),walmartCorr.columns)\n",
    "#plt.plot(walmartDF.corr())"
   ]
  },
  {
   "cell_type": "code",
   "execution_count": 10,
   "metadata": {},
   "outputs": [
    {
     "data": {
      "text/html": [
       "<div>\n",
       "<style>\n",
       "    .dataframe thead tr:only-child th {\n",
       "        text-align: right;\n",
       "    }\n",
       "\n",
       "    .dataframe thead th {\n",
       "        text-align: left;\n",
       "    }\n",
       "\n",
       "    .dataframe tbody tr th {\n",
       "        vertical-align: top;\n",
       "    }\n",
       "</style>\n",
       "<table border=\"1\" class=\"dataframe\">\n",
       "  <thead>\n",
       "    <tr style=\"text-align: right;\">\n",
       "      <th></th>\n",
       "      <th>Store</th>\n",
       "      <th>Dept</th>\n",
       "      <th>Weekly_Sales</th>\n",
       "      <th>Temperature</th>\n",
       "      <th>Fuel_Price</th>\n",
       "      <th>MarkDown1</th>\n",
       "      <th>MarkDown2</th>\n",
       "      <th>MarkDown3</th>\n",
       "      <th>MarkDown4</th>\n",
       "      <th>MarkDown5</th>\n",
       "      <th>CPI</th>\n",
       "      <th>Unemployment</th>\n",
       "    </tr>\n",
       "  </thead>\n",
       "  <tbody>\n",
       "    <tr>\n",
       "      <th>count</th>\n",
       "      <td>421570.000000</td>\n",
       "      <td>421570.000000</td>\n",
       "      <td>421570.000000</td>\n",
       "      <td>421570.000000</td>\n",
       "      <td>421570.000000</td>\n",
       "      <td>150681.000000</td>\n",
       "      <td>111248.000000</td>\n",
       "      <td>137091.000000</td>\n",
       "      <td>134967.000000</td>\n",
       "      <td>151432.000000</td>\n",
       "      <td>421570.000000</td>\n",
       "      <td>421570.000000</td>\n",
       "    </tr>\n",
       "    <tr>\n",
       "      <th>mean</th>\n",
       "      <td>22.200546</td>\n",
       "      <td>44.260317</td>\n",
       "      <td>15981.258123</td>\n",
       "      <td>60.090059</td>\n",
       "      <td>3.361027</td>\n",
       "      <td>7246.420196</td>\n",
       "      <td>3334.628621</td>\n",
       "      <td>1439.421384</td>\n",
       "      <td>3383.168256</td>\n",
       "      <td>4628.975079</td>\n",
       "      <td>171.201947</td>\n",
       "      <td>7.960289</td>\n",
       "    </tr>\n",
       "    <tr>\n",
       "      <th>std</th>\n",
       "      <td>12.785297</td>\n",
       "      <td>30.492054</td>\n",
       "      <td>22711.183519</td>\n",
       "      <td>18.447931</td>\n",
       "      <td>0.458515</td>\n",
       "      <td>8291.221345</td>\n",
       "      <td>9475.357325</td>\n",
       "      <td>9623.078290</td>\n",
       "      <td>6292.384031</td>\n",
       "      <td>5962.887455</td>\n",
       "      <td>39.159276</td>\n",
       "      <td>1.863296</td>\n",
       "    </tr>\n",
       "    <tr>\n",
       "      <th>min</th>\n",
       "      <td>1.000000</td>\n",
       "      <td>1.000000</td>\n",
       "      <td>-4988.940000</td>\n",
       "      <td>-2.060000</td>\n",
       "      <td>2.472000</td>\n",
       "      <td>0.270000</td>\n",
       "      <td>-265.760000</td>\n",
       "      <td>-29.100000</td>\n",
       "      <td>0.220000</td>\n",
       "      <td>135.160000</td>\n",
       "      <td>126.064000</td>\n",
       "      <td>3.879000</td>\n",
       "    </tr>\n",
       "    <tr>\n",
       "      <th>25%</th>\n",
       "      <td>11.000000</td>\n",
       "      <td>18.000000</td>\n",
       "      <td>2079.650000</td>\n",
       "      <td>46.680000</td>\n",
       "      <td>2.933000</td>\n",
       "      <td>2240.270000</td>\n",
       "      <td>41.600000</td>\n",
       "      <td>5.080000</td>\n",
       "      <td>504.220000</td>\n",
       "      <td>1878.440000</td>\n",
       "      <td>132.022667</td>\n",
       "      <td>6.891000</td>\n",
       "    </tr>\n",
       "    <tr>\n",
       "      <th>50%</th>\n",
       "      <td>22.000000</td>\n",
       "      <td>37.000000</td>\n",
       "      <td>7612.030000</td>\n",
       "      <td>62.090000</td>\n",
       "      <td>3.452000</td>\n",
       "      <td>5347.450000</td>\n",
       "      <td>192.000000</td>\n",
       "      <td>24.600000</td>\n",
       "      <td>1481.310000</td>\n",
       "      <td>3359.450000</td>\n",
       "      <td>182.318780</td>\n",
       "      <td>7.866000</td>\n",
       "    </tr>\n",
       "    <tr>\n",
       "      <th>75%</th>\n",
       "      <td>33.000000</td>\n",
       "      <td>74.000000</td>\n",
       "      <td>20205.852500</td>\n",
       "      <td>74.280000</td>\n",
       "      <td>3.738000</td>\n",
       "      <td>9210.900000</td>\n",
       "      <td>1926.940000</td>\n",
       "      <td>103.990000</td>\n",
       "      <td>3595.040000</td>\n",
       "      <td>5563.800000</td>\n",
       "      <td>212.416993</td>\n",
       "      <td>8.572000</td>\n",
       "    </tr>\n",
       "    <tr>\n",
       "      <th>max</th>\n",
       "      <td>45.000000</td>\n",
       "      <td>99.000000</td>\n",
       "      <td>693099.360000</td>\n",
       "      <td>100.140000</td>\n",
       "      <td>4.468000</td>\n",
       "      <td>88646.760000</td>\n",
       "      <td>104519.540000</td>\n",
       "      <td>141630.610000</td>\n",
       "      <td>67474.850000</td>\n",
       "      <td>108519.280000</td>\n",
       "      <td>227.232807</td>\n",
       "      <td>14.313000</td>\n",
       "    </tr>\n",
       "  </tbody>\n",
       "</table>\n",
       "</div>"
      ],
      "text/plain": [
       "               Store           Dept   Weekly_Sales    Temperature  \\\n",
       "count  421570.000000  421570.000000  421570.000000  421570.000000   \n",
       "mean       22.200546      44.260317   15981.258123      60.090059   \n",
       "std        12.785297      30.492054   22711.183519      18.447931   \n",
       "min         1.000000       1.000000   -4988.940000      -2.060000   \n",
       "25%        11.000000      18.000000    2079.650000      46.680000   \n",
       "50%        22.000000      37.000000    7612.030000      62.090000   \n",
       "75%        33.000000      74.000000   20205.852500      74.280000   \n",
       "max        45.000000      99.000000  693099.360000     100.140000   \n",
       "\n",
       "          Fuel_Price      MarkDown1      MarkDown2      MarkDown3  \\\n",
       "count  421570.000000  150681.000000  111248.000000  137091.000000   \n",
       "mean        3.361027    7246.420196    3334.628621    1439.421384   \n",
       "std         0.458515    8291.221345    9475.357325    9623.078290   \n",
       "min         2.472000       0.270000    -265.760000     -29.100000   \n",
       "25%         2.933000    2240.270000      41.600000       5.080000   \n",
       "50%         3.452000    5347.450000     192.000000      24.600000   \n",
       "75%         3.738000    9210.900000    1926.940000     103.990000   \n",
       "max         4.468000   88646.760000  104519.540000  141630.610000   \n",
       "\n",
       "           MarkDown4      MarkDown5            CPI   Unemployment  \n",
       "count  134967.000000  151432.000000  421570.000000  421570.000000  \n",
       "mean     3383.168256    4628.975079     171.201947       7.960289  \n",
       "std      6292.384031    5962.887455      39.159276       1.863296  \n",
       "min         0.220000     135.160000     126.064000       3.879000  \n",
       "25%       504.220000    1878.440000     132.022667       6.891000  \n",
       "50%      1481.310000    3359.450000     182.318780       7.866000  \n",
       "75%      3595.040000    5563.800000     212.416993       8.572000  \n",
       "max     67474.850000  108519.280000     227.232807      14.313000  "
      ]
     },
     "execution_count": 10,
     "metadata": {},
     "output_type": "execute_result"
    }
   ],
   "source": [
    "walmartDF.describe()"
   ]
  },
  {
   "cell_type": "code",
   "execution_count": 11,
   "metadata": {},
   "outputs": [
    {
     "data": {
      "text/plain": [
       "(421570, 15)"
      ]
     },
     "execution_count": 11,
     "metadata": {},
     "output_type": "execute_result"
    }
   ],
   "source": [
    "walmartDF.shape"
   ]
  },
  {
   "cell_type": "code",
   "execution_count": 12,
   "metadata": {},
   "outputs": [
    {
     "data": {
      "text/html": [
       "<div>\n",
       "<style>\n",
       "    .dataframe thead tr:only-child th {\n",
       "        text-align: right;\n",
       "    }\n",
       "\n",
       "    .dataframe thead th {\n",
       "        text-align: left;\n",
       "    }\n",
       "\n",
       "    .dataframe tbody tr th {\n",
       "        vertical-align: top;\n",
       "    }\n",
       "</style>\n",
       "<table border=\"1\" class=\"dataframe\">\n",
       "  <thead>\n",
       "    <tr style=\"text-align: right;\">\n",
       "      <th></th>\n",
       "      <th>Store</th>\n",
       "      <th>Dept</th>\n",
       "      <th>Date</th>\n",
       "      <th>Weekly_Sales</th>\n",
       "      <th>IsHoliday_x</th>\n",
       "      <th>Temperature</th>\n",
       "      <th>Fuel_Price</th>\n",
       "      <th>MarkDown1</th>\n",
       "      <th>MarkDown2</th>\n",
       "      <th>MarkDown3</th>\n",
       "      <th>MarkDown4</th>\n",
       "      <th>MarkDown5</th>\n",
       "      <th>CPI</th>\n",
       "      <th>Unemployment</th>\n",
       "      <th>IsHoliday_y</th>\n",
       "    </tr>\n",
       "  </thead>\n",
       "  <tbody>\n",
       "    <tr>\n",
       "      <th>0</th>\n",
       "      <td>1</td>\n",
       "      <td>1</td>\n",
       "      <td>2/5/2010</td>\n",
       "      <td>24924.50</td>\n",
       "      <td>False</td>\n",
       "      <td>42.31</td>\n",
       "      <td>2.572</td>\n",
       "      <td>NaN</td>\n",
       "      <td>NaN</td>\n",
       "      <td>NaN</td>\n",
       "      <td>NaN</td>\n",
       "      <td>NaN</td>\n",
       "      <td>211.096358</td>\n",
       "      <td>8.106</td>\n",
       "      <td>False</td>\n",
       "    </tr>\n",
       "    <tr>\n",
       "      <th>1</th>\n",
       "      <td>1</td>\n",
       "      <td>2</td>\n",
       "      <td>2/5/2010</td>\n",
       "      <td>50605.27</td>\n",
       "      <td>False</td>\n",
       "      <td>42.31</td>\n",
       "      <td>2.572</td>\n",
       "      <td>NaN</td>\n",
       "      <td>NaN</td>\n",
       "      <td>NaN</td>\n",
       "      <td>NaN</td>\n",
       "      <td>NaN</td>\n",
       "      <td>211.096358</td>\n",
       "      <td>8.106</td>\n",
       "      <td>False</td>\n",
       "    </tr>\n",
       "    <tr>\n",
       "      <th>2</th>\n",
       "      <td>1</td>\n",
       "      <td>3</td>\n",
       "      <td>2/5/2010</td>\n",
       "      <td>13740.12</td>\n",
       "      <td>False</td>\n",
       "      <td>42.31</td>\n",
       "      <td>2.572</td>\n",
       "      <td>NaN</td>\n",
       "      <td>NaN</td>\n",
       "      <td>NaN</td>\n",
       "      <td>NaN</td>\n",
       "      <td>NaN</td>\n",
       "      <td>211.096358</td>\n",
       "      <td>8.106</td>\n",
       "      <td>False</td>\n",
       "    </tr>\n",
       "    <tr>\n",
       "      <th>3</th>\n",
       "      <td>1</td>\n",
       "      <td>4</td>\n",
       "      <td>2/5/2010</td>\n",
       "      <td>39954.04</td>\n",
       "      <td>False</td>\n",
       "      <td>42.31</td>\n",
       "      <td>2.572</td>\n",
       "      <td>NaN</td>\n",
       "      <td>NaN</td>\n",
       "      <td>NaN</td>\n",
       "      <td>NaN</td>\n",
       "      <td>NaN</td>\n",
       "      <td>211.096358</td>\n",
       "      <td>8.106</td>\n",
       "      <td>False</td>\n",
       "    </tr>\n",
       "    <tr>\n",
       "      <th>4</th>\n",
       "      <td>1</td>\n",
       "      <td>5</td>\n",
       "      <td>2/5/2010</td>\n",
       "      <td>32229.38</td>\n",
       "      <td>False</td>\n",
       "      <td>42.31</td>\n",
       "      <td>2.572</td>\n",
       "      <td>NaN</td>\n",
       "      <td>NaN</td>\n",
       "      <td>NaN</td>\n",
       "      <td>NaN</td>\n",
       "      <td>NaN</td>\n",
       "      <td>211.096358</td>\n",
       "      <td>8.106</td>\n",
       "      <td>False</td>\n",
       "    </tr>\n",
       "  </tbody>\n",
       "</table>\n",
       "</div>"
      ],
      "text/plain": [
       "   Store  Dept      Date  Weekly_Sales  IsHoliday_x  Temperature  Fuel_Price  \\\n",
       "0      1     1  2/5/2010      24924.50        False        42.31       2.572   \n",
       "1      1     2  2/5/2010      50605.27        False        42.31       2.572   \n",
       "2      1     3  2/5/2010      13740.12        False        42.31       2.572   \n",
       "3      1     4  2/5/2010      39954.04        False        42.31       2.572   \n",
       "4      1     5  2/5/2010      32229.38        False        42.31       2.572   \n",
       "\n",
       "   MarkDown1  MarkDown2  MarkDown3  MarkDown4  MarkDown5         CPI  \\\n",
       "0        NaN        NaN        NaN        NaN        NaN  211.096358   \n",
       "1        NaN        NaN        NaN        NaN        NaN  211.096358   \n",
       "2        NaN        NaN        NaN        NaN        NaN  211.096358   \n",
       "3        NaN        NaN        NaN        NaN        NaN  211.096358   \n",
       "4        NaN        NaN        NaN        NaN        NaN  211.096358   \n",
       "\n",
       "   Unemployment  IsHoliday_y  \n",
       "0         8.106        False  \n",
       "1         8.106        False  \n",
       "2         8.106        False  \n",
       "3         8.106        False  \n",
       "4         8.106        False  "
      ]
     },
     "execution_count": 12,
     "metadata": {},
     "output_type": "execute_result"
    }
   ],
   "source": [
    "walmartDF.head()"
   ]
  },
  {
   "cell_type": "code",
   "execution_count": 13,
   "metadata": {},
   "outputs": [
    {
     "data": {
      "text/plain": [
       "Store\n",
       "1    2.224028e+08\n",
       "2    2.753824e+08\n",
       "3    5.758674e+07\n",
       "4    2.995440e+08\n",
       "5    4.547569e+07\n",
       "Name: Weekly_Sales, dtype: float64"
      ]
     },
     "execution_count": 13,
     "metadata": {},
     "output_type": "execute_result"
    }
   ],
   "source": [
    "salesByStore = walmartDF.groupby('Store')['Weekly_Sales'].apply(lambda x : np.sum(x)) \n",
    "salesByStore.head()"
   ]
  },
  {
   "cell_type": "code",
   "execution_count": 14,
   "metadata": {},
   "outputs": [
    {
     "data": {
      "text/html": [
       "<div>\n",
       "<style>\n",
       "    .dataframe thead tr:only-child th {\n",
       "        text-align: right;\n",
       "    }\n",
       "\n",
       "    .dataframe thead th {\n",
       "        text-align: left;\n",
       "    }\n",
       "\n",
       "    .dataframe tbody tr th {\n",
       "        vertical-align: top;\n",
       "    }\n",
       "</style>\n",
       "<table border=\"1\" class=\"dataframe\">\n",
       "  <thead>\n",
       "    <tr style=\"text-align: right;\">\n",
       "      <th></th>\n",
       "      <th>Store</th>\n",
       "      <th>Date</th>\n",
       "      <th>Weekly_Sales</th>\n",
       "    </tr>\n",
       "  </thead>\n",
       "  <tbody>\n",
       "    <tr>\n",
       "      <th>0</th>\n",
       "      <td>1</td>\n",
       "      <td>1/13/2012</td>\n",
       "      <td>1459601.17</td>\n",
       "    </tr>\n",
       "    <tr>\n",
       "      <th>1</th>\n",
       "      <td>1</td>\n",
       "      <td>1/14/2011</td>\n",
       "      <td>1391013.96</td>\n",
       "    </tr>\n",
       "    <tr>\n",
       "      <th>2</th>\n",
       "      <td>1</td>\n",
       "      <td>1/20/2012</td>\n",
       "      <td>1394393.84</td>\n",
       "    </tr>\n",
       "    <tr>\n",
       "      <th>3</th>\n",
       "      <td>1</td>\n",
       "      <td>1/21/2011</td>\n",
       "      <td>1327405.42</td>\n",
       "    </tr>\n",
       "    <tr>\n",
       "      <th>4</th>\n",
       "      <td>1</td>\n",
       "      <td>1/27/2012</td>\n",
       "      <td>1319325.59</td>\n",
       "    </tr>\n",
       "  </tbody>\n",
       "</table>\n",
       "</div>"
      ],
      "text/plain": [
       "   Store       Date  Weekly_Sales\n",
       "0      1  1/13/2012    1459601.17\n",
       "1      1  1/14/2011    1391013.96\n",
       "2      1  1/20/2012    1394393.84\n",
       "3      1  1/21/2011    1327405.42\n",
       "4      1  1/27/2012    1319325.59"
      ]
     },
     "execution_count": 14,
     "metadata": {},
     "output_type": "execute_result"
    }
   ],
   "source": [
    "salesByStoreDate = walmartDF.groupby(['Store','Date'])['Weekly_Sales'].apply(lambda x : np.sum(x))\n",
    "salesByStoreDate1 = salesByStoreDate.reset_index()\n",
    "salesByStoreDate1.head()"
   ]
  },
  {
   "cell_type": "code",
   "execution_count": 15,
   "metadata": {},
   "outputs": [
    {
     "data": {
      "text/plain": [
       "array([ 1,  2,  3,  4,  5,  6,  7,  8,  9, 10, 11, 12, 13, 14, 15, 16, 17,\n",
       "       18, 19, 20, 21, 22, 23, 24, 25, 26, 27, 28, 29, 30, 31, 32, 33, 34,\n",
       "       35, 36, 37, 38, 39, 40, 41, 42, 43, 44, 45], dtype=int64)"
      ]
     },
     "execution_count": 15,
     "metadata": {},
     "output_type": "execute_result"
    }
   ],
   "source": [
    "walmartDF.Store.unique()"
   ]
  },
  {
   "cell_type": "code",
   "execution_count": 16,
   "metadata": {},
   "outputs": [
    {
     "data": {
      "text/html": [
       "<div>\n",
       "<style>\n",
       "    .dataframe thead tr:only-child th {\n",
       "        text-align: right;\n",
       "    }\n",
       "\n",
       "    .dataframe thead th {\n",
       "        text-align: left;\n",
       "    }\n",
       "\n",
       "    .dataframe tbody tr th {\n",
       "        vertical-align: top;\n",
       "    }\n",
       "</style>\n",
       "<table border=\"1\" class=\"dataframe\">\n",
       "  <thead>\n",
       "    <tr style=\"text-align: right;\">\n",
       "      <th></th>\n",
       "      <th>Store</th>\n",
       "      <th>Dept</th>\n",
       "      <th>Weekly_Sales</th>\n",
       "    </tr>\n",
       "  </thead>\n",
       "  <tbody>\n",
       "    <tr>\n",
       "      <th>0</th>\n",
       "      <td>1</td>\n",
       "      <td>1</td>\n",
       "      <td>3219405.18</td>\n",
       "    </tr>\n",
       "    <tr>\n",
       "      <th>1</th>\n",
       "      <td>1</td>\n",
       "      <td>2</td>\n",
       "      <td>6592598.93</td>\n",
       "    </tr>\n",
       "    <tr>\n",
       "      <th>2</th>\n",
       "      <td>1</td>\n",
       "      <td>3</td>\n",
       "      <td>1880518.36</td>\n",
       "    </tr>\n",
       "    <tr>\n",
       "      <th>3</th>\n",
       "      <td>1</td>\n",
       "      <td>4</td>\n",
       "      <td>5285874.09</td>\n",
       "    </tr>\n",
       "    <tr>\n",
       "      <th>4</th>\n",
       "      <td>1</td>\n",
       "      <td>5</td>\n",
       "      <td>3468885.58</td>\n",
       "    </tr>\n",
       "  </tbody>\n",
       "</table>\n",
       "</div>"
      ],
      "text/plain": [
       "   Store  Dept  Weekly_Sales\n",
       "0      1     1    3219405.18\n",
       "1      1     2    6592598.93\n",
       "2      1     3    1880518.36\n",
       "3      1     4    5285874.09\n",
       "4      1     5    3468885.58"
      ]
     },
     "execution_count": 16,
     "metadata": {},
     "output_type": "execute_result"
    }
   ],
   "source": [
    "salesByStoreDept = walmartDF.groupby(['Store','Dept'])['Weekly_Sales'].apply(lambda x : np.sum(x)) \n",
    "salesByStoreDept.reset_index().head()"
   ]
  },
  {
   "cell_type": "code",
   "execution_count": 17,
   "metadata": {
    "collapsed": true
   },
   "outputs": [],
   "source": [
    "salesByStoreDF1 = pd.DataFrame(salesByStore)"
   ]
  },
  {
   "cell_type": "code",
   "execution_count": 18,
   "metadata": {},
   "outputs": [
    {
     "data": {
      "image/png": "[encoded data removed]",
      "text/plain": [
       "<matplotlib.figure.Figure at 0x27722b67828>"
      ]
     },
     "metadata": {},
     "output_type": "display_data"
    }
   ],
   "source": [
    "plt.plot(salesByStoreDF1.index, salesByStoreDF1['Weekly_Sales'])\n",
    "#plt.xticks(range(salesByStoreDF1.index),salesByStoreDF1.index)\n",
    "plt.show()"
   ]
  },
  {
   "cell_type": "code",
   "execution_count": 19,
   "metadata": {},
   "outputs": [
    {
     "data": {
      "text/html": [
       "<div>\n",
       "<style>\n",
       "    .dataframe thead tr:only-child th {\n",
       "        text-align: right;\n",
       "    }\n",
       "\n",
       "    .dataframe thead th {\n",
       "        text-align: left;\n",
       "    }\n",
       "\n",
       "    .dataframe tbody tr th {\n",
       "        vertical-align: top;\n",
       "    }\n",
       "</style>\n",
       "<table border=\"1\" class=\"dataframe\">\n",
       "  <thead>\n",
       "    <tr style=\"text-align: right;\">\n",
       "      <th></th>\n",
       "      <th>Store</th>\n",
       "      <th>Date</th>\n",
       "      <th>Weekly_Sales</th>\n",
       "    </tr>\n",
       "  </thead>\n",
       "  <tbody>\n",
       "    <tr>\n",
       "      <th>0</th>\n",
       "      <td>1</td>\n",
       "      <td>1/13/2012</td>\n",
       "      <td>1459601.17</td>\n",
       "    </tr>\n",
       "    <tr>\n",
       "      <th>1</th>\n",
       "      <td>1</td>\n",
       "      <td>1/14/2011</td>\n",
       "      <td>1391013.96</td>\n",
       "    </tr>\n",
       "    <tr>\n",
       "      <th>2</th>\n",
       "      <td>1</td>\n",
       "      <td>1/20/2012</td>\n",
       "      <td>1394393.84</td>\n",
       "    </tr>\n",
       "    <tr>\n",
       "      <th>3</th>\n",
       "      <td>1</td>\n",
       "      <td>1/21/2011</td>\n",
       "      <td>1327405.42</td>\n",
       "    </tr>\n",
       "    <tr>\n",
       "      <th>4</th>\n",
       "      <td>1</td>\n",
       "      <td>1/27/2012</td>\n",
       "      <td>1319325.59</td>\n",
       "    </tr>\n",
       "  </tbody>\n",
       "</table>\n",
       "</div>"
      ],
      "text/plain": [
       "   Store       Date  Weekly_Sales\n",
       "0      1  1/13/2012    1459601.17\n",
       "1      1  1/14/2011    1391013.96\n",
       "2      1  1/20/2012    1394393.84\n",
       "3      1  1/21/2011    1327405.42\n",
       "4      1  1/27/2012    1319325.59"
      ]
     },
     "execution_count": 19,
     "metadata": {},
     "output_type": "execute_result"
    }
   ],
   "source": [
    "salesByStoreDF = pd.DataFrame(salesByStoreDate1)\n",
    "salesByStoreDF.head()\n"
   ]
  },
  {
   "cell_type": "code",
   "execution_count": 20,
   "metadata": {},
   "outputs": [
    {
     "data": {
      "text/html": [
       "<div>\n",
       "<style>\n",
       "    .dataframe thead tr:only-child th {\n",
       "        text-align: right;\n",
       "    }\n",
       "\n",
       "    .dataframe thead th {\n",
       "        text-align: left;\n",
       "    }\n",
       "\n",
       "    .dataframe tbody tr th {\n",
       "        vertical-align: top;\n",
       "    }\n",
       "</style>\n",
       "<table border=\"1\" class=\"dataframe\">\n",
       "  <thead>\n",
       "    <tr style=\"text-align: right;\">\n",
       "      <th></th>\n",
       "      <th>Store</th>\n",
       "      <th>Date</th>\n",
       "      <th>Weekly_Sales</th>\n",
       "    </tr>\n",
       "  </thead>\n",
       "  <tbody>\n",
       "    <tr>\n",
       "      <th>1893</th>\n",
       "      <td>14</td>\n",
       "      <td>12/24/2010</td>\n",
       "      <td>3818686.45</td>\n",
       "    </tr>\n",
       "  </tbody>\n",
       "</table>\n",
       "</div>"
      ],
      "text/plain": [
       "      Store        Date  Weekly_Sales\n",
       "1893     14  12/24/2010    3818686.45"
      ]
     },
     "execution_count": 20,
     "metadata": {},
     "output_type": "execute_result"
    }
   ],
   "source": [
    "salesByStoreDF[salesByStoreDF.Weekly_Sales == salesByStoreDF.Weekly_Sales.max()]"
   ]
  },
  {
   "cell_type": "code",
   "execution_count": 21,
   "metadata": {},
   "outputs": [
    {
     "data": {
      "text/html": [
       "<div>\n",
       "<style>\n",
       "    .dataframe thead tr:only-child th {\n",
       "        text-align: right;\n",
       "    }\n",
       "\n",
       "    .dataframe thead th {\n",
       "        text-align: left;\n",
       "    }\n",
       "\n",
       "    .dataframe tbody tr th {\n",
       "        vertical-align: top;\n",
       "    }\n",
       "</style>\n",
       "<table border=\"1\" class=\"dataframe\">\n",
       "  <thead>\n",
       "    <tr style=\"text-align: right;\">\n",
       "      <th></th>\n",
       "      <th>Store</th>\n",
       "      <th>Dept</th>\n",
       "      <th>Date</th>\n",
       "      <th>Weekly_Sales</th>\n",
       "      <th>IsHoliday_x</th>\n",
       "      <th>Temperature</th>\n",
       "      <th>Fuel_Price</th>\n",
       "      <th>MarkDown1</th>\n",
       "      <th>MarkDown2</th>\n",
       "      <th>MarkDown3</th>\n",
       "      <th>MarkDown4</th>\n",
       "      <th>MarkDown5</th>\n",
       "      <th>CPI</th>\n",
       "      <th>Unemployment</th>\n",
       "      <th>IsHoliday_y</th>\n",
       "    </tr>\n",
       "  </thead>\n",
       "  <tbody>\n",
       "    <tr>\n",
       "      <th>421565</th>\n",
       "      <td>45</td>\n",
       "      <td>93</td>\n",
       "      <td>10/26/2012</td>\n",
       "      <td>2487.80</td>\n",
       "      <td>False</td>\n",
       "      <td>58.85</td>\n",
       "      <td>3.882</td>\n",
       "      <td>4018.91</td>\n",
       "      <td>58.08</td>\n",
       "      <td>100.0</td>\n",
       "      <td>211.94</td>\n",
       "      <td>858.33</td>\n",
       "      <td>192.308899</td>\n",
       "      <td>8.667</td>\n",
       "      <td>False</td>\n",
       "    </tr>\n",
       "    <tr>\n",
       "      <th>421566</th>\n",
       "      <td>45</td>\n",
       "      <td>94</td>\n",
       "      <td>10/26/2012</td>\n",
       "      <td>5203.31</td>\n",
       "      <td>False</td>\n",
       "      <td>58.85</td>\n",
       "      <td>3.882</td>\n",
       "      <td>4018.91</td>\n",
       "      <td>58.08</td>\n",
       "      <td>100.0</td>\n",
       "      <td>211.94</td>\n",
       "      <td>858.33</td>\n",
       "      <td>192.308899</td>\n",
       "      <td>8.667</td>\n",
       "      <td>False</td>\n",
       "    </tr>\n",
       "    <tr>\n",
       "      <th>421567</th>\n",
       "      <td>45</td>\n",
       "      <td>95</td>\n",
       "      <td>10/26/2012</td>\n",
       "      <td>56017.47</td>\n",
       "      <td>False</td>\n",
       "      <td>58.85</td>\n",
       "      <td>3.882</td>\n",
       "      <td>4018.91</td>\n",
       "      <td>58.08</td>\n",
       "      <td>100.0</td>\n",
       "      <td>211.94</td>\n",
       "      <td>858.33</td>\n",
       "      <td>192.308899</td>\n",
       "      <td>8.667</td>\n",
       "      <td>False</td>\n",
       "    </tr>\n",
       "    <tr>\n",
       "      <th>421568</th>\n",
       "      <td>45</td>\n",
       "      <td>97</td>\n",
       "      <td>10/26/2012</td>\n",
       "      <td>6817.48</td>\n",
       "      <td>False</td>\n",
       "      <td>58.85</td>\n",
       "      <td>3.882</td>\n",
       "      <td>4018.91</td>\n",
       "      <td>58.08</td>\n",
       "      <td>100.0</td>\n",
       "      <td>211.94</td>\n",
       "      <td>858.33</td>\n",
       "      <td>192.308899</td>\n",
       "      <td>8.667</td>\n",
       "      <td>False</td>\n",
       "    </tr>\n",
       "    <tr>\n",
       "      <th>421569</th>\n",
       "      <td>45</td>\n",
       "      <td>98</td>\n",
       "      <td>10/26/2012</td>\n",
       "      <td>1076.80</td>\n",
       "      <td>False</td>\n",
       "      <td>58.85</td>\n",
       "      <td>3.882</td>\n",
       "      <td>4018.91</td>\n",
       "      <td>58.08</td>\n",
       "      <td>100.0</td>\n",
       "      <td>211.94</td>\n",
       "      <td>858.33</td>\n",
       "      <td>192.308899</td>\n",
       "      <td>8.667</td>\n",
       "      <td>False</td>\n",
       "    </tr>\n",
       "  </tbody>\n",
       "</table>\n",
       "</div>"
      ],
      "text/plain": [
       "        Store  Dept        Date  Weekly_Sales  IsHoliday_x  Temperature  \\\n",
       "421565     45    93  10/26/2012       2487.80        False        58.85   \n",
       "421566     45    94  10/26/2012       5203.31        False        58.85   \n",
       "421567     45    95  10/26/2012      56017.47        False        58.85   \n",
       "421568     45    97  10/26/2012       6817.48        False        58.85   \n",
       "421569     45    98  10/26/2012       1076.80        False        58.85   \n",
       "\n",
       "        Fuel_Price  MarkDown1  MarkDown2  MarkDown3  MarkDown4  MarkDown5  \\\n",
       "421565       3.882    4018.91      58.08      100.0     211.94     858.33   \n",
       "421566       3.882    4018.91      58.08      100.0     211.94     858.33   \n",
       "421567       3.882    4018.91      58.08      100.0     211.94     858.33   \n",
       "421568       3.882    4018.91      58.08      100.0     211.94     858.33   \n",
       "421569       3.882    4018.91      58.08      100.0     211.94     858.33   \n",
       "\n",
       "               CPI  Unemployment  IsHoliday_y  \n",
       "421565  192.308899         8.667        False  \n",
       "421566  192.308899         8.667        False  \n",
       "421567  192.308899         8.667        False  \n",
       "421568  192.308899         8.667        False  \n",
       "421569  192.308899         8.667        False  "
      ]
     },
     "execution_count": 21,
     "metadata": {},
     "output_type": "execute_result"
    }
   ],
   "source": [
    "walmartDF.tail()"
   ]
  },
  {
   "cell_type": "code",
   "execution_count": 22,
   "metadata": {},
   "outputs": [
    {
     "data": {
      "text/html": [
       "<div>\n",
       "<style>\n",
       "    .dataframe thead tr:only-child th {\n",
       "        text-align: right;\n",
       "    }\n",
       "\n",
       "    .dataframe thead th {\n",
       "        text-align: left;\n",
       "    }\n",
       "\n",
       "    .dataframe tbody tr th {\n",
       "        vertical-align: top;\n",
       "    }\n",
       "</style>\n",
       "<table border=\"1\" class=\"dataframe\">\n",
       "  <thead>\n",
       "    <tr style=\"text-align: right;\">\n",
       "      <th></th>\n",
       "      <th>Store</th>\n",
       "      <th>Date</th>\n",
       "      <th>Temperature</th>\n",
       "      <th>Fuel_Price</th>\n",
       "      <th>MarkDown1</th>\n",
       "      <th>MarkDown2</th>\n",
       "      <th>MarkDown3</th>\n",
       "      <th>MarkDown4</th>\n",
       "      <th>MarkDown5</th>\n",
       "      <th>CPI</th>\n",
       "      <th>Unemployment</th>\n",
       "      <th>IsHoliday</th>\n",
       "      <th>DateObj</th>\n",
       "    </tr>\n",
       "  </thead>\n",
       "  <tbody>\n",
       "    <tr>\n",
       "      <th>0</th>\n",
       "      <td>1</td>\n",
       "      <td>2/5/2010</td>\n",
       "      <td>42.31</td>\n",
       "      <td>2.572</td>\n",
       "      <td>NaN</td>\n",
       "      <td>NaN</td>\n",
       "      <td>NaN</td>\n",
       "      <td>NaN</td>\n",
       "      <td>NaN</td>\n",
       "      <td>211.096358</td>\n",
       "      <td>8.106</td>\n",
       "      <td>False</td>\n",
       "      <td>2010-02-05</td>\n",
       "    </tr>\n",
       "    <tr>\n",
       "      <th>1</th>\n",
       "      <td>1</td>\n",
       "      <td>2/12/2010</td>\n",
       "      <td>38.51</td>\n",
       "      <td>2.548</td>\n",
       "      <td>NaN</td>\n",
       "      <td>NaN</td>\n",
       "      <td>NaN</td>\n",
       "      <td>NaN</td>\n",
       "      <td>NaN</td>\n",
       "      <td>211.242170</td>\n",
       "      <td>8.106</td>\n",
       "      <td>True</td>\n",
       "      <td>2010-02-12</td>\n",
       "    </tr>\n",
       "    <tr>\n",
       "      <th>2</th>\n",
       "      <td>1</td>\n",
       "      <td>2/19/2010</td>\n",
       "      <td>39.93</td>\n",
       "      <td>2.514</td>\n",
       "      <td>NaN</td>\n",
       "      <td>NaN</td>\n",
       "      <td>NaN</td>\n",
       "      <td>NaN</td>\n",
       "      <td>NaN</td>\n",
       "      <td>211.289143</td>\n",
       "      <td>8.106</td>\n",
       "      <td>False</td>\n",
       "      <td>2010-02-19</td>\n",
       "    </tr>\n",
       "    <tr>\n",
       "      <th>3</th>\n",
       "      <td>1</td>\n",
       "      <td>2/26/2010</td>\n",
       "      <td>46.63</td>\n",
       "      <td>2.561</td>\n",
       "      <td>NaN</td>\n",
       "      <td>NaN</td>\n",
       "      <td>NaN</td>\n",
       "      <td>NaN</td>\n",
       "      <td>NaN</td>\n",
       "      <td>211.319643</td>\n",
       "      <td>8.106</td>\n",
       "      <td>False</td>\n",
       "      <td>2010-02-26</td>\n",
       "    </tr>\n",
       "    <tr>\n",
       "      <th>4</th>\n",
       "      <td>1</td>\n",
       "      <td>3/5/2010</td>\n",
       "      <td>46.50</td>\n",
       "      <td>2.625</td>\n",
       "      <td>NaN</td>\n",
       "      <td>NaN</td>\n",
       "      <td>NaN</td>\n",
       "      <td>NaN</td>\n",
       "      <td>NaN</td>\n",
       "      <td>211.350143</td>\n",
       "      <td>8.106</td>\n",
       "      <td>False</td>\n",
       "      <td>2010-03-05</td>\n",
       "    </tr>\n",
       "  </tbody>\n",
       "</table>\n",
       "</div>"
      ],
      "text/plain": [
       "   Store       Date  Temperature  Fuel_Price  MarkDown1  MarkDown2  MarkDown3  \\\n",
       "0      1   2/5/2010        42.31       2.572        NaN        NaN        NaN   \n",
       "1      1  2/12/2010        38.51       2.548        NaN        NaN        NaN   \n",
       "2      1  2/19/2010        39.93       2.514        NaN        NaN        NaN   \n",
       "3      1  2/26/2010        46.63       2.561        NaN        NaN        NaN   \n",
       "4      1   3/5/2010        46.50       2.625        NaN        NaN        NaN   \n",
       "\n",
       "   MarkDown4  MarkDown5         CPI  Unemployment  IsHoliday    DateObj  \n",
       "0        NaN        NaN  211.096358         8.106      False 2010-02-05  \n",
       "1        NaN        NaN  211.242170         8.106       True 2010-02-12  \n",
       "2        NaN        NaN  211.289143         8.106      False 2010-02-19  \n",
       "3        NaN        NaN  211.319643         8.106      False 2010-02-26  \n",
       "4        NaN        NaN  211.350143         8.106      False 2010-03-05  "
      ]
     },
     "execution_count": 22,
     "metadata": {},
     "output_type": "execute_result"
    }
   ],
   "source": [
    "walmartFDF['DateObj'] = walmartFDF['Date'].apply(lambda x : dt.datetime.strptime(x,'%m/%d/%Y') )\n",
    "walmartFDF.head()"
   ]
  },
  {
   "cell_type": "code",
   "execution_count": 23,
   "metadata": {},
   "outputs": [
    {
     "name": "stdout",
     "output_type": "stream",
     "text": [
      "<class 'pandas.core.frame.DataFrame'>\n",
      "RangeIndex: 6435 entries, 0 to 6434\n",
      "Data columns (total 3 columns):\n",
      "Store           6435 non-null int64\n",
      "Date            6435 non-null object\n",
      "Weekly_Sales    6435 non-null float64\n",
      "dtypes: float64(1), int64(1), object(1)\n",
      "memory usage: 150.9+ KB\n"
     ]
    }
   ],
   "source": [
    "salesByStoreDateDF = pd.DataFrame(salesByStoreDate1)\n",
    "salesByStoreDateDF.info()"
   ]
  },
  {
   "cell_type": "code",
   "execution_count": 24,
   "metadata": {
    "collapsed": true
   },
   "outputs": [],
   "source": [
    "walmartDFFinal_1 = pd.merge(walmartFDF,salesByStoreDateDF,on=['Store','Date'],how='inner')"
   ]
  },
  {
   "cell_type": "code",
   "execution_count": 25,
   "metadata": {},
   "outputs": [
    {
     "data": {
      "text/html": [
       "<div>\n",
       "<style>\n",
       "    .dataframe thead tr:only-child th {\n",
       "        text-align: right;\n",
       "    }\n",
       "\n",
       "    .dataframe thead th {\n",
       "        text-align: left;\n",
       "    }\n",
       "\n",
       "    .dataframe tbody tr th {\n",
       "        vertical-align: top;\n",
       "    }\n",
       "</style>\n",
       "<table border=\"1\" class=\"dataframe\">\n",
       "  <thead>\n",
       "    <tr style=\"text-align: right;\">\n",
       "      <th></th>\n",
       "      <th>Store</th>\n",
       "      <th>Date</th>\n",
       "      <th>Temperature</th>\n",
       "      <th>Fuel_Price</th>\n",
       "      <th>MarkDown1</th>\n",
       "      <th>MarkDown2</th>\n",
       "      <th>MarkDown3</th>\n",
       "      <th>MarkDown4</th>\n",
       "      <th>MarkDown5</th>\n",
       "      <th>CPI</th>\n",
       "      <th>Unemployment</th>\n",
       "      <th>IsHoliday</th>\n",
       "      <th>DateObj</th>\n",
       "      <th>Weekly_Sales</th>\n",
       "    </tr>\n",
       "  </thead>\n",
       "  <tbody>\n",
       "    <tr>\n",
       "      <th>0</th>\n",
       "      <td>1</td>\n",
       "      <td>2/5/2010</td>\n",
       "      <td>42.31</td>\n",
       "      <td>2.572</td>\n",
       "      <td>NaN</td>\n",
       "      <td>NaN</td>\n",
       "      <td>NaN</td>\n",
       "      <td>NaN</td>\n",
       "      <td>NaN</td>\n",
       "      <td>211.096358</td>\n",
       "      <td>8.106</td>\n",
       "      <td>False</td>\n",
       "      <td>2010-02-05</td>\n",
       "      <td>1643690.90</td>\n",
       "    </tr>\n",
       "    <tr>\n",
       "      <th>1</th>\n",
       "      <td>1</td>\n",
       "      <td>2/12/2010</td>\n",
       "      <td>38.51</td>\n",
       "      <td>2.548</td>\n",
       "      <td>NaN</td>\n",
       "      <td>NaN</td>\n",
       "      <td>NaN</td>\n",
       "      <td>NaN</td>\n",
       "      <td>NaN</td>\n",
       "      <td>211.242170</td>\n",
       "      <td>8.106</td>\n",
       "      <td>True</td>\n",
       "      <td>2010-02-12</td>\n",
       "      <td>1641957.44</td>\n",
       "    </tr>\n",
       "    <tr>\n",
       "      <th>2</th>\n",
       "      <td>1</td>\n",
       "      <td>2/19/2010</td>\n",
       "      <td>39.93</td>\n",
       "      <td>2.514</td>\n",
       "      <td>NaN</td>\n",
       "      <td>NaN</td>\n",
       "      <td>NaN</td>\n",
       "      <td>NaN</td>\n",
       "      <td>NaN</td>\n",
       "      <td>211.289143</td>\n",
       "      <td>8.106</td>\n",
       "      <td>False</td>\n",
       "      <td>2010-02-19</td>\n",
       "      <td>1611968.17</td>\n",
       "    </tr>\n",
       "    <tr>\n",
       "      <th>3</th>\n",
       "      <td>1</td>\n",
       "      <td>2/26/2010</td>\n",
       "      <td>46.63</td>\n",
       "      <td>2.561</td>\n",
       "      <td>NaN</td>\n",
       "      <td>NaN</td>\n",
       "      <td>NaN</td>\n",
       "      <td>NaN</td>\n",
       "      <td>NaN</td>\n",
       "      <td>211.319643</td>\n",
       "      <td>8.106</td>\n",
       "      <td>False</td>\n",
       "      <td>2010-02-26</td>\n",
       "      <td>1409727.59</td>\n",
       "    </tr>\n",
       "    <tr>\n",
       "      <th>4</th>\n",
       "      <td>1</td>\n",
       "      <td>3/5/2010</td>\n",
       "      <td>46.50</td>\n",
       "      <td>2.625</td>\n",
       "      <td>NaN</td>\n",
       "      <td>NaN</td>\n",
       "      <td>NaN</td>\n",
       "      <td>NaN</td>\n",
       "      <td>NaN</td>\n",
       "      <td>211.350143</td>\n",
       "      <td>8.106</td>\n",
       "      <td>False</td>\n",
       "      <td>2010-03-05</td>\n",
       "      <td>1554806.68</td>\n",
       "    </tr>\n",
       "  </tbody>\n",
       "</table>\n",
       "</div>"
      ],
      "text/plain": [
       "   Store       Date  Temperature  Fuel_Price  MarkDown1  MarkDown2  MarkDown3  \\\n",
       "0      1   2/5/2010        42.31       2.572        NaN        NaN        NaN   \n",
       "1      1  2/12/2010        38.51       2.548        NaN        NaN        NaN   \n",
       "2      1  2/19/2010        39.93       2.514        NaN        NaN        NaN   \n",
       "3      1  2/26/2010        46.63       2.561        NaN        NaN        NaN   \n",
       "4      1   3/5/2010        46.50       2.625        NaN        NaN        NaN   \n",
       "\n",
       "   MarkDown4  MarkDown5         CPI  Unemployment  IsHoliday    DateObj  \\\n",
       "0        NaN        NaN  211.096358         8.106      False 2010-02-05   \n",
       "1        NaN        NaN  211.242170         8.106       True 2010-02-12   \n",
       "2        NaN        NaN  211.289143         8.106      False 2010-02-19   \n",
       "3        NaN        NaN  211.319643         8.106      False 2010-02-26   \n",
       "4        NaN        NaN  211.350143         8.106      False 2010-03-05   \n",
       "\n",
       "   Weekly_Sales  \n",
       "0    1643690.90  \n",
       "1    1641957.44  \n",
       "2    1611968.17  \n",
       "3    1409727.59  \n",
       "4    1554806.68  "
      ]
     },
     "execution_count": 25,
     "metadata": {},
     "output_type": "execute_result"
    }
   ],
   "source": [
    "walmartDFFinal_1.head()"
   ]
  },
  {
   "cell_type": "code",
   "execution_count": 26,
   "metadata": {
    "scrolled": true
   },
   "outputs": [
    {
     "data": {
      "image/png": "[encoded data removed]",
      "text/plain": [
       "<matplotlib.figure.Figure at 0x27722f73dd8>"
      ]
     },
     "metadata": {},
     "output_type": "display_data"
    }
   ],
   "source": [
    "#walmartDF.head()\n",
    "plt.plot(walmartDF[(walmartDF.Store==1)]['Date'],walmartDF[(walmartDF.Store==1)]['Weekly_Sales'],'ro')\n",
    "plt.xticks(rotation=90)\n",
    "plt.show()"
   ]
  },
  {
   "cell_type": "code",
   "execution_count": 27,
   "metadata": {},
   "outputs": [
    {
     "data": {
      "image/png": "[encoded data removed]",
      "text/plain": [
       "<matplotlib.figure.Figure at 0x27723dd2978>"
      ]
     },
     "metadata": {},
     "output_type": "display_data"
    }
   ],
   "source": [
    "plt.plot(walmartDFFinal_1[walmartDFFinal_1['Store']==1]['DateObj'],walmartDFFinal_1[walmartDFFinal_1['Store']==1]['Weekly_Sales'],'ro')\n",
    "plt.xticks(rotation=90)\n",
    "plt.show()"
   ]
  },
  {
   "cell_type": "code",
   "execution_count": 28,
   "metadata": {},
   "outputs": [
    {
     "data": {
      "image/png": "[encoded data removed]",
      "text/plain": [
       "<matplotlib.figure.Figure at 0x27722f60ba8>"
      ]
     },
     "metadata": {},
     "output_type": "display_data"
    }
   ],
   "source": [
    "plt.plot(walmartDFFinal_1['DateObj'],walmartDFFinal_1['Weekly_Sales'],'ro')\n",
    "plt.xticks(rotation=90)\n",
    "plt.show()"
   ]
  },
  {
   "cell_type": "code",
   "execution_count": 29,
   "metadata": {},
   "outputs": [
    {
     "data": {
      "text/plain": [
       "Index(['Store', 'Date', 'Temperature', 'Fuel_Price', 'MarkDown1', 'MarkDown2',\n",
       "       'MarkDown3', 'MarkDown4', 'MarkDown5', 'CPI', 'Unemployment',\n",
       "       'IsHoliday', 'DateObj', 'Weekly_Sales'],\n",
       "      dtype='object')"
      ]
     },
     "execution_count": 29,
     "metadata": {},
     "output_type": "execute_result"
    }
   ],
   "source": [
    "walmartDFFinal_1.columns"
   ]
  },
  {
   "cell_type": "code",
   "execution_count": 30,
   "metadata": {},
   "outputs": [
    {
     "data": {
      "text/plain": [
       "349"
      ]
     },
     "execution_count": 30,
     "metadata": {},
     "output_type": "execute_result"
    }
   ],
   "source": [
    "len(walmartDFFinal_1.Unemployment.unique())"
   ]
  },
  {
   "cell_type": "code",
   "execution_count": 31,
   "metadata": {},
   "outputs": [
    {
     "name": "stdout",
     "output_type": "stream",
     "text": [
      "[0, 1, 3, 4]\n"
     ]
    }
   ],
   "source": [
    "x = list(range(2)) + list(range(3,5))\n",
    "print (x)"
   ]
  },
  {
   "cell_type": "code",
   "execution_count": 32,
   "metadata": {},
   "outputs": [
    {
     "data": {
      "text/html": [
       "<div>\n",
       "<style>\n",
       "    .dataframe thead tr:only-child th {\n",
       "        text-align: right;\n",
       "    }\n",
       "\n",
       "    .dataframe thead th {\n",
       "        text-align: left;\n",
       "    }\n",
       "\n",
       "    .dataframe tbody tr th {\n",
       "        vertical-align: top;\n",
       "    }\n",
       "</style>\n",
       "<table border=\"1\" class=\"dataframe\">\n",
       "  <thead>\n",
       "    <tr style=\"text-align: right;\">\n",
       "      <th></th>\n",
       "      <th>Fuel_Price</th>\n",
       "      <th>MarkDown1</th>\n",
       "    </tr>\n",
       "  </thead>\n",
       "  <tbody>\n",
       "    <tr>\n",
       "      <th>1</th>\n",
       "      <td>2.548</td>\n",
       "      <td>NaN</td>\n",
       "    </tr>\n",
       "    <tr>\n",
       "      <th>2</th>\n",
       "      <td>2.514</td>\n",
       "      <td>NaN</td>\n",
       "    </tr>\n",
       "  </tbody>\n",
       "</table>\n",
       "</div>"
      ],
      "text/plain": [
       "   Fuel_Price  MarkDown1\n",
       "1       2.548        NaN\n",
       "2       2.514        NaN"
      ]
     },
     "execution_count": 32,
     "metadata": {},
     "output_type": "execute_result"
    }
   ],
   "source": [
    "walmartDFFinal_1.iloc[1:3:,3:5]"
   ]
  },
  {
   "cell_type": "code",
   "execution_count": 33,
   "metadata": {},
   "outputs": [
    {
     "data": {
      "text/html": [
       "<div>\n",
       "<style>\n",
       "    .dataframe thead tr:only-child th {\n",
       "        text-align: right;\n",
       "    }\n",
       "\n",
       "    .dataframe thead th {\n",
       "        text-align: left;\n",
       "    }\n",
       "\n",
       "    .dataframe tbody tr th {\n",
       "        vertical-align: top;\n",
       "    }\n",
       "</style>\n",
       "<table border=\"1\" class=\"dataframe\">\n",
       "  <thead>\n",
       "    <tr style=\"text-align: right;\">\n",
       "      <th></th>\n",
       "      <th>Temperature</th>\n",
       "      <th>Fuel_Price</th>\n",
       "      <th>CPI</th>\n",
       "      <th>Unemployment</th>\n",
       "      <th>IsHoliday</th>\n",
       "      <th>DateObj</th>\n",
       "      <th>Weekly_Sales</th>\n",
       "    </tr>\n",
       "  </thead>\n",
       "  <tbody>\n",
       "    <tr>\n",
       "      <th>0</th>\n",
       "      <td>42.31</td>\n",
       "      <td>2.572</td>\n",
       "      <td>211.096358</td>\n",
       "      <td>8.106</td>\n",
       "      <td>False</td>\n",
       "      <td>2010-02-05</td>\n",
       "      <td>1643690.90</td>\n",
       "    </tr>\n",
       "    <tr>\n",
       "      <th>1</th>\n",
       "      <td>38.51</td>\n",
       "      <td>2.548</td>\n",
       "      <td>211.242170</td>\n",
       "      <td>8.106</td>\n",
       "      <td>True</td>\n",
       "      <td>2010-02-12</td>\n",
       "      <td>1641957.44</td>\n",
       "    </tr>\n",
       "    <tr>\n",
       "      <th>2</th>\n",
       "      <td>39.93</td>\n",
       "      <td>2.514</td>\n",
       "      <td>211.289143</td>\n",
       "      <td>8.106</td>\n",
       "      <td>False</td>\n",
       "      <td>2010-02-19</td>\n",
       "      <td>1611968.17</td>\n",
       "    </tr>\n",
       "    <tr>\n",
       "      <th>3</th>\n",
       "      <td>46.63</td>\n",
       "      <td>2.561</td>\n",
       "      <td>211.319643</td>\n",
       "      <td>8.106</td>\n",
       "      <td>False</td>\n",
       "      <td>2010-02-26</td>\n",
       "      <td>1409727.59</td>\n",
       "    </tr>\n",
       "    <tr>\n",
       "      <th>4</th>\n",
       "      <td>46.50</td>\n",
       "      <td>2.625</td>\n",
       "      <td>211.350143</td>\n",
       "      <td>8.106</td>\n",
       "      <td>False</td>\n",
       "      <td>2010-03-05</td>\n",
       "      <td>1554806.68</td>\n",
       "    </tr>\n",
       "  </tbody>\n",
       "</table>\n",
       "</div>"
      ],
      "text/plain": [
       "   Temperature  Fuel_Price         CPI  Unemployment  IsHoliday    DateObj  \\\n",
       "0        42.31       2.572  211.096358         8.106      False 2010-02-05   \n",
       "1        38.51       2.548  211.242170         8.106       True 2010-02-12   \n",
       "2        39.93       2.514  211.289143         8.106      False 2010-02-19   \n",
       "3        46.63       2.561  211.319643         8.106      False 2010-02-26   \n",
       "4        46.50       2.625  211.350143         8.106      False 2010-03-05   \n",
       "\n",
       "   Weekly_Sales  \n",
       "0    1643690.90  \n",
       "1    1641957.44  \n",
       "2    1611968.17  \n",
       "3    1409727.59  \n",
       "4    1554806.68  "
      ]
     },
     "execution_count": 33,
     "metadata": {},
     "output_type": "execute_result"
    }
   ],
   "source": [
    "walmartDFFinal_AllStores = walmartDFFinal_1.iloc[:,list(range(2,4)) + list(range(9,14))]\n",
    "walmartDFFinal_Store = walmartDFFinal_1.iloc[:,list(range(4)) + list(range(9,14))]\n",
    "walmartDFFinal_AllStores.head()"
   ]
  },
  {
   "cell_type": "code",
   "execution_count": 34,
   "metadata": {},
   "outputs": [
    {
     "data": {
      "text/plain": [
       "5985"
      ]
     },
     "execution_count": 34,
     "metadata": {},
     "output_type": "execute_result"
    }
   ],
   "source": [
    "walmartDFFinal_AllStores[walmartDFFinal_AllStores.IsHoliday == False]['IsHoliday'].count()"
   ]
  },
  {
   "cell_type": "code",
   "execution_count": 35,
   "metadata": {},
   "outputs": [
    {
     "data": {
      "text/plain": [
       "450"
      ]
     },
     "execution_count": 35,
     "metadata": {},
     "output_type": "execute_result"
    }
   ],
   "source": [
    "\n",
    "walmartDFFinal_AllStores[walmartDFFinal_AllStores.IsHoliday == True]['IsHoliday'].count()"
   ]
  },
  {
   "cell_type": "code",
   "execution_count": 36,
   "metadata": {
    "collapsed": true
   },
   "outputs": [],
   "source": [
    "def ConvertHoliday(x):    \n",
    "    if x == False:        \n",
    "        returnVal = 0\n",
    "    else:\n",
    "        returnVal = 1\n",
    "    return returnVal\n"
   ]
  },
  {
   "cell_type": "code",
   "execution_count": 37,
   "metadata": {},
   "outputs": [
    {
     "name": "stdout",
     "output_type": "stream",
     "text": [
      "5985 450\n"
     ]
    }
   ],
   "source": [
    "#walmartDFFinal_2.IsHoliday.head()\n",
    "walmartDFFinal_3 = map(ConvertHoliday,walmartDFFinal_AllStores.IsHoliday)\n",
    "#walmartDFFinal = walmartDFFinal_2.apply(ConvertHoliday,walmartDFFinal_2.IsHoliday)\n",
    "falsecount = truecount = 0\n",
    "for i in walmartDFFinal_3:\n",
    "    #print (i)\n",
    "    if i == 0:\n",
    "        falsecount += 1\n",
    "    else:\n",
    "        truecount += 1\n",
    "\n",
    "print (falsecount, truecount)\n"
   ]
  },
  {
   "cell_type": "code",
   "execution_count": 38,
   "metadata": {},
   "outputs": [
    {
     "data": {
      "text/html": [
       "<div>\n",
       "<style>\n",
       "    .dataframe thead tr:only-child th {\n",
       "        text-align: right;\n",
       "    }\n",
       "\n",
       "    .dataframe thead th {\n",
       "        text-align: left;\n",
       "    }\n",
       "\n",
       "    .dataframe tbody tr th {\n",
       "        vertical-align: top;\n",
       "    }\n",
       "</style>\n",
       "<table border=\"1\" class=\"dataframe\">\n",
       "  <thead>\n",
       "    <tr style=\"text-align: right;\">\n",
       "      <th></th>\n",
       "      <th>Temperature</th>\n",
       "      <th>Fuel_Price</th>\n",
       "      <th>CPI</th>\n",
       "      <th>Unemployment</th>\n",
       "      <th>IsHoliday</th>\n",
       "      <th>DateObj</th>\n",
       "      <th>Weekly_Sales</th>\n",
       "    </tr>\n",
       "  </thead>\n",
       "  <tbody>\n",
       "    <tr>\n",
       "      <th>0</th>\n",
       "      <td>42.31</td>\n",
       "      <td>2.572</td>\n",
       "      <td>211.096358</td>\n",
       "      <td>8.106</td>\n",
       "      <td>0</td>\n",
       "      <td>2010-02-05</td>\n",
       "      <td>1643690.90</td>\n",
       "    </tr>\n",
       "    <tr>\n",
       "      <th>1</th>\n",
       "      <td>38.51</td>\n",
       "      <td>2.548</td>\n",
       "      <td>211.242170</td>\n",
       "      <td>8.106</td>\n",
       "      <td>1</td>\n",
       "      <td>2010-02-12</td>\n",
       "      <td>1641957.44</td>\n",
       "    </tr>\n",
       "    <tr>\n",
       "      <th>2</th>\n",
       "      <td>39.93</td>\n",
       "      <td>2.514</td>\n",
       "      <td>211.289143</td>\n",
       "      <td>8.106</td>\n",
       "      <td>0</td>\n",
       "      <td>2010-02-19</td>\n",
       "      <td>1611968.17</td>\n",
       "    </tr>\n",
       "    <tr>\n",
       "      <th>3</th>\n",
       "      <td>46.63</td>\n",
       "      <td>2.561</td>\n",
       "      <td>211.319643</td>\n",
       "      <td>8.106</td>\n",
       "      <td>0</td>\n",
       "      <td>2010-02-26</td>\n",
       "      <td>1409727.59</td>\n",
       "    </tr>\n",
       "    <tr>\n",
       "      <th>4</th>\n",
       "      <td>46.50</td>\n",
       "      <td>2.625</td>\n",
       "      <td>211.350143</td>\n",
       "      <td>8.106</td>\n",
       "      <td>0</td>\n",
       "      <td>2010-03-05</td>\n",
       "      <td>1554806.68</td>\n",
       "    </tr>\n",
       "  </tbody>\n",
       "</table>\n",
       "</div>"
      ],
      "text/plain": [
       "   Temperature  Fuel_Price         CPI  Unemployment  IsHoliday    DateObj  \\\n",
       "0        42.31       2.572  211.096358         8.106          0 2010-02-05   \n",
       "1        38.51       2.548  211.242170         8.106          1 2010-02-12   \n",
       "2        39.93       2.514  211.289143         8.106          0 2010-02-19   \n",
       "3        46.63       2.561  211.319643         8.106          0 2010-02-26   \n",
       "4        46.50       2.625  211.350143         8.106          0 2010-03-05   \n",
       "\n",
       "   Weekly_Sales  \n",
       "0    1643690.90  \n",
       "1    1641957.44  \n",
       "2    1611968.17  \n",
       "3    1409727.59  \n",
       "4    1554806.68  "
      ]
     },
     "execution_count": 38,
     "metadata": {},
     "output_type": "execute_result"
    }
   ],
   "source": [
    "walmartDFFinal_AllStores = walmartDFFinal_AllStores.replace({True:1,False:0})\n",
    "#walmartDFFinal12 = pd.DataFrame([walmartDFFinal])\n",
    "walmartDFFinal_AllStores.head()"
   ]
  },
  {
   "cell_type": "code",
   "execution_count": 39,
   "metadata": {},
   "outputs": [
    {
     "data": {
      "text/plain": [
       "0"
      ]
     },
     "execution_count": 39,
     "metadata": {},
     "output_type": "execute_result"
    }
   ],
   "source": [
    "walmartDFFinal_AllStores.DateObj.isnull().sum()"
   ]
  },
  {
   "cell_type": "code",
   "execution_count": 40,
   "metadata": {},
   "outputs": [
    {
     "data": {
      "text/plain": [
       "349"
      ]
     },
     "execution_count": 40,
     "metadata": {},
     "output_type": "execute_result"
    }
   ],
   "source": [
    "len(walmartDFFinal_AllStores.Unemployment.unique())"
   ]
  },
  {
   "cell_type": "code",
   "execution_count": 41,
   "metadata": {
    "collapsed": true
   },
   "outputs": [],
   "source": [
    "del walmartDFFinal_AllStores['DateObj']"
   ]
  },
  {
   "cell_type": "code",
   "execution_count": 42,
   "metadata": {},
   "outputs": [
    {
     "data": {
      "text/html": [
       "<div>\n",
       "<style>\n",
       "    .dataframe thead tr:only-child th {\n",
       "        text-align: right;\n",
       "    }\n",
       "\n",
       "    .dataframe thead th {\n",
       "        text-align: left;\n",
       "    }\n",
       "\n",
       "    .dataframe tbody tr th {\n",
       "        vertical-align: top;\n",
       "    }\n",
       "</style>\n",
       "<table border=\"1\" class=\"dataframe\">\n",
       "  <thead>\n",
       "    <tr style=\"text-align: right;\">\n",
       "      <th></th>\n",
       "      <th>Temperature</th>\n",
       "      <th>Fuel_Price</th>\n",
       "      <th>CPI</th>\n",
       "      <th>Unemployment</th>\n",
       "      <th>IsHoliday</th>\n",
       "      <th>Weekly_Sales</th>\n",
       "    </tr>\n",
       "  </thead>\n",
       "  <tbody>\n",
       "    <tr>\n",
       "      <th>count</th>\n",
       "      <td>6435.000000</td>\n",
       "      <td>6435.000000</td>\n",
       "      <td>6435.000000</td>\n",
       "      <td>6435.000000</td>\n",
       "      <td>6435.000000</td>\n",
       "      <td>6.435000e+03</td>\n",
       "    </tr>\n",
       "    <tr>\n",
       "      <th>mean</th>\n",
       "      <td>60.663782</td>\n",
       "      <td>3.358607</td>\n",
       "      <td>171.578394</td>\n",
       "      <td>7.999151</td>\n",
       "      <td>0.069930</td>\n",
       "      <td>1.046965e+06</td>\n",
       "    </tr>\n",
       "    <tr>\n",
       "      <th>std</th>\n",
       "      <td>18.444933</td>\n",
       "      <td>0.459020</td>\n",
       "      <td>39.356712</td>\n",
       "      <td>1.875885</td>\n",
       "      <td>0.255049</td>\n",
       "      <td>5.643666e+05</td>\n",
       "    </tr>\n",
       "    <tr>\n",
       "      <th>min</th>\n",
       "      <td>-2.060000</td>\n",
       "      <td>2.472000</td>\n",
       "      <td>126.064000</td>\n",
       "      <td>3.879000</td>\n",
       "      <td>0.000000</td>\n",
       "      <td>2.099863e+05</td>\n",
       "    </tr>\n",
       "    <tr>\n",
       "      <th>25%</th>\n",
       "      <td>47.460000</td>\n",
       "      <td>2.933000</td>\n",
       "      <td>131.735000</td>\n",
       "      <td>6.891000</td>\n",
       "      <td>0.000000</td>\n",
       "      <td>5.533501e+05</td>\n",
       "    </tr>\n",
       "    <tr>\n",
       "      <th>50%</th>\n",
       "      <td>62.670000</td>\n",
       "      <td>3.445000</td>\n",
       "      <td>182.616521</td>\n",
       "      <td>7.874000</td>\n",
       "      <td>0.000000</td>\n",
       "      <td>9.607460e+05</td>\n",
       "    </tr>\n",
       "    <tr>\n",
       "      <th>75%</th>\n",
       "      <td>74.940000</td>\n",
       "      <td>3.735000</td>\n",
       "      <td>212.743293</td>\n",
       "      <td>8.622000</td>\n",
       "      <td>0.000000</td>\n",
       "      <td>1.420159e+06</td>\n",
       "    </tr>\n",
       "    <tr>\n",
       "      <th>max</th>\n",
       "      <td>100.140000</td>\n",
       "      <td>4.468000</td>\n",
       "      <td>227.232807</td>\n",
       "      <td>14.313000</td>\n",
       "      <td>1.000000</td>\n",
       "      <td>3.818686e+06</td>\n",
       "    </tr>\n",
       "  </tbody>\n",
       "</table>\n",
       "</div>"
      ],
      "text/plain": [
       "       Temperature   Fuel_Price          CPI  Unemployment    IsHoliday  \\\n",
       "count  6435.000000  6435.000000  6435.000000   6435.000000  6435.000000   \n",
       "mean     60.663782     3.358607   171.578394      7.999151     0.069930   \n",
       "std      18.444933     0.459020    39.356712      1.875885     0.255049   \n",
       "min      -2.060000     2.472000   126.064000      3.879000     0.000000   \n",
       "25%      47.460000     2.933000   131.735000      6.891000     0.000000   \n",
       "50%      62.670000     3.445000   182.616521      7.874000     0.000000   \n",
       "75%      74.940000     3.735000   212.743293      8.622000     0.000000   \n",
       "max     100.140000     4.468000   227.232807     14.313000     1.000000   \n",
       "\n",
       "       Weekly_Sales  \n",
       "count  6.435000e+03  \n",
       "mean   1.046965e+06  \n",
       "std    5.643666e+05  \n",
       "min    2.099863e+05  \n",
       "25%    5.533501e+05  \n",
       "50%    9.607460e+05  \n",
       "75%    1.420159e+06  \n",
       "max    3.818686e+06  "
      ]
     },
     "execution_count": 42,
     "metadata": {},
     "output_type": "execute_result"
    }
   ],
   "source": [
    "walmartDFFinal_AllStores.describe()"
   ]
  },
  {
   "cell_type": "code",
   "execution_count": 43,
   "metadata": {},
   "outputs": [
    {
     "data": {
      "text/plain": [
       "(1287, 6)"
      ]
     },
     "execution_count": 43,
     "metadata": {},
     "output_type": "execute_result"
    }
   ],
   "source": [
    "walmartDFFinal_AllStoresTrain,walmartDFFinal_AllStoresTest = train_test_split(walmartDFFinal_AllStores,test_size=0.2,random_state=43)\n",
    "walmartDFFinal_AllStoresTest.shape"
   ]
  },
  {
   "cell_type": "code",
   "execution_count": 44,
   "metadata": {},
   "outputs": [
    {
     "data": {
      "text/html": [
       "<div>\n",
       "<style>\n",
       "    .dataframe thead tr:only-child th {\n",
       "        text-align: right;\n",
       "    }\n",
       "\n",
       "    .dataframe thead th {\n",
       "        text-align: left;\n",
       "    }\n",
       "\n",
       "    .dataframe tbody tr th {\n",
       "        vertical-align: top;\n",
       "    }\n",
       "</style>\n",
       "<table border=\"1\" class=\"dataframe\">\n",
       "  <thead>\n",
       "    <tr style=\"text-align: right;\">\n",
       "      <th></th>\n",
       "      <th>Temperature</th>\n",
       "      <th>Fuel_Price</th>\n",
       "      <th>CPI</th>\n",
       "      <th>Unemployment</th>\n",
       "      <th>IsHoliday</th>\n",
       "    </tr>\n",
       "  </thead>\n",
       "  <tbody>\n",
       "    <tr>\n",
       "      <th>1350</th>\n",
       "      <td>75.93</td>\n",
       "      <td>3.917</td>\n",
       "      <td>128.955300</td>\n",
       "      <td>8.494</td>\n",
       "      <td>0</td>\n",
       "    </tr>\n",
       "    <tr>\n",
       "      <th>328</th>\n",
       "      <td>68.71</td>\n",
       "      <td>2.735</td>\n",
       "      <td>215.061402</td>\n",
       "      <td>7.564</td>\n",
       "      <td>1</td>\n",
       "    </tr>\n",
       "    <tr>\n",
       "      <th>6340</th>\n",
       "      <td>34.32</td>\n",
       "      <td>3.193</td>\n",
       "      <td>182.598306</td>\n",
       "      <td>8.549</td>\n",
       "      <td>0</td>\n",
       "    </tr>\n",
       "    <tr>\n",
       "      <th>3573</th>\n",
       "      <td>51.93</td>\n",
       "      <td>3.969</td>\n",
       "      <td>216.146470</td>\n",
       "      <td>7.293</td>\n",
       "      <td>0</td>\n",
       "    </tr>\n",
       "    <tr>\n",
       "      <th>3474</th>\n",
       "      <td>43.43</td>\n",
       "      <td>3.039</td>\n",
       "      <td>204.962100</td>\n",
       "      <td>7.484</td>\n",
       "      <td>1</td>\n",
       "    </tr>\n",
       "  </tbody>\n",
       "</table>\n",
       "</div>"
      ],
      "text/plain": [
       "      Temperature  Fuel_Price         CPI  Unemployment  IsHoliday\n",
       "1350        75.93       3.917  128.955300         8.494          0\n",
       "328         68.71       2.735  215.061402         7.564          1\n",
       "6340        34.32       3.193  182.598306         8.549          0\n",
       "3573        51.93       3.969  216.146470         7.293          0\n",
       "3474        43.43       3.039  204.962100         7.484          1"
      ]
     },
     "execution_count": 44,
     "metadata": {},
     "output_type": "execute_result"
    }
   ],
   "source": [
    "#walmartDFTrain.shape[-1]\n",
    "walmartDF_AllStoresTrain_X = walmartDFFinal_AllStoresTrain.iloc[:,range(walmartDFFinal_AllStoresTrain.shape[-1]-1)]\n",
    "walmartDF_AllStoresTrain_X.head()"
   ]
  },
  {
   "cell_type": "code",
   "execution_count": 45,
   "metadata": {},
   "outputs": [
    {
     "data": {
      "text/plain": [
       "1350    2004831.14\n",
       "328      565567.84\n",
       "6340     680254.35\n",
       "3573     685531.85\n",
       "3474    1115240.61\n",
       "Name: Weekly_Sales, dtype: float64"
      ]
     },
     "execution_count": 45,
     "metadata": {},
     "output_type": "execute_result"
    }
   ],
   "source": [
    "walmartDF_AllStoresTrain_Y = walmartDFFinal_AllStoresTrain.iloc[:,-1]\n",
    "walmartDF_AllStoresTrain_Y.head()"
   ]
  },
  {
   "cell_type": "code",
   "execution_count": 46,
   "metadata": {},
   "outputs": [
    {
     "data": {
      "text/html": [
       "<div>\n",
       "<style>\n",
       "    .dataframe thead tr:only-child th {\n",
       "        text-align: right;\n",
       "    }\n",
       "\n",
       "    .dataframe thead th {\n",
       "        text-align: left;\n",
       "    }\n",
       "\n",
       "    .dataframe tbody tr th {\n",
       "        vertical-align: top;\n",
       "    }\n",
       "</style>\n",
       "<table border=\"1\" class=\"dataframe\">\n",
       "  <thead>\n",
       "    <tr style=\"text-align: right;\">\n",
       "      <th></th>\n",
       "      <th>Temperature</th>\n",
       "      <th>Fuel_Price</th>\n",
       "      <th>CPI</th>\n",
       "      <th>Unemployment</th>\n",
       "      <th>IsHoliday</th>\n",
       "    </tr>\n",
       "  </thead>\n",
       "  <tbody>\n",
       "    <tr>\n",
       "      <th>3680</th>\n",
       "      <td>23.89</td>\n",
       "      <td>3.655</td>\n",
       "      <td>137.166677</td>\n",
       "      <td>7.467</td>\n",
       "      <td>1</td>\n",
       "    </tr>\n",
       "    <tr>\n",
       "      <th>1023</th>\n",
       "      <td>72.49</td>\n",
       "      <td>2.642</td>\n",
       "      <td>214.472995</td>\n",
       "      <td>6.315</td>\n",
       "      <td>0</td>\n",
       "    </tr>\n",
       "    <tr>\n",
       "      <th>3950</th>\n",
       "      <td>73.05</td>\n",
       "      <td>3.842</td>\n",
       "      <td>129.782161</td>\n",
       "      <td>12.890</td>\n",
       "      <td>0</td>\n",
       "    </tr>\n",
       "    <tr>\n",
       "      <th>4535</th>\n",
       "      <td>36.86</td>\n",
       "      <td>3.055</td>\n",
       "      <td>196.779665</td>\n",
       "      <td>8.256</td>\n",
       "      <td>0</td>\n",
       "    </tr>\n",
       "    <tr>\n",
       "      <th>1307</th>\n",
       "      <td>90.32</td>\n",
       "      <td>3.084</td>\n",
       "      <td>126.126600</td>\n",
       "      <td>9.524</td>\n",
       "      <td>0</td>\n",
       "    </tr>\n",
       "  </tbody>\n",
       "</table>\n",
       "</div>"
      ],
      "text/plain": [
       "      Temperature  Fuel_Price         CPI  Unemployment  IsHoliday\n",
       "3680        23.89       3.655  137.166677         7.467          1\n",
       "1023        72.49       2.642  214.472995         6.315          0\n",
       "3950        73.05       3.842  129.782161        12.890          0\n",
       "4535        36.86       3.055  196.779665         8.256          0\n",
       "1307        90.32       3.084  126.126600         9.524          0"
      ]
     },
     "execution_count": 46,
     "metadata": {},
     "output_type": "execute_result"
    }
   ],
   "source": [
    "walmartDF_AllStoresTest_X = walmartDFFinal_AllStoresTest.iloc[:,range(walmartDFFinal_AllStoresTest.shape[-1]-1)]\n",
    "walmartDF_AllStoresTest_X.head()"
   ]
  },
  {
   "cell_type": "code",
   "execution_count": 47,
   "metadata": {},
   "outputs": [
    {
     "data": {
      "text/plain": [
       "3680    1081005.64\n",
       "1023     845289.77\n",
       "3950    1203172.05\n",
       "4535    1080012.04\n",
       "1307    1768172.31\n",
       "Name: Weekly_Sales, dtype: float64"
      ]
     },
     "execution_count": 47,
     "metadata": {},
     "output_type": "execute_result"
    }
   ],
   "source": [
    "walmartDF_AllStoresTest_Y = walmartDFFinal_AllStoresTest.iloc[:,-1]\n",
    "walmartDF_AllStoresTest_Y.head()"
   ]
  },
  {
   "cell_type": "code",
   "execution_count": 48,
   "metadata": {
    "collapsed": true
   },
   "outputs": [],
   "source": [
    "from sklearn import linear_model"
   ]
  },
  {
   "cell_type": "code",
   "execution_count": 49,
   "metadata": {
    "collapsed": true
   },
   "outputs": [],
   "source": [
    "reg = linear_model.LinearRegression(normalize=True)"
   ]
  },
  {
   "cell_type": "code",
   "execution_count": 50,
   "metadata": {
    "collapsed": true
   },
   "outputs": [],
   "source": [
    "#Calculating model for all stores\n",
    "model_AllStores = reg.fit(walmartDF_AllStoresTrain_X,walmartDF_AllStoresTrain_Y)"
   ]
  },
  {
   "cell_type": "code",
   "execution_count": 51,
   "metadata": {},
   "outputs": [
    {
     "data": {
      "text/plain": [
       "array([  -896.75574385, -16120.95660015,  -1596.25989915, -42089.20915971,\n",
       "        60939.16157659])"
      ]
     },
     "execution_count": 51,
     "metadata": {},
     "output_type": "execute_result"
    }
   ],
   "source": [
    "model_AllStores.coef_"
   ]
  },
  {
   "cell_type": "code",
   "execution_count": 52,
   "metadata": {},
   "outputs": [
    {
     "data": {
      "text/html": [
       "<div>\n",
       "<style>\n",
       "    .dataframe thead tr:only-child th {\n",
       "        text-align: right;\n",
       "    }\n",
       "\n",
       "    .dataframe thead th {\n",
       "        text-align: left;\n",
       "    }\n",
       "\n",
       "    .dataframe tbody tr th {\n",
       "        vertical-align: top;\n",
       "    }\n",
       "</style>\n",
       "<table border=\"1\" class=\"dataframe\">\n",
       "  <thead>\n",
       "    <tr style=\"text-align: right;\">\n",
       "      <th></th>\n",
       "      <th>Store</th>\n",
       "      <th>Dept</th>\n",
       "      <th>Date</th>\n",
       "      <th>IsHoliday</th>\n",
       "    </tr>\n",
       "  </thead>\n",
       "  <tbody>\n",
       "    <tr>\n",
       "      <th>0</th>\n",
       "      <td>1</td>\n",
       "      <td>1</td>\n",
       "      <td>11/2/2012</td>\n",
       "      <td>False</td>\n",
       "    </tr>\n",
       "    <tr>\n",
       "      <th>1</th>\n",
       "      <td>1</td>\n",
       "      <td>1</td>\n",
       "      <td>11/9/2012</td>\n",
       "      <td>False</td>\n",
       "    </tr>\n",
       "    <tr>\n",
       "      <th>2</th>\n",
       "      <td>1</td>\n",
       "      <td>1</td>\n",
       "      <td>11/16/2012</td>\n",
       "      <td>False</td>\n",
       "    </tr>\n",
       "    <tr>\n",
       "      <th>3</th>\n",
       "      <td>1</td>\n",
       "      <td>1</td>\n",
       "      <td>11/23/2012</td>\n",
       "      <td>True</td>\n",
       "    </tr>\n",
       "    <tr>\n",
       "      <th>4</th>\n",
       "      <td>1</td>\n",
       "      <td>1</td>\n",
       "      <td>11/30/2012</td>\n",
       "      <td>False</td>\n",
       "    </tr>\n",
       "  </tbody>\n",
       "</table>\n",
       "</div>"
      ],
      "text/plain": [
       "   Store  Dept        Date  IsHoliday\n",
       "0      1     1   11/2/2012      False\n",
       "1      1     1   11/9/2012      False\n",
       "2      1     1  11/16/2012      False\n",
       "3      1     1  11/23/2012       True\n",
       "4      1     1  11/30/2012      False"
      ]
     },
     "execution_count": 52,
     "metadata": {},
     "output_type": "execute_result"
    }
   ],
   "source": [
    "walmartTestDF = pd.read_csv('Walmart/test.csv')\n",
    "walmartTestDF.head()"
   ]
  },
  {
   "cell_type": "code",
   "execution_count": 53,
   "metadata": {},
   "outputs": [
    {
     "data": {
      "text/plain": [
       "array([ 1208012.84844628,  1044907.68065111,   883512.38126954, ...,\n",
       "        1284623.20361132,   848458.7726859 ,  1038082.46151116])"
      ]
     },
     "execution_count": 53,
     "metadata": {},
     "output_type": "execute_result"
    }
   ],
   "source": [
    "Yhat_AllStores = model_AllStores.predict(walmartDF_AllStoresTest_X)\n",
    "Yhat_AllStores"
   ]
  },
  {
   "cell_type": "code",
   "execution_count": 54,
   "metadata": {},
   "outputs": [
    {
     "data": {
      "image/png": "[encoded data removed]",
      "text/plain": [
       "<matplotlib.figure.Figure at 0x277250fe710>"
      ]
     },
     "metadata": {},
     "output_type": "display_data"
    }
   ],
   "source": [
    "plt.plot(walmartDF_AllStoresTest_Y,Yhat_AllStores,'ro')\n",
    "plt.plot(walmartDF_AllStoresTest_Y,walmartDF_AllStoresTest_Y,'b-')\n",
    "plt.show()"
   ]
  },
  {
   "cell_type": "code",
   "execution_count": 55,
   "metadata": {
    "collapsed": true
   },
   "outputs": [],
   "source": [
    "#Calculate Error\n",
    "def calculateError(model,testX,testY):\n",
    "    yhat = model.predict(testX)\n",
    "    MPSE = np.mean(abs(yhat-testY)/testY)\n",
    "    MSSE = np.mean(np.square(yhat-testY))\n",
    "    return MPSE, MSSE\n"
   ]
  },
  {
   "cell_type": "code",
   "execution_count": 56,
   "metadata": {},
   "outputs": [
    {
     "name": "stdout",
     "output_type": "stream",
     "text": [
      "0.6411922961504188 302884181067.5478\n"
     ]
    }
   ],
   "source": [
    "mpse, msse = calculateError(model_AllStores, walmartDF_AllStoresTest_X, walmartDF_AllStoresTest_Y)\n",
    "print (mpse, msse)\n",
    "#Huge error in model, needs regularization"
   ]
  },
  {
   "cell_type": "code",
   "execution_count": 57,
   "metadata": {
    "collapsed": true
   },
   "outputs": [],
   "source": [
    "predicted = model_AllStores.predict(walmartDF_AllStoresTest_X)"
   ]
  },
  {
   "cell_type": "code",
   "execution_count": 58,
   "metadata": {},
   "outputs": [
    {
     "data": {
      "text/html": [
       "<div>\n",
       "<style>\n",
       "    .dataframe thead tr:only-child th {\n",
       "        text-align: right;\n",
       "    }\n",
       "\n",
       "    .dataframe thead th {\n",
       "        text-align: left;\n",
       "    }\n",
       "\n",
       "    .dataframe tbody tr th {\n",
       "        vertical-align: top;\n",
       "    }\n",
       "</style>\n",
       "<table border=\"1\" class=\"dataframe\">\n",
       "  <thead>\n",
       "    <tr style=\"text-align: right;\">\n",
       "      <th></th>\n",
       "      <th>Temperature</th>\n",
       "      <th>Fuel_Price</th>\n",
       "      <th>CPI</th>\n",
       "      <th>Unemployment</th>\n",
       "      <th>IsHoliday</th>\n",
       "    </tr>\n",
       "  </thead>\n",
       "  <tbody>\n",
       "    <tr>\n",
       "      <th>count</th>\n",
       "      <td>5148.000000</td>\n",
       "      <td>5148.000000</td>\n",
       "      <td>5148.000000</td>\n",
       "      <td>5148.000000</td>\n",
       "      <td>5148.000000</td>\n",
       "    </tr>\n",
       "    <tr>\n",
       "      <th>mean</th>\n",
       "      <td>60.725019</td>\n",
       "      <td>3.356044</td>\n",
       "      <td>172.017719</td>\n",
       "      <td>8.003473</td>\n",
       "      <td>0.070707</td>\n",
       "    </tr>\n",
       "    <tr>\n",
       "      <th>std</th>\n",
       "      <td>18.388594</td>\n",
       "      <td>0.459772</td>\n",
       "      <td>39.345113</td>\n",
       "      <td>1.871764</td>\n",
       "      <td>0.256360</td>\n",
       "    </tr>\n",
       "    <tr>\n",
       "      <th>min</th>\n",
       "      <td>5.540000</td>\n",
       "      <td>2.472000</td>\n",
       "      <td>126.064000</td>\n",
       "      <td>3.879000</td>\n",
       "      <td>0.000000</td>\n",
       "    </tr>\n",
       "    <tr>\n",
       "      <th>25%</th>\n",
       "      <td>47.597500</td>\n",
       "      <td>2.921000</td>\n",
       "      <td>131.901968</td>\n",
       "      <td>6.901000</td>\n",
       "      <td>0.000000</td>\n",
       "    </tr>\n",
       "    <tr>\n",
       "      <th>50%</th>\n",
       "      <td>62.720000</td>\n",
       "      <td>3.439000</td>\n",
       "      <td>183.701613</td>\n",
       "      <td>7.874000</td>\n",
       "      <td>0.000000</td>\n",
       "    </tr>\n",
       "    <tr>\n",
       "      <th>75%</th>\n",
       "      <td>75.000000</td>\n",
       "      <td>3.734000</td>\n",
       "      <td>212.963861</td>\n",
       "      <td>8.595000</td>\n",
       "      <td>0.000000</td>\n",
       "    </tr>\n",
       "    <tr>\n",
       "      <th>max</th>\n",
       "      <td>100.140000</td>\n",
       "      <td>4.468000</td>\n",
       "      <td>227.232807</td>\n",
       "      <td>14.313000</td>\n",
       "      <td>1.000000</td>\n",
       "    </tr>\n",
       "  </tbody>\n",
       "</table>\n",
       "</div>"
      ],
      "text/plain": [
       "       Temperature   Fuel_Price          CPI  Unemployment    IsHoliday\n",
       "count  5148.000000  5148.000000  5148.000000   5148.000000  5148.000000\n",
       "mean     60.725019     3.356044   172.017719      8.003473     0.070707\n",
       "std      18.388594     0.459772    39.345113      1.871764     0.256360\n",
       "min       5.540000     2.472000   126.064000      3.879000     0.000000\n",
       "25%      47.597500     2.921000   131.901968      6.901000     0.000000\n",
       "50%      62.720000     3.439000   183.701613      7.874000     0.000000\n",
       "75%      75.000000     3.734000   212.963861      8.595000     0.000000\n",
       "max     100.140000     4.468000   227.232807     14.313000     1.000000"
      ]
     },
     "execution_count": 58,
     "metadata": {},
     "output_type": "execute_result"
    }
   ],
   "source": [
    "walmartDF_AllStoresTrain_X.describe()"
   ]
  },
  {
   "cell_type": "code",
   "execution_count": 59,
   "metadata": {},
   "outputs": [
    {
     "name": "stderr",
     "output_type": "stream",
     "text": [
      "C:\\Users\\harsmoha\\Anaconda3\\lib\\site-packages\\statsmodels\\compat\\pandas.py:56: FutureWarning: The pandas.core.datetools module is deprecated and will be removed in a future version. Please use the pandas.tseries module instead.\n",
      "  from pandas.core import datetools\n"
     ]
    },
    {
     "name": "stdout",
     "output_type": "stream",
     "text": [
      "                            OLS Regression Results                            \n",
      "==============================================================================\n",
      "Dep. Variable:           Weekly_Sales   R-squared:                       0.026\n",
      "Model:                            OLS   Adj. R-squared:                  0.025\n",
      "Method:                 Least Squares   F-statistic:                     27.00\n",
      "Date:                Mon, 06 Aug 2018   Prob (F-statistic):           4.69e-27\n",
      "Time:                        15:33:59   Log-Likelihood:                -75431.\n",
      "No. Observations:                5148   AIC:                         1.509e+05\n",
      "Df Residuals:                    5142   BIC:                         1.509e+05\n",
      "Df Model:                           5                                         \n",
      "Covariance Type:            nonrobust                                         \n",
      "================================================================================\n",
      "                   coef    std err          t      P>|t|      [0.025      0.975]\n",
      "--------------------------------------------------------------------------------\n",
      "const         1.761e+06   8.97e+04     19.635      0.000    1.58e+06    1.94e+06\n",
      "Temperature   -896.7557    450.391     -1.991      0.047   -1779.714     -13.797\n",
      "Fuel_Price   -1.612e+04   1.77e+04     -0.913      0.361   -5.07e+04    1.85e+04\n",
      "CPI          -1596.2599    219.577     -7.270      0.000   -2026.725   -1165.795\n",
      "Unemployment -4.209e+04   4470.649     -9.415      0.000   -5.09e+04   -3.33e+04\n",
      "IsHoliday     6.094e+04   3.08e+04      1.976      0.048     474.815    1.21e+05\n",
      "==============================================================================\n",
      "Omnibus:                      291.694   Durbin-Watson:                   2.035\n",
      "Prob(Omnibus):                  0.000   Jarque-Bera (JB):              343.364\n",
      "Skew:                           0.632   Prob(JB):                     2.75e-75\n",
      "Kurtosis:                       2.977   Cond. No.                     2.17e+03\n",
      "==============================================================================\n",
      "\n",
      "Warnings:\n",
      "[1] Standard Errors assume that the covariance matrix of the errors is correctly specified.\n",
      "[2] The condition number is large, 2.17e+03. This might indicate that there are\n",
      "strong multicollinearity or other numerical problems.\n"
     ]
    }
   ],
   "source": [
    "#Using statsmodel api to see p-values of IV and do feature selection.\n",
    "import statsmodels.api as sm\n",
    "walmartDF_AllStoresTrain_X2 = sm.add_constant(walmartDF_AllStoresTrain_X)\n",
    "est = sm.OLS(walmartDF_AllStoresTrain_Y, walmartDF_AllStoresTrain_X2)\n",
    "est2 = est.fit()\n",
    "print(est2.summary())\n",
    "#from this result, it seems Fuel_price should be removed as p-value is greater than most common threshold of 0.05 but need\n",
    "#check with adjusted R-square before blindly removing it."
   ]
  },
  {
   "cell_type": "code",
   "execution_count": 60,
   "metadata": {},
   "outputs": [
    {
     "data": {
      "text/html": [
       "<div>\n",
       "<style>\n",
       "    .dataframe thead tr:only-child th {\n",
       "        text-align: right;\n",
       "    }\n",
       "\n",
       "    .dataframe thead th {\n",
       "        text-align: left;\n",
       "    }\n",
       "\n",
       "    .dataframe tbody tr th {\n",
       "        vertical-align: top;\n",
       "    }\n",
       "</style>\n",
       "<table border=\"1\" class=\"dataframe\">\n",
       "  <thead>\n",
       "    <tr style=\"text-align: right;\">\n",
       "      <th></th>\n",
       "      <th>Temperature</th>\n",
       "      <th>Fuel_Price</th>\n",
       "      <th>CPI</th>\n",
       "      <th>Unemployment</th>\n",
       "      <th>IsHoliday</th>\n",
       "    </tr>\n",
       "  </thead>\n",
       "  <tbody>\n",
       "    <tr>\n",
       "      <th>Temperature</th>\n",
       "      <td>1.000000</td>\n",
       "      <td>0.145530</td>\n",
       "      <td>0.180218</td>\n",
       "      <td>0.093962</td>\n",
       "      <td>-0.154226</td>\n",
       "    </tr>\n",
       "    <tr>\n",
       "      <th>Fuel_Price</th>\n",
       "      <td>0.145530</td>\n",
       "      <td>1.000000</td>\n",
       "      <td>-0.170775</td>\n",
       "      <td>-0.032216</td>\n",
       "      <td>-0.082094</td>\n",
       "    </tr>\n",
       "    <tr>\n",
       "      <th>CPI</th>\n",
       "      <td>0.180218</td>\n",
       "      <td>-0.170775</td>\n",
       "      <td>1.000000</td>\n",
       "      <td>-0.308885</td>\n",
       "      <td>0.001530</td>\n",
       "    </tr>\n",
       "    <tr>\n",
       "      <th>Unemployment</th>\n",
       "      <td>0.093962</td>\n",
       "      <td>-0.032216</td>\n",
       "      <td>-0.308885</td>\n",
       "      <td>1.000000</td>\n",
       "      <td>0.006361</td>\n",
       "    </tr>\n",
       "    <tr>\n",
       "      <th>IsHoliday</th>\n",
       "      <td>-0.154226</td>\n",
       "      <td>-0.082094</td>\n",
       "      <td>0.001530</td>\n",
       "      <td>0.006361</td>\n",
       "      <td>1.000000</td>\n",
       "    </tr>\n",
       "  </tbody>\n",
       "</table>\n",
       "</div>"
      ],
      "text/plain": [
       "              Temperature  Fuel_Price       CPI  Unemployment  IsHoliday\n",
       "Temperature      1.000000    0.145530  0.180218      0.093962  -0.154226\n",
       "Fuel_Price       0.145530    1.000000 -0.170775     -0.032216  -0.082094\n",
       "CPI              0.180218   -0.170775  1.000000     -0.308885   0.001530\n",
       "Unemployment     0.093962   -0.032216 -0.308885      1.000000   0.006361\n",
       "IsHoliday       -0.154226   -0.082094  0.001530      0.006361   1.000000"
      ]
     },
     "execution_count": 60,
     "metadata": {},
     "output_type": "execute_result"
    }
   ],
   "source": [
    "walmartDF_AllStoresTrain_X.corr()"
   ]
  },
  {
   "cell_type": "code",
   "execution_count": 61,
   "metadata": {},
   "outputs": [
    {
     "name": "stdout",
     "output_type": "stream",
     "text": [
      "0.024103260308\n"
     ]
    }
   ],
   "source": [
    "from sklearn import metrics\n",
    "print (metrics.r2_score(walmartDF_AllStoresTest_Y, predicted))"
   ]
  },
  {
   "cell_type": "code",
   "execution_count": 62,
   "metadata": {
    "collapsed": true
   },
   "outputs": [],
   "source": [
    "#print (metrics.accuracy_score(walmartDF_AllStoresTest_Y, predicted))"
   ]
  },
  {
   "cell_type": "code",
   "execution_count": 63,
   "metadata": {},
   "outputs": [
    {
     "data": {
      "text/plain": [
       "Index(['Temperature', 'Fuel_Price', 'CPI', 'Unemployment', 'IsHoliday'], dtype='object')"
      ]
     },
     "execution_count": 63,
     "metadata": {},
     "output_type": "execute_result"
    }
   ],
   "source": [
    "walmartDF_AllStoresTrain_X.columns"
   ]
  },
  {
   "cell_type": "code",
   "execution_count": 64,
   "metadata": {
    "collapsed": true
   },
   "outputs": [],
   "source": [
    "#Attempting Lasso regularization\n",
    "lasso = linear_model.Lasso(alpha=0.5, max_iter=1000)"
   ]
  },
  {
   "cell_type": "code",
   "execution_count": 65,
   "metadata": {},
   "outputs": [
    {
     "data": {
      "text/plain": [
       "array([ 1208007.0707217 ,  1044906.17838728,   883514.54634235, ...,\n",
       "        1284623.97900977,   848462.05058468,  1038084.29513368])"
      ]
     },
     "execution_count": 65,
     "metadata": {},
     "output_type": "execute_result"
    }
   ],
   "source": [
    "#walmartDF_AllStoresTrain_X.shape\n",
    "model_AllStores_Lasso = lasso.fit(walmartDF_AllStoresTrain_X,walmartDF_AllStoresTrain_Y)\n",
    "Yhat_AllStores_Lasso = model_AllStores_Lasso.predict(walmartDF_AllStoresTest_X)\n",
    "Yhat_AllStores_Lasso"
   ]
  },
  {
   "cell_type": "code",
   "execution_count": 66,
   "metadata": {},
   "outputs": [
    {
     "data": {
      "image/png": "[encoded data removed]",
      "text/plain": [
       "<matplotlib.figure.Figure at 0x27723dc9fd0>"
      ]
     },
     "metadata": {},
     "output_type": "display_data"
    }
   ],
   "source": [
    "plt.plot(walmartDF_AllStoresTest_Y,Yhat_AllStores_Lasso,'ro')\n",
    "plt.plot(walmartDF_AllStoresTest_Y,walmartDF_AllStoresTest_Y,'b-')\n",
    "plt.show()"
   ]
  },
  {
   "cell_type": "code",
   "execution_count": 67,
   "metadata": {},
   "outputs": [
    {
     "name": "stdout",
     "output_type": "stream",
     "text": [
      "0.641192228541253 302884217015.5822\n"
     ]
    }
   ],
   "source": [
    "mpse, msse = calculateError(model_AllStores_Lasso, walmartDF_AllStoresTest_X, walmartDF_AllStoresTest_Y)\n",
    "print (mpse, msse)"
   ]
  },
  {
   "cell_type": "code",
   "execution_count": 68,
   "metadata": {},
   "outputs": [
    {
     "data": {
      "text/html": [
       "<div>\n",
       "<style>\n",
       "    .dataframe thead tr:only-child th {\n",
       "        text-align: right;\n",
       "    }\n",
       "\n",
       "    .dataframe thead th {\n",
       "        text-align: left;\n",
       "    }\n",
       "\n",
       "    .dataframe tbody tr th {\n",
       "        vertical-align: top;\n",
       "    }\n",
       "</style>\n",
       "<table border=\"1\" class=\"dataframe\">\n",
       "  <thead>\n",
       "    <tr style=\"text-align: right;\">\n",
       "      <th></th>\n",
       "      <th>Store</th>\n",
       "      <th>Date</th>\n",
       "      <th>Temperature</th>\n",
       "      <th>Fuel_Price</th>\n",
       "      <th>CPI</th>\n",
       "      <th>Unemployment</th>\n",
       "      <th>IsHoliday</th>\n",
       "      <th>DateObj</th>\n",
       "      <th>Weekly_Sales</th>\n",
       "      <th>Store_2</th>\n",
       "      <th>...</th>\n",
       "      <th>Store_36</th>\n",
       "      <th>Store_37</th>\n",
       "      <th>Store_38</th>\n",
       "      <th>Store_39</th>\n",
       "      <th>Store_40</th>\n",
       "      <th>Store_41</th>\n",
       "      <th>Store_42</th>\n",
       "      <th>Store_43</th>\n",
       "      <th>Store_44</th>\n",
       "      <th>Store_45</th>\n",
       "    </tr>\n",
       "  </thead>\n",
       "  <tbody>\n",
       "    <tr>\n",
       "      <th>0</th>\n",
       "      <td>1</td>\n",
       "      <td>2/5/2010</td>\n",
       "      <td>42.31</td>\n",
       "      <td>2.572</td>\n",
       "      <td>211.096358</td>\n",
       "      <td>8.106</td>\n",
       "      <td>False</td>\n",
       "      <td>2010-02-05</td>\n",
       "      <td>1643690.90</td>\n",
       "      <td>0</td>\n",
       "      <td>...</td>\n",
       "      <td>0</td>\n",
       "      <td>0</td>\n",
       "      <td>0</td>\n",
       "      <td>0</td>\n",
       "      <td>0</td>\n",
       "      <td>0</td>\n",
       "      <td>0</td>\n",
       "      <td>0</td>\n",
       "      <td>0</td>\n",
       "      <td>0</td>\n",
       "    </tr>\n",
       "    <tr>\n",
       "      <th>1</th>\n",
       "      <td>1</td>\n",
       "      <td>2/12/2010</td>\n",
       "      <td>38.51</td>\n",
       "      <td>2.548</td>\n",
       "      <td>211.242170</td>\n",
       "      <td>8.106</td>\n",
       "      <td>True</td>\n",
       "      <td>2010-02-12</td>\n",
       "      <td>1641957.44</td>\n",
       "      <td>0</td>\n",
       "      <td>...</td>\n",
       "      <td>0</td>\n",
       "      <td>0</td>\n",
       "      <td>0</td>\n",
       "      <td>0</td>\n",
       "      <td>0</td>\n",
       "      <td>0</td>\n",
       "      <td>0</td>\n",
       "      <td>0</td>\n",
       "      <td>0</td>\n",
       "      <td>0</td>\n",
       "    </tr>\n",
       "    <tr>\n",
       "      <th>2</th>\n",
       "      <td>1</td>\n",
       "      <td>2/19/2010</td>\n",
       "      <td>39.93</td>\n",
       "      <td>2.514</td>\n",
       "      <td>211.289143</td>\n",
       "      <td>8.106</td>\n",
       "      <td>False</td>\n",
       "      <td>2010-02-19</td>\n",
       "      <td>1611968.17</td>\n",
       "      <td>0</td>\n",
       "      <td>...</td>\n",
       "      <td>0</td>\n",
       "      <td>0</td>\n",
       "      <td>0</td>\n",
       "      <td>0</td>\n",
       "      <td>0</td>\n",
       "      <td>0</td>\n",
       "      <td>0</td>\n",
       "      <td>0</td>\n",
       "      <td>0</td>\n",
       "      <td>0</td>\n",
       "    </tr>\n",
       "    <tr>\n",
       "      <th>3</th>\n",
       "      <td>1</td>\n",
       "      <td>2/26/2010</td>\n",
       "      <td>46.63</td>\n",
       "      <td>2.561</td>\n",
       "      <td>211.319643</td>\n",
       "      <td>8.106</td>\n",
       "      <td>False</td>\n",
       "      <td>2010-02-26</td>\n",
       "      <td>1409727.59</td>\n",
       "      <td>0</td>\n",
       "      <td>...</td>\n",
       "      <td>0</td>\n",
       "      <td>0</td>\n",
       "      <td>0</td>\n",
       "      <td>0</td>\n",
       "      <td>0</td>\n",
       "      <td>0</td>\n",
       "      <td>0</td>\n",
       "      <td>0</td>\n",
       "      <td>0</td>\n",
       "      <td>0</td>\n",
       "    </tr>\n",
       "    <tr>\n",
       "      <th>4</th>\n",
       "      <td>1</td>\n",
       "      <td>3/5/2010</td>\n",
       "      <td>46.50</td>\n",
       "      <td>2.625</td>\n",
       "      <td>211.350143</td>\n",
       "      <td>8.106</td>\n",
       "      <td>False</td>\n",
       "      <td>2010-03-05</td>\n",
       "      <td>1554806.68</td>\n",
       "      <td>0</td>\n",
       "      <td>...</td>\n",
       "      <td>0</td>\n",
       "      <td>0</td>\n",
       "      <td>0</td>\n",
       "      <td>0</td>\n",
       "      <td>0</td>\n",
       "      <td>0</td>\n",
       "      <td>0</td>\n",
       "      <td>0</td>\n",
       "      <td>0</td>\n",
       "      <td>0</td>\n",
       "    </tr>\n",
       "  </tbody>\n",
       "</table>\n",
       "<p>5 rows × 53 columns</p>\n",
       "</div>"
      ],
      "text/plain": [
       "   Store       Date  Temperature  Fuel_Price         CPI  Unemployment  \\\n",
       "0      1   2/5/2010        42.31       2.572  211.096358         8.106   \n",
       "1      1  2/12/2010        38.51       2.548  211.242170         8.106   \n",
       "2      1  2/19/2010        39.93       2.514  211.289143         8.106   \n",
       "3      1  2/26/2010        46.63       2.561  211.319643         8.106   \n",
       "4      1   3/5/2010        46.50       2.625  211.350143         8.106   \n",
       "\n",
       "   IsHoliday    DateObj  Weekly_Sales  Store_2    ...     Store_36  Store_37  \\\n",
       "0      False 2010-02-05    1643690.90        0    ...            0         0   \n",
       "1       True 2010-02-12    1641957.44        0    ...            0         0   \n",
       "2      False 2010-02-19    1611968.17        0    ...            0         0   \n",
       "3      False 2010-02-26    1409727.59        0    ...            0         0   \n",
       "4      False 2010-03-05    1554806.68        0    ...            0         0   \n",
       "\n",
       "   Store_38  Store_39  Store_40  Store_41  Store_42  Store_43  Store_44  \\\n",
       "0         0         0         0         0         0         0         0   \n",
       "1         0         0         0         0         0         0         0   \n",
       "2         0         0         0         0         0         0         0   \n",
       "3         0         0         0         0         0         0         0   \n",
       "4         0         0         0         0         0         0         0   \n",
       "\n",
       "   Store_45  \n",
       "0         0  \n",
       "1         0  \n",
       "2         0  \n",
       "3         0  \n",
       "4         0  \n",
       "\n",
       "[5 rows x 53 columns]"
      ]
     },
     "execution_count": 68,
     "metadata": {},
     "output_type": "execute_result"
    }
   ],
   "source": [
    "#Still huge error, perform cross-tabulation\n",
    "Store_dummies = pd.get_dummies(walmartDFFinal_Store.Store,prefix='Store').iloc[:,1:]\n",
    "walmartDFFinal_AllStoresCross = pd.concat([walmartDFFinal_Store,Store_dummies],axis=1)\n",
    "walmartDFFinal_AllStoresCross.head()"
   ]
  },
  {
   "cell_type": "code",
   "execution_count": 69,
   "metadata": {},
   "outputs": [
    {
     "data": {
      "text/html": [
       "<div>\n",
       "<style>\n",
       "    .dataframe thead tr:only-child th {\n",
       "        text-align: right;\n",
       "    }\n",
       "\n",
       "    .dataframe thead th {\n",
       "        text-align: left;\n",
       "    }\n",
       "\n",
       "    .dataframe tbody tr th {\n",
       "        vertical-align: top;\n",
       "    }\n",
       "</style>\n",
       "<table border=\"1\" class=\"dataframe\">\n",
       "  <thead>\n",
       "    <tr style=\"text-align: right;\">\n",
       "      <th></th>\n",
       "      <th>Store</th>\n",
       "      <th>Date</th>\n",
       "      <th>Temperature</th>\n",
       "      <th>Fuel_Price</th>\n",
       "      <th>CPI</th>\n",
       "      <th>Unemployment</th>\n",
       "      <th>IsHoliday</th>\n",
       "      <th>DateObj</th>\n",
       "      <th>Weekly_Sales</th>\n",
       "      <th>Store_2</th>\n",
       "      <th>...</th>\n",
       "      <th>Store_36</th>\n",
       "      <th>Store_37</th>\n",
       "      <th>Store_38</th>\n",
       "      <th>Store_39</th>\n",
       "      <th>Store_40</th>\n",
       "      <th>Store_41</th>\n",
       "      <th>Store_42</th>\n",
       "      <th>Store_43</th>\n",
       "      <th>Store_44</th>\n",
       "      <th>Store_45</th>\n",
       "    </tr>\n",
       "  </thead>\n",
       "  <tbody>\n",
       "    <tr>\n",
       "      <th>0</th>\n",
       "      <td>1</td>\n",
       "      <td>2/5/2010</td>\n",
       "      <td>42.31</td>\n",
       "      <td>2.572</td>\n",
       "      <td>211.096358</td>\n",
       "      <td>8.106</td>\n",
       "      <td>0</td>\n",
       "      <td>2010-02-05</td>\n",
       "      <td>1643690.90</td>\n",
       "      <td>0</td>\n",
       "      <td>...</td>\n",
       "      <td>0</td>\n",
       "      <td>0</td>\n",
       "      <td>0</td>\n",
       "      <td>0</td>\n",
       "      <td>0</td>\n",
       "      <td>0</td>\n",
       "      <td>0</td>\n",
       "      <td>0</td>\n",
       "      <td>0</td>\n",
       "      <td>0</td>\n",
       "    </tr>\n",
       "    <tr>\n",
       "      <th>1</th>\n",
       "      <td>1</td>\n",
       "      <td>2/12/2010</td>\n",
       "      <td>38.51</td>\n",
       "      <td>2.548</td>\n",
       "      <td>211.242170</td>\n",
       "      <td>8.106</td>\n",
       "      <td>1</td>\n",
       "      <td>2010-02-12</td>\n",
       "      <td>1641957.44</td>\n",
       "      <td>0</td>\n",
       "      <td>...</td>\n",
       "      <td>0</td>\n",
       "      <td>0</td>\n",
       "      <td>0</td>\n",
       "      <td>0</td>\n",
       "      <td>0</td>\n",
       "      <td>0</td>\n",
       "      <td>0</td>\n",
       "      <td>0</td>\n",
       "      <td>0</td>\n",
       "      <td>0</td>\n",
       "    </tr>\n",
       "    <tr>\n",
       "      <th>2</th>\n",
       "      <td>1</td>\n",
       "      <td>2/19/2010</td>\n",
       "      <td>39.93</td>\n",
       "      <td>2.514</td>\n",
       "      <td>211.289143</td>\n",
       "      <td>8.106</td>\n",
       "      <td>0</td>\n",
       "      <td>2010-02-19</td>\n",
       "      <td>1611968.17</td>\n",
       "      <td>0</td>\n",
       "      <td>...</td>\n",
       "      <td>0</td>\n",
       "      <td>0</td>\n",
       "      <td>0</td>\n",
       "      <td>0</td>\n",
       "      <td>0</td>\n",
       "      <td>0</td>\n",
       "      <td>0</td>\n",
       "      <td>0</td>\n",
       "      <td>0</td>\n",
       "      <td>0</td>\n",
       "    </tr>\n",
       "    <tr>\n",
       "      <th>3</th>\n",
       "      <td>1</td>\n",
       "      <td>2/26/2010</td>\n",
       "      <td>46.63</td>\n",
       "      <td>2.561</td>\n",
       "      <td>211.319643</td>\n",
       "      <td>8.106</td>\n",
       "      <td>0</td>\n",
       "      <td>2010-02-26</td>\n",
       "      <td>1409727.59</td>\n",
       "      <td>0</td>\n",
       "      <td>...</td>\n",
       "      <td>0</td>\n",
       "      <td>0</td>\n",
       "      <td>0</td>\n",
       "      <td>0</td>\n",
       "      <td>0</td>\n",
       "      <td>0</td>\n",
       "      <td>0</td>\n",
       "      <td>0</td>\n",
       "      <td>0</td>\n",
       "      <td>0</td>\n",
       "    </tr>\n",
       "    <tr>\n",
       "      <th>4</th>\n",
       "      <td>1</td>\n",
       "      <td>3/5/2010</td>\n",
       "      <td>46.50</td>\n",
       "      <td>2.625</td>\n",
       "      <td>211.350143</td>\n",
       "      <td>8.106</td>\n",
       "      <td>0</td>\n",
       "      <td>2010-03-05</td>\n",
       "      <td>1554806.68</td>\n",
       "      <td>0</td>\n",
       "      <td>...</td>\n",
       "      <td>0</td>\n",
       "      <td>0</td>\n",
       "      <td>0</td>\n",
       "      <td>0</td>\n",
       "      <td>0</td>\n",
       "      <td>0</td>\n",
       "      <td>0</td>\n",
       "      <td>0</td>\n",
       "      <td>0</td>\n",
       "      <td>0</td>\n",
       "    </tr>\n",
       "  </tbody>\n",
       "</table>\n",
       "<p>5 rows × 53 columns</p>\n",
       "</div>"
      ],
      "text/plain": [
       "   Store       Date  Temperature  Fuel_Price         CPI  Unemployment  \\\n",
       "0      1   2/5/2010        42.31       2.572  211.096358         8.106   \n",
       "1      1  2/12/2010        38.51       2.548  211.242170         8.106   \n",
       "2      1  2/19/2010        39.93       2.514  211.289143         8.106   \n",
       "3      1  2/26/2010        46.63       2.561  211.319643         8.106   \n",
       "4      1   3/5/2010        46.50       2.625  211.350143         8.106   \n",
       "\n",
       "   IsHoliday    DateObj  Weekly_Sales  Store_2    ...     Store_36  Store_37  \\\n",
       "0          0 2010-02-05    1643690.90        0    ...            0         0   \n",
       "1          1 2010-02-12    1641957.44        0    ...            0         0   \n",
       "2          0 2010-02-19    1611968.17        0    ...            0         0   \n",
       "3          0 2010-02-26    1409727.59        0    ...            0         0   \n",
       "4          0 2010-03-05    1554806.68        0    ...            0         0   \n",
       "\n",
       "   Store_38  Store_39  Store_40  Store_41  Store_42  Store_43  Store_44  \\\n",
       "0         0         0         0         0         0         0         0   \n",
       "1         0         0         0         0         0         0         0   \n",
       "2         0         0         0         0         0         0         0   \n",
       "3         0         0         0         0         0         0         0   \n",
       "4         0         0         0         0         0         0         0   \n",
       "\n",
       "   Store_45  \n",
       "0         0  \n",
       "1         0  \n",
       "2         0  \n",
       "3         0  \n",
       "4         0  \n",
       "\n",
       "[5 rows x 53 columns]"
      ]
     },
     "execution_count": 69,
     "metadata": {},
     "output_type": "execute_result"
    }
   ],
   "source": [
    "walmartDFFinal_AllStoresCross_1 = walmartDFFinal_AllStoresCross.replace({True:1,False:0})\n",
    "walmartDFFinal_AllStoresCross_1.head()"
   ]
  },
  {
   "cell_type": "code",
   "execution_count": 70,
   "metadata": {
    "collapsed": true
   },
   "outputs": [],
   "source": [
    "walmartDFFinal_AllStoresCross_Train, walmartDFFinal_AllStoresCross_Test = train_test_split(\n",
    "    walmartDFFinal_AllStoresCross_1,test_size=0.3,random_state=42)"
   ]
  },
  {
   "cell_type": "code",
   "execution_count": 71,
   "metadata": {},
   "outputs": [
    {
     "data": {
      "text/plain": [
       "(1931, 53)"
      ]
     },
     "execution_count": 71,
     "metadata": {},
     "output_type": "execute_result"
    }
   ],
   "source": [
    "walmartDFFinal_AllStoresCross_Test.shape"
   ]
  },
  {
   "cell_type": "code",
   "execution_count": 72,
   "metadata": {},
   "outputs": [
    {
     "data": {
      "text/html": [
       "<div>\n",
       "<style>\n",
       "    .dataframe thead tr:only-child th {\n",
       "        text-align: right;\n",
       "    }\n",
       "\n",
       "    .dataframe thead th {\n",
       "        text-align: left;\n",
       "    }\n",
       "\n",
       "    .dataframe tbody tr th {\n",
       "        vertical-align: top;\n",
       "    }\n",
       "</style>\n",
       "<table border=\"1\" class=\"dataframe\">\n",
       "  <thead>\n",
       "    <tr style=\"text-align: right;\">\n",
       "      <th></th>\n",
       "      <th>Temperature</th>\n",
       "      <th>Fuel_Price</th>\n",
       "      <th>CPI</th>\n",
       "      <th>Unemployment</th>\n",
       "      <th>IsHoliday</th>\n",
       "      <th>Store_2</th>\n",
       "      <th>Store_3</th>\n",
       "      <th>Store_4</th>\n",
       "      <th>Store_5</th>\n",
       "      <th>Store_6</th>\n",
       "      <th>...</th>\n",
       "      <th>Store_36</th>\n",
       "      <th>Store_37</th>\n",
       "      <th>Store_38</th>\n",
       "      <th>Store_39</th>\n",
       "      <th>Store_40</th>\n",
       "      <th>Store_41</th>\n",
       "      <th>Store_42</th>\n",
       "      <th>Store_43</th>\n",
       "      <th>Store_44</th>\n",
       "      <th>Store_45</th>\n",
       "    </tr>\n",
       "  </thead>\n",
       "  <tbody>\n",
       "    <tr>\n",
       "      <th>1288</th>\n",
       "      <td>49.96</td>\n",
       "      <td>2.828</td>\n",
       "      <td>126.496258</td>\n",
       "      <td>9.765</td>\n",
       "      <td>1</td>\n",
       "      <td>0</td>\n",
       "      <td>0</td>\n",
       "      <td>0</td>\n",
       "      <td>0</td>\n",
       "      <td>0</td>\n",
       "      <td>...</td>\n",
       "      <td>0</td>\n",
       "      <td>0</td>\n",
       "      <td>0</td>\n",
       "      <td>0</td>\n",
       "      <td>0</td>\n",
       "      <td>0</td>\n",
       "      <td>0</td>\n",
       "      <td>0</td>\n",
       "      <td>0</td>\n",
       "      <td>0</td>\n",
       "    </tr>\n",
       "    <tr>\n",
       "      <th>1115</th>\n",
       "      <td>65.19</td>\n",
       "      <td>3.891</td>\n",
       "      <td>225.062571</td>\n",
       "      <td>5.679</td>\n",
       "      <td>0</td>\n",
       "      <td>0</td>\n",
       "      <td>0</td>\n",
       "      <td>0</td>\n",
       "      <td>0</td>\n",
       "      <td>0</td>\n",
       "      <td>...</td>\n",
       "      <td>0</td>\n",
       "      <td>0</td>\n",
       "      <td>0</td>\n",
       "      <td>0</td>\n",
       "      <td>0</td>\n",
       "      <td>0</td>\n",
       "      <td>0</td>\n",
       "      <td>0</td>\n",
       "      <td>0</td>\n",
       "      <td>0</td>\n",
       "    </tr>\n",
       "    <tr>\n",
       "      <th>582</th>\n",
       "      <td>65.30</td>\n",
       "      <td>2.808</td>\n",
       "      <td>211.038853</td>\n",
       "      <td>6.465</td>\n",
       "      <td>0</td>\n",
       "      <td>0</td>\n",
       "      <td>0</td>\n",
       "      <td>0</td>\n",
       "      <td>1</td>\n",
       "      <td>0</td>\n",
       "      <td>...</td>\n",
       "      <td>0</td>\n",
       "      <td>0</td>\n",
       "      <td>0</td>\n",
       "      <td>0</td>\n",
       "      <td>0</td>\n",
       "      <td>0</td>\n",
       "      <td>0</td>\n",
       "      <td>0</td>\n",
       "      <td>0</td>\n",
       "      <td>0</td>\n",
       "    </tr>\n",
       "    <tr>\n",
       "      <th>3647</th>\n",
       "      <td>56.94</td>\n",
       "      <td>3.851</td>\n",
       "      <td>135.265267</td>\n",
       "      <td>7.818</td>\n",
       "      <td>0</td>\n",
       "      <td>0</td>\n",
       "      <td>0</td>\n",
       "      <td>0</td>\n",
       "      <td>0</td>\n",
       "      <td>0</td>\n",
       "      <td>...</td>\n",
       "      <td>0</td>\n",
       "      <td>0</td>\n",
       "      <td>0</td>\n",
       "      <td>0</td>\n",
       "      <td>0</td>\n",
       "      <td>0</td>\n",
       "      <td>0</td>\n",
       "      <td>0</td>\n",
       "      <td>0</td>\n",
       "      <td>0</td>\n",
       "    </tr>\n",
       "    <tr>\n",
       "      <th>1564</th>\n",
       "      <td>86.49</td>\n",
       "      <td>3.638</td>\n",
       "      <td>225.829306</td>\n",
       "      <td>6.334</td>\n",
       "      <td>0</td>\n",
       "      <td>0</td>\n",
       "      <td>0</td>\n",
       "      <td>0</td>\n",
       "      <td>0</td>\n",
       "      <td>0</td>\n",
       "      <td>...</td>\n",
       "      <td>0</td>\n",
       "      <td>0</td>\n",
       "      <td>0</td>\n",
       "      <td>0</td>\n",
       "      <td>0</td>\n",
       "      <td>0</td>\n",
       "      <td>0</td>\n",
       "      <td>0</td>\n",
       "      <td>0</td>\n",
       "      <td>0</td>\n",
       "    </tr>\n",
       "  </tbody>\n",
       "</table>\n",
       "<p>5 rows × 49 columns</p>\n",
       "</div>"
      ],
      "text/plain": [
       "      Temperature  Fuel_Price         CPI  Unemployment  IsHoliday  Store_2  \\\n",
       "1288        49.96       2.828  126.496258         9.765          1        0   \n",
       "1115        65.19       3.891  225.062571         5.679          0        0   \n",
       "582         65.30       2.808  211.038853         6.465          0        0   \n",
       "3647        56.94       3.851  135.265267         7.818          0        0   \n",
       "1564        86.49       3.638  225.829306         6.334          0        0   \n",
       "\n",
       "      Store_3  Store_4  Store_5  Store_6    ...     Store_36  Store_37  \\\n",
       "1288        0        0        0        0    ...            0         0   \n",
       "1115        0        0        0        0    ...            0         0   \n",
       "582         0        0        1        0    ...            0         0   \n",
       "3647        0        0        0        0    ...            0         0   \n",
       "1564        0        0        0        0    ...            0         0   \n",
       "\n",
       "      Store_38  Store_39  Store_40  Store_41  Store_42  Store_43  Store_44  \\\n",
       "1288         0         0         0         0         0         0         0   \n",
       "1115         0         0         0         0         0         0         0   \n",
       "582          0         0         0         0         0         0         0   \n",
       "3647         0         0         0         0         0         0         0   \n",
       "1564         0         0         0         0         0         0         0   \n",
       "\n",
       "      Store_45  \n",
       "1288         0  \n",
       "1115         0  \n",
       "582          0  \n",
       "3647         0  \n",
       "1564         0  \n",
       "\n",
       "[5 rows x 49 columns]"
      ]
     },
     "execution_count": 72,
     "metadata": {},
     "output_type": "execute_result"
    }
   ],
   "source": [
    "wmDFFinal_AllStoresCross_Train_X = walmartDFFinal_AllStoresCross_Train.iloc[:,list(range(2,7)) + list(range(9,walmartDFFinal_AllStoresCross_Train.shape[1]))]\n",
    "wmDFFinal_AllStoresCross_Train_X.head()"
   ]
  },
  {
   "cell_type": "code",
   "execution_count": 73,
   "metadata": {},
   "outputs": [
    {
     "data": {
      "text/plain": [
       "1288    2176028.52\n",
       "1115     909989.45\n",
       "582      306858.69\n",
       "3647     997474.93\n",
       "1564    1372872.35\n",
       "Name: Weekly_Sales, dtype: float64"
      ]
     },
     "execution_count": 73,
     "metadata": {},
     "output_type": "execute_result"
    }
   ],
   "source": [
    "wmDFFinal_AllStoresCross_Train_Y = walmartDFFinal_AllStoresCross_Train.Weekly_Sales\n",
    "wmDFFinal_AllStoresCross_Train_Y.head()"
   ]
  },
  {
   "cell_type": "code",
   "execution_count": 74,
   "metadata": {},
   "outputs": [
    {
     "data": {
      "text/html": [
       "<div>\n",
       "<style>\n",
       "    .dataframe thead tr:only-child th {\n",
       "        text-align: right;\n",
       "    }\n",
       "\n",
       "    .dataframe thead th {\n",
       "        text-align: left;\n",
       "    }\n",
       "\n",
       "    .dataframe tbody tr th {\n",
       "        vertical-align: top;\n",
       "    }\n",
       "</style>\n",
       "<table border=\"1\" class=\"dataframe\">\n",
       "  <thead>\n",
       "    <tr style=\"text-align: right;\">\n",
       "      <th></th>\n",
       "      <th>Temperature</th>\n",
       "      <th>Fuel_Price</th>\n",
       "      <th>CPI</th>\n",
       "      <th>Unemployment</th>\n",
       "      <th>IsHoliday</th>\n",
       "      <th>Store_2</th>\n",
       "      <th>Store_3</th>\n",
       "      <th>Store_4</th>\n",
       "      <th>Store_5</th>\n",
       "      <th>Store_6</th>\n",
       "      <th>...</th>\n",
       "      <th>Store_36</th>\n",
       "      <th>Store_37</th>\n",
       "      <th>Store_38</th>\n",
       "      <th>Store_39</th>\n",
       "      <th>Store_40</th>\n",
       "      <th>Store_41</th>\n",
       "      <th>Store_42</th>\n",
       "      <th>Store_43</th>\n",
       "      <th>Store_44</th>\n",
       "      <th>Store_45</th>\n",
       "    </tr>\n",
       "  </thead>\n",
       "  <tbody>\n",
       "    <tr>\n",
       "      <th>2436</th>\n",
       "      <td>42.39</td>\n",
       "      <td>2.805</td>\n",
       "      <td>131.784000</td>\n",
       "      <td>9.202</td>\n",
       "      <td>0</td>\n",
       "      <td>0</td>\n",
       "      <td>0</td>\n",
       "      <td>0</td>\n",
       "      <td>0</td>\n",
       "      <td>0</td>\n",
       "      <td>...</td>\n",
       "      <td>0</td>\n",
       "      <td>0</td>\n",
       "      <td>0</td>\n",
       "      <td>0</td>\n",
       "      <td>0</td>\n",
       "      <td>0</td>\n",
       "      <td>0</td>\n",
       "      <td>0</td>\n",
       "      <td>0</td>\n",
       "      <td>0</td>\n",
       "    </tr>\n",
       "    <tr>\n",
       "      <th>3361</th>\n",
       "      <td>68.88</td>\n",
       "      <td>3.964</td>\n",
       "      <td>135.265267</td>\n",
       "      <td>8.212</td>\n",
       "      <td>0</td>\n",
       "      <td>0</td>\n",
       "      <td>0</td>\n",
       "      <td>0</td>\n",
       "      <td>0</td>\n",
       "      <td>0</td>\n",
       "      <td>...</td>\n",
       "      <td>0</td>\n",
       "      <td>0</td>\n",
       "      <td>0</td>\n",
       "      <td>0</td>\n",
       "      <td>0</td>\n",
       "      <td>0</td>\n",
       "      <td>0</td>\n",
       "      <td>0</td>\n",
       "      <td>0</td>\n",
       "      <td>0</td>\n",
       "    </tr>\n",
       "    <tr>\n",
       "      <th>233</th>\n",
       "      <td>65.87</td>\n",
       "      <td>3.372</td>\n",
       "      <td>217.325182</td>\n",
       "      <td>7.441</td>\n",
       "      <td>0</td>\n",
       "      <td>1</td>\n",
       "      <td>0</td>\n",
       "      <td>0</td>\n",
       "      <td>0</td>\n",
       "      <td>0</td>\n",
       "      <td>...</td>\n",
       "      <td>0</td>\n",
       "      <td>0</td>\n",
       "      <td>0</td>\n",
       "      <td>0</td>\n",
       "      <td>0</td>\n",
       "      <td>0</td>\n",
       "      <td>0</td>\n",
       "      <td>0</td>\n",
       "      <td>0</td>\n",
       "      <td>0</td>\n",
       "    </tr>\n",
       "    <tr>\n",
       "      <th>3667</th>\n",
       "      <td>40.08</td>\n",
       "      <td>3.570</td>\n",
       "      <td>136.461806</td>\n",
       "      <td>7.598</td>\n",
       "      <td>0</td>\n",
       "      <td>0</td>\n",
       "      <td>0</td>\n",
       "      <td>0</td>\n",
       "      <td>0</td>\n",
       "      <td>0</td>\n",
       "      <td>...</td>\n",
       "      <td>0</td>\n",
       "      <td>0</td>\n",
       "      <td>0</td>\n",
       "      <td>0</td>\n",
       "      <td>0</td>\n",
       "      <td>0</td>\n",
       "      <td>0</td>\n",
       "      <td>0</td>\n",
       "      <td>0</td>\n",
       "      <td>0</td>\n",
       "    </tr>\n",
       "    <tr>\n",
       "      <th>5011</th>\n",
       "      <td>59.56</td>\n",
       "      <td>2.701</td>\n",
       "      <td>209.980321</td>\n",
       "      <td>8.554</td>\n",
       "      <td>0</td>\n",
       "      <td>0</td>\n",
       "      <td>0</td>\n",
       "      <td>0</td>\n",
       "      <td>0</td>\n",
       "      <td>0</td>\n",
       "      <td>...</td>\n",
       "      <td>1</td>\n",
       "      <td>0</td>\n",
       "      <td>0</td>\n",
       "      <td>0</td>\n",
       "      <td>0</td>\n",
       "      <td>0</td>\n",
       "      <td>0</td>\n",
       "      <td>0</td>\n",
       "      <td>0</td>\n",
       "      <td>0</td>\n",
       "    </tr>\n",
       "  </tbody>\n",
       "</table>\n",
       "<p>5 rows × 49 columns</p>\n",
       "</div>"
      ],
      "text/plain": [
       "      Temperature  Fuel_Price         CPI  Unemployment  IsHoliday  Store_2  \\\n",
       "2436        42.39       2.805  131.784000         9.202          0        0   \n",
       "3361        68.88       3.964  135.265267         8.212          0        0   \n",
       "233         65.87       3.372  217.325182         7.441          0        1   \n",
       "3667        40.08       3.570  136.461806         7.598          0        0   \n",
       "5011        59.56       2.701  209.980321         8.554          0        0   \n",
       "\n",
       "      Store_3  Store_4  Store_5  Store_6    ...     Store_36  Store_37  \\\n",
       "2436        0        0        0        0    ...            0         0   \n",
       "3361        0        0        0        0    ...            0         0   \n",
       "233         0        0        0        0    ...            0         0   \n",
       "3667        0        0        0        0    ...            0         0   \n",
       "5011        0        0        0        0    ...            1         0   \n",
       "\n",
       "      Store_38  Store_39  Store_40  Store_41  Store_42  Store_43  Store_44  \\\n",
       "2436         0         0         0         0         0         0         0   \n",
       "3361         0         0         0         0         0         0         0   \n",
       "233          0         0         0         0         0         0         0   \n",
       "3667         0         0         0         0         0         0         0   \n",
       "5011         0         0         0         0         0         0         0   \n",
       "\n",
       "      Store_45  \n",
       "2436         0  \n",
       "3361         0  \n",
       "233          0  \n",
       "3667         0  \n",
       "5011         0  \n",
       "\n",
       "[5 rows x 49 columns]"
      ]
     },
     "execution_count": 74,
     "metadata": {},
     "output_type": "execute_result"
    }
   ],
   "source": [
    "wmDFFinal_AllStoresCross_Test_X = walmartDFFinal_AllStoresCross_Test.iloc[:,list(range(2,7)) + list(range(9,walmartDFFinal_AllStoresCross_Test.shape[1]))]\n",
    "wmDFFinal_AllStoresCross_Test_X.head()"
   ]
  },
  {
   "cell_type": "code",
   "execution_count": 75,
   "metadata": {},
   "outputs": [
    {
     "data": {
      "text/plain": [
       "2436    1138800.32\n",
       "3361    1304850.67\n",
       "233     1769296.25\n",
       "3667    1077640.13\n",
       "5011     428851.99\n",
       "Name: Weekly_Sales, dtype: float64"
      ]
     },
     "execution_count": 75,
     "metadata": {},
     "output_type": "execute_result"
    }
   ],
   "source": [
    "wmDFFinal_AllStoresCross_Test_Y = walmartDFFinal_AllStoresCross_Test.Weekly_Sales\n",
    "wmDFFinal_AllStoresCross_Test_Y.head()"
   ]
  },
  {
   "cell_type": "code",
   "execution_count": 76,
   "metadata": {},
   "outputs": [
    {
     "data": {
      "text/plain": [
       "(4504, 49)"
      ]
     },
     "execution_count": 76,
     "metadata": {},
     "output_type": "execute_result"
    }
   ],
   "source": [
    "wmDFFinal_AllStoresCross_Train_X.shape"
   ]
  },
  {
   "cell_type": "code",
   "execution_count": 77,
   "metadata": {
    "scrolled": false
   },
   "outputs": [
    {
     "name": "stderr",
     "output_type": "stream",
     "text": [
      "C:\\Users\\harsmoha\\Anaconda3\\lib\\site-packages\\ipykernel_launcher.py:5: SettingWithCopyWarning: \n",
      "A value is trying to be set on a copy of a slice from a DataFrame.\n",
      "Try using .loc[row_indexer,col_indexer] = value instead\n",
      "\n",
      "See the caveats in the documentation: http://pandas.pydata.org/pandas-docs/stable/indexing.html#indexing-view-versus-copy\n",
      "  \"\"\"\n"
     ]
    }
   ],
   "source": [
    "#Attempting backward elimination approach for getting accuracy\n",
    "alpha = 0.05\n",
    "#df = pd.DataFrame(np.ones(4504,)).join(wmDFFinal_AllStoresCross_Train_X,how='outer')\n",
    "df = wmDFFinal_AllStoresCross_Train_X\n",
    "df['Ones'] = np.ones(wmDFFinal_AllStoresCross_Train_X.shape[0],)\n",
    "dfcolumns = df.columns.values"
   ]
  },
  {
   "cell_type": "code",
   "execution_count": 78,
   "metadata": {
    "scrolled": true
   },
   "outputs": [
    {
     "data": {
      "text/plain": [
       "['Ones',\n",
       " 'Temperature',\n",
       " 'Fuel_Price',\n",
       " 'CPI',\n",
       " 'Unemployment',\n",
       " 'IsHoliday',\n",
       " 'Store_2',\n",
       " 'Store_3',\n",
       " 'Store_4',\n",
       " 'Store_5',\n",
       " 'Store_6',\n",
       " 'Store_7',\n",
       " 'Store_8',\n",
       " 'Store_9',\n",
       " 'Store_10',\n",
       " 'Store_11',\n",
       " 'Store_12',\n",
       " 'Store_13',\n",
       " 'Store_14',\n",
       " 'Store_15',\n",
       " 'Store_16',\n",
       " 'Store_17',\n",
       " 'Store_18',\n",
       " 'Store_19',\n",
       " 'Store_20',\n",
       " 'Store_21',\n",
       " 'Store_22',\n",
       " 'Store_23',\n",
       " 'Store_24',\n",
       " 'Store_25',\n",
       " 'Store_26',\n",
       " 'Store_27',\n",
       " 'Store_28',\n",
       " 'Store_29',\n",
       " 'Store_30',\n",
       " 'Store_31',\n",
       " 'Store_32',\n",
       " 'Store_33',\n",
       " 'Store_34',\n",
       " 'Store_35',\n",
       " 'Store_36',\n",
       " 'Store_37',\n",
       " 'Store_38',\n",
       " 'Store_39',\n",
       " 'Store_40',\n",
       " 'Store_41',\n",
       " 'Store_42',\n",
       " 'Store_43',\n",
       " 'Store_44',\n",
       " 'Store_45']"
      ]
     },
     "execution_count": 78,
     "metadata": {},
     "output_type": "execute_result"
    }
   ],
   "source": [
    "dfcolumns = list(dfcolumns[(dfcolumns.shape[0])-1:(dfcolumns.shape[0])]) + list(dfcolumns[:(dfcolumns.shape[0])-1])\n",
    "dfcolumns"
   ]
  },
  {
   "cell_type": "code",
   "execution_count": 79,
   "metadata": {},
   "outputs": [
    {
     "data": {
      "text/plain": [
       "(4504, 50)"
      ]
     },
     "execution_count": 79,
     "metadata": {},
     "output_type": "execute_result"
    }
   ],
   "source": [
    "wmdf = df[dfcolumns]\n",
    "wmdf.shape"
   ]
  },
  {
   "cell_type": "code",
   "execution_count": 80,
   "metadata": {
    "collapsed": true
   },
   "outputs": [],
   "source": [
    "from statsmodels.formula.api import OLS"
   ]
  },
  {
   "cell_type": "markdown",
   "metadata": {},
   "source": [
    "model_ols = OLS(endog=wmDFFinal_AllStoresCross_Train_Y, exog=wmdf).fit()"
   ]
  },
  {
   "cell_type": "code",
   "execution_count": 81,
   "metadata": {},
   "outputs": [
    {
     "data": {
      "text/html": [
       "<table class=\"simpletable\">\n",
       "<caption>OLS Regression Results</caption>\n",
       "<tr>\n",
       "  <th>Dep. Variable:</th>      <td>Weekly_Sales</td>   <th>  R-squared:         </th> <td>   0.921</td> \n",
       "</tr>\n",
       "<tr>\n",
       "  <th>Model:</th>                   <td>OLS</td>       <th>  Adj. R-squared:    </th> <td>   0.920</td> \n",
       "</tr>\n",
       "<tr>\n",
       "  <th>Method:</th>             <td>Least Squares</td>  <th>  F-statistic:       </th> <td>   1064.</td> \n",
       "</tr>\n",
       "<tr>\n",
       "  <th>Date:</th>             <td>Mon, 06 Aug 2018</td> <th>  Prob (F-statistic):</th>  <td>  0.00</td>  \n",
       "</tr>\n",
       "<tr>\n",
       "  <th>Time:</th>                 <td>15:34:00</td>     <th>  Log-Likelihood:    </th> <td> -60309.</td> \n",
       "</tr>\n",
       "<tr>\n",
       "  <th>No. Observations:</th>      <td>  4504</td>      <th>  AIC:               </th> <td>1.207e+05</td>\n",
       "</tr>\n",
       "<tr>\n",
       "  <th>Df Residuals:</th>          <td>  4454</td>      <th>  BIC:               </th> <td>1.210e+05</td>\n",
       "</tr>\n",
       "<tr>\n",
       "  <th>Df Model:</th>              <td>    49</td>      <th>                     </th>     <td> </td>    \n",
       "</tr>\n",
       "<tr>\n",
       "  <th>Covariance Type:</th>      <td>nonrobust</td>    <th>                     </th>     <td> </td>    \n",
       "</tr>\n",
       "</table>\n",
       "<table class=\"simpletable\">\n",
       "<tr>\n",
       "        <td></td>          <th>coef</th>     <th>std err</th>      <th>t</th>      <th>P>|t|</th>  <th>[0.025</th>    <th>0.975]</th>  \n",
       "</tr>\n",
       "<tr>\n",
       "  <th>Ones</th>         <td> 1.274e+06</td> <td> 2.71e+05</td> <td>    4.697</td> <td> 0.000</td> <td> 7.42e+05</td> <td> 1.81e+06</td>\n",
       "</tr>\n",
       "<tr>\n",
       "  <th>Temperature</th>  <td> -773.0965</td> <td>  156.839</td> <td>   -4.929</td> <td> 0.000</td> <td>-1080.578</td> <td> -465.615</td>\n",
       "</tr>\n",
       "<tr>\n",
       "  <th>Fuel_Price</th>   <td>-4.019e+04</td> <td> 8438.826</td> <td>   -4.763</td> <td> 0.000</td> <td>-5.67e+04</td> <td>-2.36e+04</td>\n",
       "</tr>\n",
       "<tr>\n",
       "  <th>CPI</th>          <td> 2855.1881</td> <td> 1226.896</td> <td>    2.327</td> <td> 0.020</td> <td>  449.862</td> <td> 5260.515</td>\n",
       "</tr>\n",
       "<tr>\n",
       "  <th>Unemployment</th> <td>-2.088e+04</td> <td> 5109.906</td> <td>   -4.086</td> <td> 0.000</td> <td>-3.09e+04</td> <td>-1.09e+04</td>\n",
       "</tr>\n",
       "<tr>\n",
       "  <th>IsHoliday</th>    <td> 7.576e+04</td> <td> 9565.645</td> <td>    7.920</td> <td> 0.000</td> <td>  5.7e+04</td> <td> 9.45e+04</td>\n",
       "</tr>\n",
       "<tr>\n",
       "  <th>Store_2</th>      <td> 3.736e+05</td> <td>  2.3e+04</td> <td>   16.264</td> <td> 0.000</td> <td> 3.29e+05</td> <td> 4.19e+05</td>\n",
       "</tr>\n",
       "<tr>\n",
       "  <th>Store_3</th>      <td>-1.163e+06</td> <td> 2.35e+04</td> <td>  -49.408</td> <td> 0.000</td> <td>-1.21e+06</td> <td>-1.12e+06</td>\n",
       "</tr>\n",
       "<tr>\n",
       "  <th>Store_4</th>      <td> 7.474e+05</td> <td> 1.14e+05</td> <td>    6.569</td> <td> 0.000</td> <td> 5.24e+05</td> <td>  9.7e+05</td>\n",
       "</tr>\n",
       "<tr>\n",
       "  <th>Store_5</th>      <td>-1.263e+06</td> <td> 2.36e+04</td> <td>  -53.616</td> <td> 0.000</td> <td>-1.31e+06</td> <td>-1.22e+06</td>\n",
       "</tr>\n",
       "<tr>\n",
       "  <th>Store_6</th>      <td>-1.023e+04</td> <td> 2.34e+04</td> <td>   -0.437</td> <td> 0.662</td> <td>-5.61e+04</td> <td> 3.57e+04</td>\n",
       "</tr>\n",
       "<tr>\n",
       "  <th>Store_7</th>      <td>-9.235e+05</td> <td> 3.43e+04</td> <td>  -26.911</td> <td> 0.000</td> <td>-9.91e+05</td> <td>-8.56e+05</td>\n",
       "</tr>\n",
       "<tr>\n",
       "  <th>Store_8</th>      <td>-6.953e+05</td> <td> 2.43e+04</td> <td>  -28.557</td> <td> 0.000</td> <td>-7.43e+05</td> <td>-6.48e+05</td>\n",
       "</tr>\n",
       "<tr>\n",
       "  <th>Store_9</th>      <td>-1.052e+06</td> <td> 2.42e+04</td> <td>  -43.530</td> <td> 0.000</td> <td> -1.1e+06</td> <td>   -1e+06</td>\n",
       "</tr>\n",
       "<tr>\n",
       "  <th>Store_10</th>     <td>  6.32e+05</td> <td>  1.1e+05</td> <td>    5.754</td> <td> 0.000</td> <td> 4.17e+05</td> <td> 8.47e+05</td>\n",
       "</tr>\n",
       "<tr>\n",
       "  <th>Store_11</th>     <td>-2.024e+05</td> <td> 2.33e+04</td> <td>   -8.682</td> <td> 0.000</td> <td>-2.48e+05</td> <td>-1.57e+05</td>\n",
       "</tr>\n",
       "<tr>\n",
       "  <th>Store_12</th>     <td>-1.659e+05</td> <td> 1.03e+05</td> <td>   -1.612</td> <td> 0.107</td> <td>-3.68e+05</td> <td> 3.59e+04</td>\n",
       "</tr>\n",
       "<tr>\n",
       "  <th>Store_13</th>     <td> 6.928e+05</td> <td> 1.11e+05</td> <td>    6.216</td> <td> 0.000</td> <td> 4.74e+05</td> <td> 9.11e+05</td>\n",
       "</tr>\n",
       "<tr>\n",
       "  <th>Store_14</th>     <td>  5.47e+05</td> <td> 4.22e+04</td> <td>   12.974</td> <td> 0.000</td> <td> 4.64e+05</td> <td>  6.3e+05</td>\n",
       "</tr>\n",
       "<tr>\n",
       "  <th>Store_15</th>     <td>-6.839e+05</td> <td> 1.03e+05</td> <td>   -6.633</td> <td> 0.000</td> <td>-8.86e+05</td> <td>-4.82e+05</td>\n",
       "</tr>\n",
       "<tr>\n",
       "  <th>Store_16</th>     <td> -1.02e+06</td> <td> 3.82e+04</td> <td>  -26.683</td> <td> 0.000</td> <td>-1.09e+06</td> <td>-9.45e+05</td>\n",
       "</tr>\n",
       "<tr>\n",
       "  <th>Store_17</th>     <td>-4.421e+05</td> <td> 1.13e+05</td> <td>   -3.930</td> <td> 0.000</td> <td>-6.63e+05</td> <td>-2.22e+05</td>\n",
       "</tr>\n",
       "<tr>\n",
       "  <th>Store_18</th>     <td>-2.107e+05</td> <td> 1.01e+05</td> <td>   -2.096</td> <td> 0.036</td> <td>-4.08e+05</td> <td>-1.36e+04</td>\n",
       "</tr>\n",
       "<tr>\n",
       "  <th>Store_19</th>     <td> 1.389e+05</td> <td> 1.03e+05</td> <td>    1.348</td> <td> 0.178</td> <td>-6.31e+04</td> <td> 3.41e+05</td>\n",
       "</tr>\n",
       "<tr>\n",
       "  <th>Store_20</th>     <td> 5.772e+05</td> <td> 2.52e+04</td> <td>   22.903</td> <td> 0.000</td> <td> 5.28e+05</td> <td> 6.27e+05</td>\n",
       "</tr>\n",
       "<tr>\n",
       "  <th>Store_21</th>     <td>-7.892e+05</td> <td> 2.31e+04</td> <td>  -34.095</td> <td> 0.000</td> <td>-8.35e+05</td> <td>-7.44e+05</td>\n",
       "</tr>\n",
       "<tr>\n",
       "  <th>Store_22</th>     <td>-3.081e+05</td> <td> 9.75e+04</td> <td>   -3.160</td> <td> 0.002</td> <td>-4.99e+05</td> <td>-1.17e+05</td>\n",
       "</tr>\n",
       "<tr>\n",
       "  <th>Store_23</th>     <td> 8482.4948</td> <td>  1.1e+05</td> <td>    0.077</td> <td> 0.939</td> <td>-2.07e+05</td> <td> 2.24e+05</td>\n",
       "</tr>\n",
       "<tr>\n",
       "  <th>Store_24</th>     <td> 6.403e+04</td> <td> 1.02e+05</td> <td>    0.627</td> <td> 0.531</td> <td>-1.36e+05</td> <td> 2.64e+05</td>\n",
       "</tr>\n",
       "<tr>\n",
       "  <th>Store_25</th>     <td>-8.362e+05</td> <td> 2.56e+04</td> <td>  -32.712</td> <td> 0.000</td> <td>-8.86e+05</td> <td>-7.86e+05</td>\n",
       "</tr>\n",
       "<tr>\n",
       "  <th>Store_26</th>     <td>-3.263e+05</td> <td> 1.03e+05</td> <td>   -3.181</td> <td> 0.001</td> <td>-5.27e+05</td> <td>-1.25e+05</td>\n",
       "</tr>\n",
       "<tr>\n",
       "  <th>Store_27</th>     <td> 4.772e+05</td> <td> 9.82e+04</td> <td>    4.858</td> <td> 0.000</td> <td> 2.85e+05</td> <td>  6.7e+05</td>\n",
       "</tr>\n",
       "<tr>\n",
       "  <th>Store_28</th>     <td>  1.36e+05</td> <td> 1.03e+05</td> <td>    1.323</td> <td> 0.186</td> <td>-6.56e+04</td> <td> 3.37e+05</td>\n",
       "</tr>\n",
       "<tr>\n",
       "  <th>Store_29</th>     <td>-7.461e+05</td> <td> 9.87e+04</td> <td>   -7.557</td> <td> 0.000</td> <td> -9.4e+05</td> <td>-5.53e+05</td>\n",
       "</tr>\n",
       "<tr>\n",
       "  <th>Store_30</th>     <td>-1.115e+06</td> <td> 2.26e+04</td> <td>  -49.321</td> <td> 0.000</td> <td>-1.16e+06</td> <td>-1.07e+06</td>\n",
       "</tr>\n",
       "<tr>\n",
       "  <th>Store_31</th>     <td>-1.603e+05</td> <td> 2.34e+04</td> <td>   -6.855</td> <td> 0.000</td> <td>-2.06e+05</td> <td>-1.14e+05</td>\n",
       "</tr>\n",
       "<tr>\n",
       "  <th>Store_32</th>     <td> -3.23e+05</td> <td> 3.42e+04</td> <td>   -9.435</td> <td> 0.000</td> <td> -3.9e+05</td> <td>-2.56e+05</td>\n",
       "</tr>\n",
       "<tr>\n",
       "  <th>Store_33</th>     <td> -1.01e+06</td> <td>  1.1e+05</td> <td>   -9.201</td> <td> 0.000</td> <td>-1.23e+06</td> <td>-7.95e+05</td>\n",
       "</tr>\n",
       "<tr>\n",
       "  <th>Store_34</th>     <td>-3.015e+05</td> <td> 1.05e+05</td> <td>   -2.877</td> <td> 0.004</td> <td>-5.07e+05</td> <td>-9.61e+04</td>\n",
       "</tr>\n",
       "<tr>\n",
       "  <th>Store_35</th>     <td>-4.005e+05</td> <td> 9.61e+04</td> <td>   -4.168</td> <td> 0.000</td> <td>-5.89e+05</td> <td>-2.12e+05</td>\n",
       "</tr>\n",
       "<tr>\n",
       "  <th>Store_36</th>     <td>-1.167e+06</td> <td>  2.3e+04</td> <td>  -50.693</td> <td> 0.000</td> <td>-1.21e+06</td> <td>-1.12e+06</td>\n",
       "</tr>\n",
       "<tr>\n",
       "  <th>Store_37</th>     <td>-1.021e+06</td> <td> 2.29e+04</td> <td>  -44.560</td> <td> 0.000</td> <td>-1.07e+06</td> <td>-9.76e+05</td>\n",
       "</tr>\n",
       "<tr>\n",
       "  <th>Store_38</th>     <td>-7.914e+05</td> <td> 1.03e+05</td> <td>   -7.701</td> <td> 0.000</td> <td>-9.93e+05</td> <td> -5.9e+05</td>\n",
       "</tr>\n",
       "<tr>\n",
       "  <th>Store_39</th>     <td>-9.652e+04</td> <td> 2.27e+04</td> <td>   -4.244</td> <td> 0.000</td> <td>-1.41e+05</td> <td>-5.19e+04</td>\n",
       "</tr>\n",
       "<tr>\n",
       "  <th>Store_40</th>     <td>-4.235e+05</td> <td>  1.1e+05</td> <td>   -3.849</td> <td> 0.000</td> <td>-6.39e+05</td> <td>-2.08e+05</td>\n",
       "</tr>\n",
       "<tr>\n",
       "  <th>Store_41</th>     <td> -2.59e+05</td> <td> 3.72e+04</td> <td>   -6.955</td> <td> 0.000</td> <td>-3.32e+05</td> <td>-1.86e+05</td>\n",
       "</tr>\n",
       "<tr>\n",
       "  <th>Store_42</th>     <td>-7.159e+05</td> <td>  1.1e+05</td> <td>   -6.510</td> <td> 0.000</td> <td>-9.32e+05</td> <td>   -5e+05</td>\n",
       "</tr>\n",
       "<tr>\n",
       "  <th>Store_43</th>     <td>-8.476e+05</td> <td> 2.54e+04</td> <td>  -33.382</td> <td> 0.000</td> <td>-8.97e+05</td> <td>-7.98e+05</td>\n",
       "</tr>\n",
       "<tr>\n",
       "  <th>Store_44</th>     <td>-1.028e+06</td> <td> 1.12e+05</td> <td>   -9.172</td> <td> 0.000</td> <td>-1.25e+06</td> <td>-8.08e+05</td>\n",
       "</tr>\n",
       "<tr>\n",
       "  <th>Store_45</th>     <td>-6.714e+05</td> <td> 4.23e+04</td> <td>  -15.874</td> <td> 0.000</td> <td>-7.54e+05</td> <td>-5.89e+05</td>\n",
       "</tr>\n",
       "</table>\n",
       "<table class=\"simpletable\">\n",
       "<tr>\n",
       "  <th>Omnibus:</th>       <td>3473.543</td> <th>  Durbin-Watson:     </th>  <td>   2.024</td> \n",
       "</tr>\n",
       "<tr>\n",
       "  <th>Prob(Omnibus):</th>  <td> 0.000</td>  <th>  Jarque-Bera (JB):  </th> <td>113140.902</td>\n",
       "</tr>\n",
       "<tr>\n",
       "  <th>Skew:</th>           <td> 3.392</td>  <th>  Prob(JB):          </th>  <td>    0.00</td> \n",
       "</tr>\n",
       "<tr>\n",
       "  <th>Kurtosis:</th>       <td>26.598</td>  <th>  Cond. No.          </th>  <td>4.40e+04</td> \n",
       "</tr>\n",
       "</table>"
      ],
      "text/plain": [
       "<class 'statsmodels.iolib.summary.Summary'>\n",
       "\"\"\"\n",
       "                            OLS Regression Results                            \n",
       "==============================================================================\n",
       "Dep. Variable:           Weekly_Sales   R-squared:                       0.921\n",
       "Model:                            OLS   Adj. R-squared:                  0.920\n",
       "Method:                 Least Squares   F-statistic:                     1064.\n",
       "Date:                Mon, 06 Aug 2018   Prob (F-statistic):               0.00\n",
       "Time:                        15:34:00   Log-Likelihood:                -60309.\n",
       "No. Observations:                4504   AIC:                         1.207e+05\n",
       "Df Residuals:                    4454   BIC:                         1.210e+05\n",
       "Df Model:                          49                                         \n",
       "Covariance Type:            nonrobust                                         \n",
       "================================================================================\n",
       "                   coef    std err          t      P>|t|      [0.025      0.975]\n",
       "--------------------------------------------------------------------------------\n",
       "Ones          1.274e+06   2.71e+05      4.697      0.000    7.42e+05    1.81e+06\n",
       "Temperature   -773.0965    156.839     -4.929      0.000   -1080.578    -465.615\n",
       "Fuel_Price   -4.019e+04   8438.826     -4.763      0.000   -5.67e+04   -2.36e+04\n",
       "CPI           2855.1881   1226.896      2.327      0.020     449.862    5260.515\n",
       "Unemployment -2.088e+04   5109.906     -4.086      0.000   -3.09e+04   -1.09e+04\n",
       "IsHoliday     7.576e+04   9565.645      7.920      0.000     5.7e+04    9.45e+04\n",
       "Store_2       3.736e+05    2.3e+04     16.264      0.000    3.29e+05    4.19e+05\n",
       "Store_3      -1.163e+06   2.35e+04    -49.408      0.000   -1.21e+06   -1.12e+06\n",
       "Store_4       7.474e+05   1.14e+05      6.569      0.000    5.24e+05     9.7e+05\n",
       "Store_5      -1.263e+06   2.36e+04    -53.616      0.000   -1.31e+06   -1.22e+06\n",
       "Store_6      -1.023e+04   2.34e+04     -0.437      0.662   -5.61e+04    3.57e+04\n",
       "Store_7      -9.235e+05   3.43e+04    -26.911      0.000   -9.91e+05   -8.56e+05\n",
       "Store_8      -6.953e+05   2.43e+04    -28.557      0.000   -7.43e+05   -6.48e+05\n",
       "Store_9      -1.052e+06   2.42e+04    -43.530      0.000    -1.1e+06      -1e+06\n",
       "Store_10       6.32e+05    1.1e+05      5.754      0.000    4.17e+05    8.47e+05\n",
       "Store_11     -2.024e+05   2.33e+04     -8.682      0.000   -2.48e+05   -1.57e+05\n",
       "Store_12     -1.659e+05   1.03e+05     -1.612      0.107   -3.68e+05    3.59e+04\n",
       "Store_13      6.928e+05   1.11e+05      6.216      0.000    4.74e+05    9.11e+05\n",
       "Store_14       5.47e+05   4.22e+04     12.974      0.000    4.64e+05     6.3e+05\n",
       "Store_15     -6.839e+05   1.03e+05     -6.633      0.000   -8.86e+05   -4.82e+05\n",
       "Store_16      -1.02e+06   3.82e+04    -26.683      0.000   -1.09e+06   -9.45e+05\n",
       "Store_17     -4.421e+05   1.13e+05     -3.930      0.000   -6.63e+05   -2.22e+05\n",
       "Store_18     -2.107e+05   1.01e+05     -2.096      0.036   -4.08e+05   -1.36e+04\n",
       "Store_19      1.389e+05   1.03e+05      1.348      0.178   -6.31e+04    3.41e+05\n",
       "Store_20      5.772e+05   2.52e+04     22.903      0.000    5.28e+05    6.27e+05\n",
       "Store_21     -7.892e+05   2.31e+04    -34.095      0.000   -8.35e+05   -7.44e+05\n",
       "Store_22     -3.081e+05   9.75e+04     -3.160      0.002   -4.99e+05   -1.17e+05\n",
       "Store_23      8482.4948    1.1e+05      0.077      0.939   -2.07e+05    2.24e+05\n",
       "Store_24      6.403e+04   1.02e+05      0.627      0.531   -1.36e+05    2.64e+05\n",
       "Store_25     -8.362e+05   2.56e+04    -32.712      0.000   -8.86e+05   -7.86e+05\n",
       "Store_26     -3.263e+05   1.03e+05     -3.181      0.001   -5.27e+05   -1.25e+05\n",
       "Store_27      4.772e+05   9.82e+04      4.858      0.000    2.85e+05     6.7e+05\n",
       "Store_28       1.36e+05   1.03e+05      1.323      0.186   -6.56e+04    3.37e+05\n",
       "Store_29     -7.461e+05   9.87e+04     -7.557      0.000    -9.4e+05   -5.53e+05\n",
       "Store_30     -1.115e+06   2.26e+04    -49.321      0.000   -1.16e+06   -1.07e+06\n",
       "Store_31     -1.603e+05   2.34e+04     -6.855      0.000   -2.06e+05   -1.14e+05\n",
       "Store_32      -3.23e+05   3.42e+04     -9.435      0.000    -3.9e+05   -2.56e+05\n",
       "Store_33      -1.01e+06    1.1e+05     -9.201      0.000   -1.23e+06   -7.95e+05\n",
       "Store_34     -3.015e+05   1.05e+05     -2.877      0.004   -5.07e+05   -9.61e+04\n",
       "Store_35     -4.005e+05   9.61e+04     -4.168      0.000   -5.89e+05   -2.12e+05\n",
       "Store_36     -1.167e+06    2.3e+04    -50.693      0.000   -1.21e+06   -1.12e+06\n",
       "Store_37     -1.021e+06   2.29e+04    -44.560      0.000   -1.07e+06   -9.76e+05\n",
       "Store_38     -7.914e+05   1.03e+05     -7.701      0.000   -9.93e+05    -5.9e+05\n",
       "Store_39     -9.652e+04   2.27e+04     -4.244      0.000   -1.41e+05   -5.19e+04\n",
       "Store_40     -4.235e+05    1.1e+05     -3.849      0.000   -6.39e+05   -2.08e+05\n",
       "Store_41      -2.59e+05   3.72e+04     -6.955      0.000   -3.32e+05   -1.86e+05\n",
       "Store_42     -7.159e+05    1.1e+05     -6.510      0.000   -9.32e+05      -5e+05\n",
       "Store_43     -8.476e+05   2.54e+04    -33.382      0.000   -8.97e+05   -7.98e+05\n",
       "Store_44     -1.028e+06   1.12e+05     -9.172      0.000   -1.25e+06   -8.08e+05\n",
       "Store_45     -6.714e+05   4.23e+04    -15.874      0.000   -7.54e+05   -5.89e+05\n",
       "==============================================================================\n",
       "Omnibus:                     3473.543   Durbin-Watson:                   2.024\n",
       "Prob(Omnibus):                  0.000   Jarque-Bera (JB):           113140.902\n",
       "Skew:                           3.392   Prob(JB):                         0.00\n",
       "Kurtosis:                      26.598   Cond. No.                     4.40e+04\n",
       "==============================================================================\n",
       "\n",
       "Warnings:\n",
       "[1] Standard Errors assume that the covariance matrix of the errors is correctly specified.\n",
       "[2] The condition number is large, 4.4e+04. This might indicate that there are\n",
       "strong multicollinearity or other numerical problems.\n",
       "\"\"\""
      ]
     },
     "execution_count": 81,
     "metadata": {},
     "output_type": "execute_result"
    }
   ],
   "source": [
    "model_ols = OLS(endog=wmDFFinal_AllStoresCross_Train_Y, exog=wmdf).fit()\n",
    "model_ols.summary()\n",
    "#keep removing feature with highest p>alpha till all features are having p<alpha."
   ]
  },
  {
   "cell_type": "code",
   "execution_count": 82,
   "metadata": {},
   "outputs": [
    {
     "data": {
      "text/html": [
       "<div>\n",
       "<style>\n",
       "    .dataframe thead tr:only-child th {\n",
       "        text-align: right;\n",
       "    }\n",
       "\n",
       "    .dataframe thead th {\n",
       "        text-align: left;\n",
       "    }\n",
       "\n",
       "    .dataframe tbody tr th {\n",
       "        vertical-align: top;\n",
       "    }\n",
       "</style>\n",
       "<table border=\"1\" class=\"dataframe\">\n",
       "  <thead>\n",
       "    <tr style=\"text-align: right;\">\n",
       "      <th></th>\n",
       "      <th>Temperature</th>\n",
       "      <th>Fuel_Price</th>\n",
       "      <th>CPI</th>\n",
       "      <th>Unemployment</th>\n",
       "      <th>IsHoliday</th>\n",
       "      <th>Store_2</th>\n",
       "      <th>Store_3</th>\n",
       "      <th>Store_4</th>\n",
       "      <th>Store_5</th>\n",
       "      <th>Store_6</th>\n",
       "      <th>...</th>\n",
       "      <th>Store_36</th>\n",
       "      <th>Store_37</th>\n",
       "      <th>Store_38</th>\n",
       "      <th>Store_39</th>\n",
       "      <th>Store_40</th>\n",
       "      <th>Store_41</th>\n",
       "      <th>Store_42</th>\n",
       "      <th>Store_43</th>\n",
       "      <th>Store_44</th>\n",
       "      <th>Store_45</th>\n",
       "    </tr>\n",
       "  </thead>\n",
       "  <tbody>\n",
       "    <tr>\n",
       "      <th>1288</th>\n",
       "      <td>49.96</td>\n",
       "      <td>2.828</td>\n",
       "      <td>126.496258</td>\n",
       "      <td>9.765</td>\n",
       "      <td>1</td>\n",
       "      <td>0</td>\n",
       "      <td>0</td>\n",
       "      <td>0</td>\n",
       "      <td>0</td>\n",
       "      <td>0</td>\n",
       "      <td>...</td>\n",
       "      <td>0</td>\n",
       "      <td>0</td>\n",
       "      <td>0</td>\n",
       "      <td>0</td>\n",
       "      <td>0</td>\n",
       "      <td>0</td>\n",
       "      <td>0</td>\n",
       "      <td>0</td>\n",
       "      <td>0</td>\n",
       "      <td>0</td>\n",
       "    </tr>\n",
       "    <tr>\n",
       "      <th>1115</th>\n",
       "      <td>65.19</td>\n",
       "      <td>3.891</td>\n",
       "      <td>225.062571</td>\n",
       "      <td>5.679</td>\n",
       "      <td>0</td>\n",
       "      <td>0</td>\n",
       "      <td>0</td>\n",
       "      <td>0</td>\n",
       "      <td>0</td>\n",
       "      <td>0</td>\n",
       "      <td>...</td>\n",
       "      <td>0</td>\n",
       "      <td>0</td>\n",
       "      <td>0</td>\n",
       "      <td>0</td>\n",
       "      <td>0</td>\n",
       "      <td>0</td>\n",
       "      <td>0</td>\n",
       "      <td>0</td>\n",
       "      <td>0</td>\n",
       "      <td>0</td>\n",
       "    </tr>\n",
       "    <tr>\n",
       "      <th>582</th>\n",
       "      <td>65.30</td>\n",
       "      <td>2.808</td>\n",
       "      <td>211.038853</td>\n",
       "      <td>6.465</td>\n",
       "      <td>0</td>\n",
       "      <td>0</td>\n",
       "      <td>0</td>\n",
       "      <td>0</td>\n",
       "      <td>1</td>\n",
       "      <td>0</td>\n",
       "      <td>...</td>\n",
       "      <td>0</td>\n",
       "      <td>0</td>\n",
       "      <td>0</td>\n",
       "      <td>0</td>\n",
       "      <td>0</td>\n",
       "      <td>0</td>\n",
       "      <td>0</td>\n",
       "      <td>0</td>\n",
       "      <td>0</td>\n",
       "      <td>0</td>\n",
       "    </tr>\n",
       "    <tr>\n",
       "      <th>3647</th>\n",
       "      <td>56.94</td>\n",
       "      <td>3.851</td>\n",
       "      <td>135.265267</td>\n",
       "      <td>7.818</td>\n",
       "      <td>0</td>\n",
       "      <td>0</td>\n",
       "      <td>0</td>\n",
       "      <td>0</td>\n",
       "      <td>0</td>\n",
       "      <td>0</td>\n",
       "      <td>...</td>\n",
       "      <td>0</td>\n",
       "      <td>0</td>\n",
       "      <td>0</td>\n",
       "      <td>0</td>\n",
       "      <td>0</td>\n",
       "      <td>0</td>\n",
       "      <td>0</td>\n",
       "      <td>0</td>\n",
       "      <td>0</td>\n",
       "      <td>0</td>\n",
       "    </tr>\n",
       "    <tr>\n",
       "      <th>1564</th>\n",
       "      <td>86.49</td>\n",
       "      <td>3.638</td>\n",
       "      <td>225.829306</td>\n",
       "      <td>6.334</td>\n",
       "      <td>0</td>\n",
       "      <td>0</td>\n",
       "      <td>0</td>\n",
       "      <td>0</td>\n",
       "      <td>0</td>\n",
       "      <td>0</td>\n",
       "      <td>...</td>\n",
       "      <td>0</td>\n",
       "      <td>0</td>\n",
       "      <td>0</td>\n",
       "      <td>0</td>\n",
       "      <td>0</td>\n",
       "      <td>0</td>\n",
       "      <td>0</td>\n",
       "      <td>0</td>\n",
       "      <td>0</td>\n",
       "      <td>0</td>\n",
       "    </tr>\n",
       "  </tbody>\n",
       "</table>\n",
       "<p>5 rows × 49 columns</p>\n",
       "</div>"
      ],
      "text/plain": [
       "      Temperature  Fuel_Price         CPI  Unemployment  IsHoliday  Store_2  \\\n",
       "1288        49.96       2.828  126.496258         9.765          1        0   \n",
       "1115        65.19       3.891  225.062571         5.679          0        0   \n",
       "582         65.30       2.808  211.038853         6.465          0        0   \n",
       "3647        56.94       3.851  135.265267         7.818          0        0   \n",
       "1564        86.49       3.638  225.829306         6.334          0        0   \n",
       "\n",
       "      Store_3  Store_4  Store_5  Store_6    ...     Store_36  Store_37  \\\n",
       "1288        0        0        0        0    ...            0         0   \n",
       "1115        0        0        0        0    ...            0         0   \n",
       "582         0        0        1        0    ...            0         0   \n",
       "3647        0        0        0        0    ...            0         0   \n",
       "1564        0        0        0        0    ...            0         0   \n",
       "\n",
       "      Store_38  Store_39  Store_40  Store_41  Store_42  Store_43  Store_44  \\\n",
       "1288         0         0         0         0         0         0         0   \n",
       "1115         0         0         0         0         0         0         0   \n",
       "582          0         0         0         0         0         0         0   \n",
       "3647         0         0         0         0         0         0         0   \n",
       "1564         0         0         0         0         0         0         0   \n",
       "\n",
       "      Store_45  \n",
       "1288         0  \n",
       "1115         0  \n",
       "582          0  \n",
       "3647         0  \n",
       "1564         0  \n",
       "\n",
       "[5 rows x 49 columns]"
      ]
     },
     "execution_count": 82,
     "metadata": {},
     "output_type": "execute_result"
    }
   ],
   "source": [
    "del wmDFFinal_AllStoresCross_Train_X['Ones']\n",
    "wmDFFinal_AllStoresCross_Train_X.head()"
   ]
  },
  {
   "cell_type": "code",
   "execution_count": 83,
   "metadata": {
    "collapsed": true
   },
   "outputs": [],
   "source": [
    "#First performing regression without Lasso\n",
    "model_AllStores_Cross = reg.fit(wmDFFinal_AllStoresCross_Train_X,wmDFFinal_AllStoresCross_Train_Y)"
   ]
  },
  {
   "cell_type": "code",
   "execution_count": 84,
   "metadata": {
    "collapsed": true
   },
   "outputs": [],
   "source": [
    "Yhat_AllStores_Cross = model_AllStores_Cross.predict(wmDFFinal_AllStoresCross_Test_X)"
   ]
  },
  {
   "cell_type": "code",
   "execution_count": 85,
   "metadata": {},
   "outputs": [
    {
     "data": {
      "text/plain": [
       "0.92131012204099949"
      ]
     },
     "execution_count": 85,
     "metadata": {},
     "output_type": "execute_result"
    }
   ],
   "source": [
    "model_AllStores_Cross.score(wmDFFinal_AllStoresCross_Train_X,wmDFFinal_AllStoresCross_Train_Y)"
   ]
  },
  {
   "cell_type": "code",
   "execution_count": 86,
   "metadata": {},
   "outputs": [
    {
     "name": "stdout",
     "output_type": "stream",
     "text": [
      "0.08877633490387815 26700105162.544968\n"
     ]
    }
   ],
   "source": [
    "#find error\n",
    "mape, msse = calculateError(model_AllStores_Cross,wmDFFinal_AllStoresCross_Test_X,wmDFFinal_AllStoresCross_Test_Y)\n",
    "print (mape, msse)"
   ]
  },
  {
   "cell_type": "code",
   "execution_count": 87,
   "metadata": {},
   "outputs": [
    {
     "data": {
      "image/png": "[encoded data removed]",
      "text/plain": [
       "<matplotlib.figure.Figure at 0x27723dc9dd8>"
      ]
     },
     "metadata": {},
     "output_type": "display_data"
    }
   ],
   "source": [
    "plt.plot(wmDFFinal_AllStoresCross_Test_Y, Yhat_AllStores_Cross,'ro')\n",
    "plt.plot(wmDFFinal_AllStoresCross_Test_Y,wmDFFinal_AllStoresCross_Test_Y,'b-')\n",
    "plt.show()"
   ]
  },
  {
   "cell_type": "code",
   "execution_count": 88,
   "metadata": {},
   "outputs": [
    {
     "data": {
      "text/plain": [
       "array([ -7.73096490e+02,  -4.01915820e+04,   2.85518808e+03,\n",
       "        -2.08772049e+04,   7.57574819e+04,   3.73583687e+05,\n",
       "        -1.16312730e+06,   7.47391112e+05,  -1.26335075e+06,\n",
       "        -1.02302058e+04,  -9.23505872e+05,  -6.95254265e+05,\n",
       "        -1.05196880e+06,   6.31977218e+05,  -2.02359007e+05,\n",
       "        -1.65935152e+05,   6.92773587e+05,   5.46969031e+05,\n",
       "        -6.83862842e+05,  -1.01985454e+06,  -4.42124945e+05,\n",
       "        -2.10743670e+05,   1.38888564e+05,   5.77204437e+05,\n",
       "        -7.89245009e+05,  -3.08092769e+05,   8.48249475e+03,\n",
       "         6.40263442e+04,  -8.36199459e+05,  -3.26276863e+05,\n",
       "         4.77156510e+05,   1.35956950e+05,  -7.46128622e+05,\n",
       "        -1.11470512e+06,  -1.60325971e+05,  -3.23041401e+05,\n",
       "        -1.01048617e+06,  -3.01472276e+05,  -4.00494268e+05,\n",
       "        -1.16737714e+06,  -1.02122664e+06,  -7.91350296e+05,\n",
       "        -9.65157844e+04,  -4.23532149e+05,  -2.58985156e+05,\n",
       "        -7.15915751e+05,  -8.47574195e+05,  -1.02825942e+06,\n",
       "        -6.71449543e+05])"
      ]
     },
     "execution_count": 88,
     "metadata": {},
     "output_type": "execute_result"
    }
   ],
   "source": [
    "reg.coef_"
   ]
  },
  {
   "cell_type": "code",
   "execution_count": 89,
   "metadata": {},
   "outputs": [
    {
     "name": "stderr",
     "output_type": "stream",
     "text": [
      "C:\\Users\\harsmoha\\Anaconda3\\lib\\site-packages\\sklearn\\linear_model\\coordinate_descent.py:491: ConvergenceWarning: Objective did not converge. You might want to increase the number of iterations. Fitting data with very small alpha may cause precision problems.\n",
      "  ConvergenceWarning)\n"
     ]
    },
    {
     "data": {
      "text/plain": [
       "array([ -7.72316333e+02,  -4.22558745e+04,   3.32933165e+03,\n",
       "        -2.00665435e+04,   7.55208275e+04,   3.75355313e+05,\n",
       "        -1.16269344e+06,   7.91787997e+05,  -1.26083658e+06,\n",
       "        -8.46472237e+03,  -9.11950390e+05,  -6.93968005e+05,\n",
       "        -1.05090990e+06,   6.75068276e+05,  -2.01879417e+05,\n",
       "        -1.26375390e+05,   7.36481912e+05,   5.62138746e+05,\n",
       "        -6.43281799e+05,  -1.00656846e+06,  -3.97984866e+05,\n",
       "        -1.71190567e+05,   1.79289127e+05,   5.82843236e+05,\n",
       "        -7.87320102e+05,  -2.69747922e+05,   5.11775192e+04,\n",
       "         1.04051948e+05,  -8.30401190e+05,  -2.85947632e+05,\n",
       "         5.15687345e+05,   1.75288369e+05,  -7.07367843e+05,\n",
       "        -1.11283426e+06,  -1.58553232e+05,  -3.11515196e+05,\n",
       "        -9.67341871e+05,  -2.60279969e+05,  -3.62777816e+05,\n",
       "        -1.16531099e+06,  -1.01912946e+06,  -7.51925821e+05,\n",
       "        -9.44791043e+04,  -3.80727343e+05,  -2.46104814e+05,\n",
       "        -6.72674804e+05,  -8.43944628e+05,  -9.84259038e+05,\n",
       "        -6.56043977e+05])"
      ]
     },
     "execution_count": 89,
     "metadata": {},
     "output_type": "execute_result"
    }
   ],
   "source": [
    "#Performing regression with lasso\n",
    "lasso = linear_model.Lasso(alpha=1,max_iter=1000)\n",
    "model_AllStores_Cross_Lasso = lasso.fit(wmDFFinal_AllStoresCross_Train_X,wmDFFinal_AllStoresCross_Train_Y)\n",
    "model_AllStores_Cross_Lasso.coef_"
   ]
  },
  {
   "cell_type": "code",
   "execution_count": 90,
   "metadata": {
    "collapsed": true
   },
   "outputs": [],
   "source": [
    "Yhat_AllStores_Cross_Lasso = model_AllStores_Cross_Lasso.predict(wmDFFinal_AllStoresCross_Test_X)"
   ]
  },
  {
   "cell_type": "code",
   "execution_count": 91,
   "metadata": {},
   "outputs": [
    {
     "name": "stdout",
     "output_type": "stream",
     "text": [
      "0.08891511928031627 26700254331.967293\n"
     ]
    }
   ],
   "source": [
    "#find error\n",
    "mape, msse = calculateError(model_AllStores_Cross_Lasso,wmDFFinal_AllStoresCross_Test_X,wmDFFinal_AllStoresCross_Test_Y)\n",
    "print (mape, msse)\n",
    "#Lasso needs to be tuned as accuracy has gone down"
   ]
  },
  {
   "cell_type": "code",
   "execution_count": 92,
   "metadata": {},
   "outputs": [
    {
     "data": {
      "image/png": "[encoded data removed]",
      "text/plain": [
       "<matplotlib.figure.Figure at 0x27722fb2160>"
      ]
     },
     "metadata": {},
     "output_type": "display_data"
    }
   ],
   "source": [
    "plt.plot(wmDFFinal_AllStoresCross_Test_Y, Yhat_AllStores_Cross_Lasso,'ro')\n",
    "plt.plot(wmDFFinal_AllStoresCross_Test_Y,wmDFFinal_AllStoresCross_Test_Y,'b-')\n",
    "plt.show()"
   ]
  },
  {
   "cell_type": "code",
   "execution_count": 93,
   "metadata": {},
   "outputs": [
    {
     "name": "stderr",
     "output_type": "stream",
     "text": [
      "C:\\Users\\harsmoha\\Anaconda3\\lib\\site-packages\\sklearn\\linear_model\\coordinate_descent.py:491: ConvergenceWarning: Objective did not converge. You might want to increase the number of iterations. Fitting data with very small alpha may cause precision problems.\n",
      "  ConvergenceWarning)\n"
     ]
    }
   ],
   "source": [
    "#Finding out out best value of alpha\n",
    "modelErrors = np.empty(20)\n",
    "for i, alpha1 in enumerate(np.linspace(1,20,20)):\n",
    "    lasso1 = linear_model.Lasso(alpha=alpha1, max_iter=1000)\n",
    "    model1 = lasso1.fit(wmDFFinal_AllStoresCross_Train_X,wmDFFinal_AllStoresCross_Train_Y)\n",
    "    mape, msse = calculateError(model1, wmDFFinal_AllStoresCross_Test_X,wmDFFinal_AllStoresCross_Test_Y)\n",
    "    #modelErrors[i] = 1-mape\n",
    "    modelErrors[i] = msse"
   ]
  },
  {
   "cell_type": "code",
   "execution_count": 94,
   "metadata": {},
   "outputs": [
    {
     "name": "stdout",
     "output_type": "stream",
     "text": [
      "[  2.67002543e+10   2.67003276e+10   2.67005633e+10   2.67009614e+10\n",
      "   2.67015220e+10   2.67022450e+10   2.67031304e+10   2.67041782e+10\n",
      "   2.67053876e+10   2.67060366e+10   2.67067947e+10   2.67082407e+10\n",
      "   2.67098934e+10   2.67111802e+10   2.67117632e+10   2.67123761e+10\n",
      "   2.67130220e+10   2.67140876e+10   2.67155343e+10   2.67171265e+10]\n"
     ]
    }
   ],
   "source": [
    "#print (modelErrors*100)\n",
    "print (modelErrors)"
   ]
  },
  {
   "cell_type": "code",
   "execution_count": 95,
   "metadata": {
    "collapsed": true
   },
   "outputs": [],
   "source": [
    "from sklearn.metrics import mean_squared_error"
   ]
  },
  {
   "cell_type": "code",
   "execution_count": 96,
   "metadata": {},
   "outputs": [
    {
     "name": "stderr",
     "output_type": "stream",
     "text": [
      "C:\\Users\\harsmoha\\Anaconda3\\lib\\site-packages\\sklearn\\linear_model\\coordinate_descent.py:491: ConvergenceWarning: Objective did not converge. You might want to increase the number of iterations. Fitting data with very small alpha may cause precision problems.\n",
      "  ConvergenceWarning)\n"
     ]
    }
   ],
   "source": [
    "modelErrors = np.empty(50)\n",
    "i=0\n",
    "for alpha1 in (np.linspace(0.1,20,50)):\n",
    "    lasso1 = linear_model.Lasso(alpha=alpha1)\n",
    "    model1 = lasso1.fit(wmDFFinal_AllStoresCross_Train_X,wmDFFinal_AllStoresCross_Train_Y)    \n",
    "    modelErrors[i] = mean_squared_error(wmDFFinal_AllStoresCross_Test_Y,model1.predict(wmDFFinal_AllStoresCross_Test_X))\n",
    "    i += 1\n",
    "      "
   ]
  },
  {
   "cell_type": "code",
   "execution_count": 97,
   "metadata": {},
   "outputs": [
    {
     "name": "stdout",
     "output_type": "stream",
     "text": [
      "[  2.67003273e+10   2.67002781e+10   2.67002557e+10   2.67002600e+10\n",
      "   2.67002912e+10   2.67003491e+10   2.67004339e+10   2.67005454e+10\n",
      "   2.67006838e+10   2.67008489e+10   2.67010408e+10   2.67012595e+10\n",
      "   2.67015050e+10   2.67017773e+10   2.67020764e+10   2.67024022e+10\n",
      "   2.67027549e+10   2.67031343e+10   2.67035405e+10   2.67039735e+10\n",
      "   2.67044333e+10   2.67049198e+10   2.67054310e+10   2.67056707e+10\n",
      "   2.67059323e+10   2.67062158e+10   2.67065214e+10   2.67068489e+10\n",
      "   2.67074290e+10   2.67080489e+10   2.67086940e+10   2.67093644e+10\n",
      "   2.67100599e+10   2.67108652e+10   2.67111269e+10   2.67113615e+10\n",
      "   2.67115977e+10   2.67118389e+10   2.67120855e+10   2.67123376e+10\n",
      "   2.67125951e+10   2.67128581e+10   2.67131265e+10   2.67135193e+10\n",
      "   2.67140462e+10   2.67146110e+10   2.67152046e+10   2.67158232e+10\n",
      "   2.67164643e+10   2.67171265e+10]\n"
     ]
    }
   ],
   "source": [
    "print (modelErrors)"
   ]
  },
  {
   "cell_type": "code",
   "execution_count": 98,
   "metadata": {},
   "outputs": [
    {
     "data": {
      "image/png": "[encoded data removed]",
      "text/plain": [
       "<matplotlib.figure.Figure at 0x277230026d8>"
      ]
     },
     "metadata": {},
     "output_type": "display_data"
    }
   ],
   "source": [
    "plt.plot(np.linspace(0.1,20,50), modelErrors)\n",
    "plt.show()"
   ]
  },
  {
   "cell_type": "code",
   "execution_count": 99,
   "metadata": {
    "collapsed": true
   },
   "outputs": [],
   "source": [
    "from sklearn.preprocessing import StandardScaler\n",
    "from sklearn.preprocessing import PolynomialFeatures"
   ]
  },
  {
   "cell_type": "code",
   "execution_count": 100,
   "metadata": {
    "collapsed": true
   },
   "outputs": [],
   "source": [
    "scalar = StandardScaler()"
   ]
  },
  {
   "cell_type": "code",
   "execution_count": 101,
   "metadata": {},
   "outputs": [
    {
     "data": {
      "text/plain": [
       "Index(['Temperature', 'Fuel_Price', 'CPI', 'Unemployment', 'IsHoliday',\n",
       "       'Store_2', 'Store_3', 'Store_4', 'Store_5', 'Store_6', 'Store_7',\n",
       "       'Store_8', 'Store_9', 'Store_10', 'Store_11', 'Store_12', 'Store_13',\n",
       "       'Store_14', 'Store_15', 'Store_16', 'Store_17', 'Store_18', 'Store_19',\n",
       "       'Store_20', 'Store_21', 'Store_22', 'Store_23', 'Store_24', 'Store_25',\n",
       "       'Store_26', 'Store_27', 'Store_28', 'Store_29', 'Store_30', 'Store_31',\n",
       "       'Store_32', 'Store_33', 'Store_34', 'Store_35', 'Store_36', 'Store_37',\n",
       "       'Store_38', 'Store_39', 'Store_40', 'Store_41', 'Store_42', 'Store_43',\n",
       "       'Store_44', 'Store_45'],\n",
       "      dtype='object')"
      ]
     },
     "execution_count": 101,
     "metadata": {},
     "output_type": "execute_result"
    }
   ],
   "source": [
    "wmDFFinal_AllStoresCross_Train_X.columns"
   ]
  },
  {
   "cell_type": "code",
   "execution_count": 102,
   "metadata": {},
   "outputs": [
    {
     "data": {
      "text/plain": [
       "(4504, 49)"
      ]
     },
     "execution_count": 102,
     "metadata": {},
     "output_type": "execute_result"
    }
   ],
   "source": [
    "X = scalar.fit_transform(wmDFFinal_AllStoresCross_Train_X)\n",
    "X.shape"
   ]
  },
  {
   "cell_type": "code",
   "execution_count": 103,
   "metadata": {
    "collapsed": true
   },
   "outputs": [],
   "source": [
    "poly = PolynomialFeatures(2)\n",
    "poly_trans = poly.fit_transform(X)"
   ]
  },
  {
   "cell_type": "code",
   "execution_count": 104,
   "metadata": {},
   "outputs": [
    {
     "data": {
      "text/plain": [
       "PolynomialFeatures(degree=2, include_bias=True, interaction_only=False)"
      ]
     },
     "execution_count": 104,
     "metadata": {},
     "output_type": "execute_result"
    }
   ],
   "source": [
    "poly.fit(poly_trans, wmDFFinal_AllStoresCross_Train_Y)"
   ]
  },
  {
   "cell_type": "code",
   "execution_count": 105,
   "metadata": {
    "scrolled": true
   },
   "outputs": [
    {
     "data": {
      "text/plain": [
       "LinearRegression(copy_X=True, fit_intercept=True, n_jobs=1, normalize=False)"
      ]
     },
     "execution_count": 105,
     "metadata": {},
     "output_type": "execute_result"
    }
   ],
   "source": [
    "polymodel = linear_model.LinearRegression()\n",
    "polymodel.fit(poly_trans,wmDFFinal_AllStoresCross_Train_Y)"
   ]
  },
  {
   "cell_type": "code",
   "execution_count": 106,
   "metadata": {
    "scrolled": true
   },
   "outputs": [
    {
     "data": {
      "text/plain": [
       "(1931, 49)"
      ]
     },
     "execution_count": 106,
     "metadata": {},
     "output_type": "execute_result"
    }
   ],
   "source": [
    "X_test = scalar.transform(wmDFFinal_AllStoresCross_Test_X)\n",
    "X_test.shape"
   ]
  },
  {
   "cell_type": "code",
   "execution_count": 107,
   "metadata": {
    "collapsed": true
   },
   "outputs": [],
   "source": [
    "poly_test = PolynomialFeatures(2)\n",
    "poly_trans_test = poly_test.fit_transform(X_test)"
   ]
  },
  {
   "cell_type": "code",
   "execution_count": 108,
   "metadata": {},
   "outputs": [
    {
     "name": "stdout",
     "output_type": "stream",
     "text": [
      "0.0802771507900659 25018699326.044544\n"
     ]
    }
   ],
   "source": [
    "mape, msse = calculateError(polymodel, poly_trans_test,wmDFFinal_AllStoresCross_Test_Y)\n",
    "print (mape, msse)"
   ]
  },
  {
   "cell_type": "code",
   "execution_count": 109,
   "metadata": {},
   "outputs": [
    {
     "data": {
      "text/plain": [
       "(1931,)"
      ]
     },
     "execution_count": 109,
     "metadata": {},
     "output_type": "execute_result"
    }
   ],
   "source": [
    "wmDFFinal_AllStoresCross_Test_Y.shape"
   ]
  },
  {
   "cell_type": "code",
   "execution_count": 110,
   "metadata": {},
   "outputs": [
    {
     "data": {
      "image/png": "[encoded data removed]",
      "text/plain": [
       "<matplotlib.figure.Figure at 0x277257c73c8>"
      ]
     },
     "metadata": {},
     "output_type": "display_data"
    },
    {
     "data": {
      "text/plain": [
       "<matplotlib.figure.Figure at 0x2772598e5c0>"
      ]
     },
     "metadata": {},
     "output_type": "display_data"
    }
   ],
   "source": [
    "plt.plot(wmDFFinal_AllStoresCross_Test_Y, wmDFFinal_AllStoresCross_Test_Y,'b-')\n",
    "plt.plot(wmDFFinal_AllStoresCross_Test_Y, polymodel.predict(poly_trans_test),'ro')\n",
    "plt.figure(figsize=(8,8))\n",
    "plt.show()"
   ]
  },
  {
   "cell_type": "code",
   "execution_count": 111,
   "metadata": {
    "collapsed": true
   },
   "outputs": [],
   "source": [
    "#Using SVR\n",
    "from sklearn.svm import SVR"
   ]
  },
  {
   "cell_type": "code",
   "execution_count": 112,
   "metadata": {
    "collapsed": true
   },
   "outputs": [],
   "source": [
    "svr = SVR()\n",
    "svrmodel = svr.fit(X,wmDFFinal_AllStoresCross_Train_Y)"
   ]
  },
  {
   "cell_type": "code",
   "execution_count": 113,
   "metadata": {},
   "outputs": [
    {
     "name": "stdout",
     "output_type": "stream",
     "text": [
      "0.61009494618295 330779422395.87054\n"
     ]
    }
   ],
   "source": [
    "mape, msse = calculateError(svrmodel, X_test, wmDFFinal_AllStoresCross_Test_Y)\n",
    "print (mape, msse)\n",
    "#Poor prediction as Y was not scaled. Scaling doesnt happen in SVR automatically unlike in Linear/Polynomial Regression"
   ]
  },
  {
   "cell_type": "code",
   "execution_count": 114,
   "metadata": {
    "collapsed": true
   },
   "outputs": [],
   "source": [
    "scalar1 = StandardScaler()"
   ]
  },
  {
   "cell_type": "code",
   "execution_count": 115,
   "metadata": {},
   "outputs": [
    {
     "name": "stderr",
     "output_type": "stream",
     "text": [
      "C:\\Users\\harsmoha\\Anaconda3\\lib\\site-packages\\ipykernel_launcher.py:1: FutureWarning: reshape is deprecated and will raise in a subsequent release. Please use .values.reshape(...) instead\n",
      "  \"\"\"Entry point for launching an IPython kernel.\n"
     ]
    }
   ],
   "source": [
    "Y = scalar1.fit_transform(wmDFFinal_AllStoresCross_Train_Y.reshape(-1,1))"
   ]
  },
  {
   "cell_type": "code",
   "execution_count": 116,
   "metadata": {
    "scrolled": true
   },
   "outputs": [
    {
     "name": "stderr",
     "output_type": "stream",
     "text": [
      "C:\\Users\\harsmoha\\Anaconda3\\lib\\site-packages\\ipykernel_launcher.py:1: FutureWarning: reshape is deprecated and will raise in a subsequent release. Please use .values.reshape(...) instead\n",
      "  \"\"\"Entry point for launching an IPython kernel.\n"
     ]
    }
   ],
   "source": [
    "Y_test = scalar1.transform(wmDFFinal_AllStoresCross_Test_Y.reshape(-1,1))"
   ]
  },
  {
   "cell_type": "code",
   "execution_count": 117,
   "metadata": {},
   "outputs": [
    {
     "name": "stderr",
     "output_type": "stream",
     "text": [
      "C:\\Users\\harsmoha\\Anaconda3\\lib\\site-packages\\sklearn\\utils\\validation.py:578: DataConversionWarning: A column-vector y was passed when a 1d array was expected. Please change the shape of y to (n_samples, ), for example using ravel().\n",
      "  y = column_or_1d(y, warn=True)\n"
     ]
    }
   ],
   "source": [
    "svr1 = SVR()\n",
    "svrmodel1 = svr1.fit(X,Y)"
   ]
  },
  {
   "cell_type": "code",
   "execution_count": 118,
   "metadata": {},
   "outputs": [
    {
     "name": "stdout",
     "output_type": "stream",
     "text": [
      "0.360522321767 1.88241371855\n"
     ]
    }
   ],
   "source": [
    "mape, msse = calculateError(svrmodel1, X_test, Y_test)\n",
    "print (mape, msse)\n",
    "#Still poor prediction"
   ]
  },
  {
   "cell_type": "code",
   "execution_count": 119,
   "metadata": {},
   "outputs": [
    {
     "data": {
      "image/png": "[encoded data removed]",
      "text/plain": [
       "<matplotlib.figure.Figure at 0x27727c9d198>"
      ]
     },
     "metadata": {},
     "output_type": "display_data"
    },
    {
     "data": {
      "text/plain": [
       "<matplotlib.figure.Figure at 0x277257ab8d0>"
      ]
     },
     "metadata": {},
     "output_type": "display_data"
    }
   ],
   "source": [
    "plt.plot(wmDFFinal_AllStoresCross_Test_Y, wmDFFinal_AllStoresCross_Test_Y,'b-')\n",
    "plt.plot(wmDFFinal_AllStoresCross_Test_Y, scalar1.inverse_transform(svrmodel1.predict(X_test)),'ro')\n",
    "plt.figure(figsize=(8,8))\n",
    "plt.show()"
   ]
  },
  {
   "cell_type": "code",
   "execution_count": 120,
   "metadata": {
    "collapsed": true
   },
   "outputs": [],
   "source": [
    "#Using Decision Tree Regressor\n",
    "from sklearn.tree import DecisionTreeRegressor"
   ]
  },
  {
   "cell_type": "code",
   "execution_count": 121,
   "metadata": {
    "collapsed": true
   },
   "outputs": [],
   "source": [
    "dtree = DecisionTreeRegressor(random_state=10)"
   ]
  },
  {
   "cell_type": "code",
   "execution_count": 122,
   "metadata": {},
   "outputs": [
    {
     "data": {
      "text/plain": [
       "DecisionTreeRegressor(criterion='mse', max_depth=None, max_features=None,\n",
       "           max_leaf_nodes=None, min_impurity_decrease=0.0,\n",
       "           min_impurity_split=None, min_samples_leaf=1,\n",
       "           min_samples_split=2, min_weight_fraction_leaf=0.0,\n",
       "           presort=False, random_state=10, splitter='best')"
      ]
     },
     "execution_count": 122,
     "metadata": {},
     "output_type": "execute_result"
    }
   ],
   "source": [
    "#First checking without scaling\n",
    "dtree.fit(wmDFFinal_AllStoresCross_Train_X,wmDFFinal_AllStoresCross_Train_Y)"
   ]
  },
  {
   "cell_type": "code",
   "execution_count": 123,
   "metadata": {},
   "outputs": [
    {
     "name": "stdout",
     "output_type": "stream",
     "text": [
      "0.08759848477720462 39483788087.851494\n"
     ]
    }
   ],
   "source": [
    "mape, msse = calculateError(dtree, wmDFFinal_AllStoresCross_Test_X, wmDFFinal_AllStoresCross_Test_Y)\n",
    "print (mape, msse)"
   ]
  },
  {
   "cell_type": "code",
   "execution_count": 124,
   "metadata": {
    "scrolled": true
   },
   "outputs": [
    {
     "data": {
      "image/png": "[encoded data removed]",
      "text/plain": [
       "<matplotlib.figure.Figure at 0x27725980d30>"
      ]
     },
     "metadata": {},
     "output_type": "display_data"
    },
    {
     "data": {
      "text/plain": [
       "<matplotlib.figure.Figure at 0x277259ac208>"
      ]
     },
     "metadata": {},
     "output_type": "display_data"
    }
   ],
   "source": [
    "plt.plot(wmDFFinal_AllStoresCross_Test_Y, wmDFFinal_AllStoresCross_Test_Y,'b-')\n",
    "plt.plot(wmDFFinal_AllStoresCross_Test_Y, dtree.predict(wmDFFinal_AllStoresCross_Test_X),'ro')\n",
    "plt.figure(figsize=(8,8))\n",
    "plt.show()"
   ]
  },
  {
   "cell_type": "code",
   "execution_count": 125,
   "metadata": {
    "collapsed": true
   },
   "outputs": [],
   "source": [
    "#Using scaling in DTR"
   ]
  },
  {
   "cell_type": "code",
   "execution_count": 126,
   "metadata": {
    "collapsed": true
   },
   "outputs": [],
   "source": [
    "dtree1 = DecisionTreeRegressor(random_state=10)"
   ]
  },
  {
   "cell_type": "code",
   "execution_count": 127,
   "metadata": {},
   "outputs": [
    {
     "data": {
      "text/plain": [
       "DecisionTreeRegressor(criterion='mse', max_depth=None, max_features=None,\n",
       "           max_leaf_nodes=None, min_impurity_decrease=0.0,\n",
       "           min_impurity_split=None, min_samples_leaf=1,\n",
       "           min_samples_split=2, min_weight_fraction_leaf=0.0,\n",
       "           presort=False, random_state=10, splitter='best')"
      ]
     },
     "execution_count": 127,
     "metadata": {},
     "output_type": "execute_result"
    }
   ],
   "source": [
    "dtree1.fit(X,wmDFFinal_AllStoresCross_Train_Y)"
   ]
  },
  {
   "cell_type": "code",
   "execution_count": 128,
   "metadata": {},
   "outputs": [
    {
     "name": "stdout",
     "output_type": "stream",
     "text": [
      "0.08740393395636092 39300947111.34267\n"
     ]
    }
   ],
   "source": [
    "mape, msse = calculateError(dtree1, X_test, wmDFFinal_AllStoresCross_Test_Y)\n",
    "print (mape, msse)\n",
    "#Error decreased after scaling"
   ]
  },
  {
   "cell_type": "code",
   "execution_count": 129,
   "metadata": {
    "collapsed": true
   },
   "outputs": [],
   "source": [
    "#Using RandomForestRegressor\n",
    "from sklearn.ensemble import RandomForestRegressor"
   ]
  },
  {
   "cell_type": "code",
   "execution_count": 130,
   "metadata": {
    "collapsed": true
   },
   "outputs": [],
   "source": [
    "#trying without scaling first\n",
    "rf = RandomForestRegressor(n_estimators=500,random_state=10)"
   ]
  },
  {
   "cell_type": "code",
   "execution_count": 131,
   "metadata": {},
   "outputs": [
    {
     "data": {
      "text/plain": [
       "RandomForestRegressor(bootstrap=True, criterion='mse', max_depth=None,\n",
       "           max_features='auto', max_leaf_nodes=None,\n",
       "           min_impurity_decrease=0.0, min_impurity_split=None,\n",
       "           min_samples_leaf=1, min_samples_split=2,\n",
       "           min_weight_fraction_leaf=0.0, n_estimators=500, n_jobs=1,\n",
       "           oob_score=False, random_state=10, verbose=0, warm_start=False)"
      ]
     },
     "execution_count": 131,
     "metadata": {},
     "output_type": "execute_result"
    }
   ],
   "source": [
    "rf.fit(wmDFFinal_AllStoresCross_Train_X,wmDFFinal_AllStoresCross_Train_Y)"
   ]
  },
  {
   "cell_type": "code",
   "execution_count": 132,
   "metadata": {},
   "outputs": [
    {
     "name": "stdout",
     "output_type": "stream",
     "text": [
      "0.06851775675516494 21977327732.52188\n"
     ]
    }
   ],
   "source": [
    "mape, msse = calculateError(rf, wmDFFinal_AllStoresCross_Test_X, wmDFFinal_AllStoresCross_Test_Y)\n",
    "print (mape, msse)\n",
    "#Accuracy increased compared to Polynomial and DTR"
   ]
  },
  {
   "cell_type": "code",
   "execution_count": 133,
   "metadata": {},
   "outputs": [
    {
     "name": "stdout",
     "output_type": "stream",
     "text": [
      "0.0684362970243342 21990456884.720547\n"
     ]
    }
   ],
   "source": [
    "#trying with scaling\n",
    "rf1 = RandomForestRegressor(n_estimators=500,random_state=10)\n",
    "rf1.fit(X,wmDFFinal_AllStoresCross_Train_Y)\n",
    "mape, msse = calculateError(rf1, X_test, wmDFFinal_AllStoresCross_Test_Y)\n",
    "print (mape, msse)\n",
    "#Accuracy increased after scaling"
   ]
  },
  {
   "cell_type": "code",
   "execution_count": 134,
   "metadata": {},
   "outputs": [
    {
     "data": {
      "image/png": "[encoded data removed]",
      "text/plain": [
       "<matplotlib.figure.Figure at 0x27727ffe240>"
      ]
     },
     "metadata": {},
     "output_type": "display_data"
    },
    {
     "data": {
      "text/plain": [
       "<matplotlib.figure.Figure at 0x277280394e0>"
      ]
     },
     "metadata": {},
     "output_type": "display_data"
    }
   ],
   "source": [
    "plt.plot(wmDFFinal_AllStoresCross_Test_Y, wmDFFinal_AllStoresCross_Test_Y,'b-')\n",
    "plt.plot(wmDFFinal_AllStoresCross_Test_Y, rf1.predict(X_test),'ro')\n",
    "plt.figure(figsize=(8,8))\n",
    "plt.show()"
   ]
  },
  {
   "cell_type": "code",
   "execution_count": 135,
   "metadata": {},
   "outputs": [
    {
     "name": "stderr",
     "output_type": "stream",
     "text": [
      "C:\\Users\\harsmoha\\Anaconda3\\lib\\site-packages\\ipykernel_launcher.py:3: DataConversionWarning: A column-vector y was passed when a 1d array was expected. Please change the shape of y to (n_samples,), for example using ravel().\n",
      "  This is separate from the ipykernel package so we can avoid doing imports until\n"
     ]
    },
    {
     "name": "stdout",
     "output_type": "stream",
     "text": [
      "0.358947446519 1.97631521847\n"
     ]
    }
   ],
   "source": [
    "#trying with scaling in Y also\n",
    "rf2 = RandomForestRegressor(n_estimators=500,random_state=10)\n",
    "rf2.fit(X,Y)\n",
    "mape, msse = calculateError(rf2, X_test, Y_test)\n",
    "print (mape, msse)\n",
    "#Accuracy came down drastically with scaling in Y. Not recommended"
   ]
  },
  {
   "cell_type": "code",
   "execution_count": 136,
   "metadata": {
    "collapsed": true
   },
   "outputs": [],
   "source": [
    "#Using k-fold cross validation to better understand model performance\n",
    "from sklearn.model_selection import cross_val_score"
   ]
  },
  {
   "cell_type": "code",
   "execution_count": 137,
   "metadata": {},
   "outputs": [
    {
     "data": {
      "text/plain": [
       "array([ 0.92714088,  0.93609972,  0.93232885,  0.92278349,  0.93754619,\n",
       "        0.92534667,  0.90956009,  0.9370573 ,  0.93409641,  0.93014   ])"
      ]
     },
     "execution_count": 137,
     "metadata": {},
     "output_type": "execute_result"
    }
   ],
   "source": [
    "accuracies = cross_val_score(estimator=rf,X=wmDFFinal_AllStoresCross_Train_X, y=wmDFFinal_AllStoresCross_Train_Y,cv=10)\n",
    "accuracies"
   ]
  },
  {
   "cell_type": "code",
   "execution_count": 138,
   "metadata": {},
   "outputs": [
    {
     "data": {
      "text/plain": [
       "0.92920995898915992"
      ]
     },
     "execution_count": 138,
     "metadata": {},
     "output_type": "execute_result"
    }
   ],
   "source": [
    "accuracies.mean()"
   ]
  },
  {
   "cell_type": "code",
   "execution_count": 139,
   "metadata": {
    "collapsed": true
   },
   "outputs": [],
   "source": [
    "#Using GridSearchCV for tuning the model with best parameters\n",
    "from sklearn.model_selection import GridSearchCV"
   ]
  },
  {
   "cell_type": "code",
   "execution_count": 140,
   "metadata": {
    "collapsed": true
   },
   "outputs": [],
   "source": [
    "rf3 = RandomForestRegressor(n_estimators=100,random_state=10)\n",
    "#rf3.fit(X,wmDFFinal_AllStoresCross_Train_Y)\n",
    "params = [{'n_estimators':[300,400], 'min_samples_split':[2,3], 'min_samples_leaf':[1,2]}          \n",
    "         ]"
   ]
  },
  {
   "cell_type": "code",
   "execution_count": 141,
   "metadata": {
    "collapsed": true
   },
   "outputs": [],
   "source": [
    "grid_search = GridSearchCV(estimator=rf3,param_grid=params,cv=10,n_jobs=-1)"
   ]
  },
  {
   "cell_type": "code",
   "execution_count": 142,
   "metadata": {
    "collapsed": true
   },
   "outputs": [],
   "source": [
    "grid_search = grid_search.fit(X,wmDFFinal_AllStoresCross_Train_Y)"
   ]
  },
  {
   "cell_type": "code",
   "execution_count": 143,
   "metadata": {},
   "outputs": [
    {
     "data": {
      "text/plain": [
       "{'min_samples_leaf': 2, 'min_samples_split': 2, 'n_estimators': 300}"
      ]
     },
     "execution_count": 143,
     "metadata": {},
     "output_type": "execute_result"
    }
   ],
   "source": [
    "grid_search.best_params_"
   ]
  },
  {
   "cell_type": "code",
   "execution_count": 144,
   "metadata": {},
   "outputs": [
    {
     "data": {
      "text/plain": [
       "0.93060340994235624"
      ]
     },
     "execution_count": 144,
     "metadata": {},
     "output_type": "execute_result"
    }
   ],
   "source": [
    "grid_search.best_score_"
   ]
  },
  {
   "cell_type": "code",
   "execution_count": 145,
   "metadata": {},
   "outputs": [
    {
     "data": {
      "text/html": [
       "<div>\n",
       "<style>\n",
       "    .dataframe thead tr:only-child th {\n",
       "        text-align: right;\n",
       "    }\n",
       "\n",
       "    .dataframe thead th {\n",
       "        text-align: left;\n",
       "    }\n",
       "\n",
       "    .dataframe tbody tr th {\n",
       "        vertical-align: top;\n",
       "    }\n",
       "</style>\n",
       "<table border=\"1\" class=\"dataframe\">\n",
       "  <thead>\n",
       "    <tr style=\"text-align: right;\">\n",
       "      <th></th>\n",
       "      <th>0</th>\n",
       "      <th>1</th>\n",
       "      <th>2</th>\n",
       "      <th>3</th>\n",
       "      <th>4</th>\n",
       "      <th>5</th>\n",
       "      <th>6</th>\n",
       "      <th>7</th>\n",
       "      <th>8</th>\n",
       "      <th>9</th>\n",
       "      <th>...</th>\n",
       "      <th>39</th>\n",
       "      <th>40</th>\n",
       "      <th>41</th>\n",
       "      <th>42</th>\n",
       "      <th>43</th>\n",
       "      <th>44</th>\n",
       "      <th>45</th>\n",
       "      <th>46</th>\n",
       "      <th>47</th>\n",
       "      <th>48</th>\n",
       "    </tr>\n",
       "  </thead>\n",
       "  <tbody>\n",
       "    <tr>\n",
       "      <th>0</th>\n",
       "      <td>-0.567131</td>\n",
       "      <td>-1.165268</td>\n",
       "      <td>-1.151924</td>\n",
       "      <td>0.938433</td>\n",
       "      <td>3.684569</td>\n",
       "      <td>-0.149915</td>\n",
       "      <td>-0.145997</td>\n",
       "      <td>-0.146788</td>\n",
       "      <td>-0.153741</td>\n",
       "      <td>-0.149915</td>\n",
       "      <td>...</td>\n",
       "      <td>-0.149915</td>\n",
       "      <td>-0.151456</td>\n",
       "      <td>-0.151456</td>\n",
       "      <td>-0.153741</td>\n",
       "      <td>-0.152983</td>\n",
       "      <td>-0.151456</td>\n",
       "      <td>-0.146788</td>\n",
       "      <td>-0.155996</td>\n",
       "      <td>-0.152983</td>\n",
       "      <td>-0.155996</td>\n",
       "    </tr>\n",
       "    <tr>\n",
       "      <th>1</th>\n",
       "      <td>0.259173</td>\n",
       "      <td>1.157092</td>\n",
       "      <td>1.361419</td>\n",
       "      <td>-1.238631</td>\n",
       "      <td>-0.271402</td>\n",
       "      <td>-0.149915</td>\n",
       "      <td>-0.145997</td>\n",
       "      <td>-0.146788</td>\n",
       "      <td>-0.153741</td>\n",
       "      <td>-0.149915</td>\n",
       "      <td>...</td>\n",
       "      <td>-0.149915</td>\n",
       "      <td>-0.151456</td>\n",
       "      <td>-0.151456</td>\n",
       "      <td>-0.153741</td>\n",
       "      <td>-0.152983</td>\n",
       "      <td>-0.151456</td>\n",
       "      <td>-0.146788</td>\n",
       "      <td>-0.155996</td>\n",
       "      <td>-0.152983</td>\n",
       "      <td>-0.155996</td>\n",
       "    </tr>\n",
       "    <tr>\n",
       "      <th>2</th>\n",
       "      <td>0.265141</td>\n",
       "      <td>-1.208963</td>\n",
       "      <td>1.003828</td>\n",
       "      <td>-0.819842</td>\n",
       "      <td>-0.271402</td>\n",
       "      <td>-0.149915</td>\n",
       "      <td>-0.145997</td>\n",
       "      <td>-0.146788</td>\n",
       "      <td>6.504436</td>\n",
       "      <td>-0.149915</td>\n",
       "      <td>...</td>\n",
       "      <td>-0.149915</td>\n",
       "      <td>-0.151456</td>\n",
       "      <td>-0.151456</td>\n",
       "      <td>-0.153741</td>\n",
       "      <td>-0.152983</td>\n",
       "      <td>-0.151456</td>\n",
       "      <td>-0.146788</td>\n",
       "      <td>-0.155996</td>\n",
       "      <td>-0.152983</td>\n",
       "      <td>-0.155996</td>\n",
       "    </tr>\n",
       "    <tr>\n",
       "      <th>3</th>\n",
       "      <td>-0.188431</td>\n",
       "      <td>1.069703</td>\n",
       "      <td>-0.928323</td>\n",
       "      <td>-0.098949</td>\n",
       "      <td>-0.271402</td>\n",
       "      <td>-0.149915</td>\n",
       "      <td>-0.145997</td>\n",
       "      <td>-0.146788</td>\n",
       "      <td>-0.153741</td>\n",
       "      <td>-0.149915</td>\n",
       "      <td>...</td>\n",
       "      <td>-0.149915</td>\n",
       "      <td>-0.151456</td>\n",
       "      <td>-0.151456</td>\n",
       "      <td>-0.153741</td>\n",
       "      <td>-0.152983</td>\n",
       "      <td>-0.151456</td>\n",
       "      <td>-0.146788</td>\n",
       "      <td>-0.155996</td>\n",
       "      <td>-0.152983</td>\n",
       "      <td>-0.155996</td>\n",
       "    </tr>\n",
       "    <tr>\n",
       "      <th>4</th>\n",
       "      <td>1.414805</td>\n",
       "      <td>0.604357</td>\n",
       "      <td>1.380970</td>\n",
       "      <td>-0.889640</td>\n",
       "      <td>-0.271402</td>\n",
       "      <td>-0.149915</td>\n",
       "      <td>-0.145997</td>\n",
       "      <td>-0.146788</td>\n",
       "      <td>-0.153741</td>\n",
       "      <td>-0.149915</td>\n",
       "      <td>...</td>\n",
       "      <td>-0.149915</td>\n",
       "      <td>-0.151456</td>\n",
       "      <td>-0.151456</td>\n",
       "      <td>-0.153741</td>\n",
       "      <td>-0.152983</td>\n",
       "      <td>-0.151456</td>\n",
       "      <td>-0.146788</td>\n",
       "      <td>-0.155996</td>\n",
       "      <td>-0.152983</td>\n",
       "      <td>-0.155996</td>\n",
       "    </tr>\n",
       "  </tbody>\n",
       "</table>\n",
       "<p>5 rows × 49 columns</p>\n",
       "</div>"
      ],
      "text/plain": [
       "         0         1         2         3         4         5         6   \\\n",
       "0 -0.567131 -1.165268 -1.151924  0.938433  3.684569 -0.149915 -0.145997   \n",
       "1  0.259173  1.157092  1.361419 -1.238631 -0.271402 -0.149915 -0.145997   \n",
       "2  0.265141 -1.208963  1.003828 -0.819842 -0.271402 -0.149915 -0.145997   \n",
       "3 -0.188431  1.069703 -0.928323 -0.098949 -0.271402 -0.149915 -0.145997   \n",
       "4  1.414805  0.604357  1.380970 -0.889640 -0.271402 -0.149915 -0.145997   \n",
       "\n",
       "         7         8         9     ...           39        40        41  \\\n",
       "0 -0.146788 -0.153741 -0.149915    ...    -0.149915 -0.151456 -0.151456   \n",
       "1 -0.146788 -0.153741 -0.149915    ...    -0.149915 -0.151456 -0.151456   \n",
       "2 -0.146788  6.504436 -0.149915    ...    -0.149915 -0.151456 -0.151456   \n",
       "3 -0.146788 -0.153741 -0.149915    ...    -0.149915 -0.151456 -0.151456   \n",
       "4 -0.146788 -0.153741 -0.149915    ...    -0.149915 -0.151456 -0.151456   \n",
       "\n",
       "         42        43        44        45        46        47        48  \n",
       "0 -0.153741 -0.152983 -0.151456 -0.146788 -0.155996 -0.152983 -0.155996  \n",
       "1 -0.153741 -0.152983 -0.151456 -0.146788 -0.155996 -0.152983 -0.155996  \n",
       "2 -0.153741 -0.152983 -0.151456 -0.146788 -0.155996 -0.152983 -0.155996  \n",
       "3 -0.153741 -0.152983 -0.151456 -0.146788 -0.155996 -0.152983 -0.155996  \n",
       "4 -0.153741 -0.152983 -0.151456 -0.146788 -0.155996 -0.152983 -0.155996  \n",
       "\n",
       "[5 rows x 49 columns]"
      ]
     },
     "execution_count": 145,
     "metadata": {},
     "output_type": "execute_result"
    }
   ],
   "source": [
    "pd.DataFrame(X).head()"
   ]
  },
  {
   "cell_type": "code",
   "execution_count": 146,
   "metadata": {
    "collapsed": true
   },
   "outputs": [],
   "source": [
    "#Attempting Gradient Descent without regularization"
   ]
  },
  {
   "cell_type": "code",
   "execution_count": 147,
   "metadata": {},
   "outputs": [
    {
     "data": {
      "text/plain": [
       "(4504, 1)"
      ]
     },
     "execution_count": 147,
     "metadata": {},
     "output_type": "execute_result"
    }
   ],
   "source": [
    "Y_gradient = np.array([wmDFFinal_AllStoresCross_Train_Y]).transpose()\n",
    "Y_gradient.shape"
   ]
  },
  {
   "cell_type": "code",
   "execution_count": 148,
   "metadata": {},
   "outputs": [
    {
     "data": {
      "text/plain": [
       "(1, 4504)"
      ]
     },
     "execution_count": 148,
     "metadata": {},
     "output_type": "execute_result"
    }
   ],
   "source": [
    "Y_gradient.transpose().shape"
   ]
  },
  {
   "cell_type": "code",
   "execution_count": 149,
   "metadata": {},
   "outputs": [
    {
     "data": {
      "text/plain": [
       "array([[-0.56713142, -1.16526825, -1.15192411, ..., -0.15599607,\n",
       "        -0.15298291, -0.15599607],\n",
       "       [ 0.25917269,  1.15709203,  1.36141881, ..., -0.15599607,\n",
       "        -0.15298291, -0.15599607],\n",
       "       [ 0.26514074, -1.2089627 ,  1.00382794, ..., -0.15599607,\n",
       "        -0.15298291, -0.15599607],\n",
       "       ..., \n",
       "       [ 1.42674094,  0.70485442,  1.08691494, ..., -0.15599607,\n",
       "        -0.15298291, -0.15599607],\n",
       "       [-0.85576818,  0.1455654 , -1.06077093, ..., -0.15599607,\n",
       "        -0.15298291, -0.15599607],\n",
       "       [-1.7976355 , -1.77262117,  0.45547813, ..., -0.15599607,\n",
       "        -0.15298291, -0.15599607]])"
      ]
     },
     "execution_count": 149,
     "metadata": {},
     "output_type": "execute_result"
    }
   ],
   "source": [
    "X"
   ]
  },
  {
   "cell_type": "code",
   "execution_count": 150,
   "metadata": {},
   "outputs": [
    {
     "data": {
      "text/plain": [
       "array([[ 1.        , -0.56713142, -1.16526825, ..., -0.15599607,\n",
       "        -0.15298291, -0.15599607],\n",
       "       [ 1.        ,  0.25917269,  1.15709203, ..., -0.15599607,\n",
       "        -0.15298291, -0.15599607],\n",
       "       [ 1.        ,  0.26514074, -1.2089627 , ..., -0.15599607,\n",
       "        -0.15298291, -0.15599607],\n",
       "       ..., \n",
       "       [ 1.        ,  1.42674094,  0.70485442, ..., -0.15599607,\n",
       "        -0.15298291, -0.15599607],\n",
       "       [ 1.        , -0.85576818,  0.1455654 , ..., -0.15599607,\n",
       "        -0.15298291, -0.15599607],\n",
       "       [ 1.        , -1.7976355 , -1.77262117, ..., -0.15599607,\n",
       "        -0.15298291, -0.15599607]])"
      ]
     },
     "execution_count": 150,
     "metadata": {},
     "output_type": "execute_result"
    }
   ],
   "source": [
    "X_gradient1 = np.ones(X.shape[0])\n",
    "X_gradient2 = np.c_[X_gradient1,X]\n",
    "X_gradient2"
   ]
  },
  {
   "cell_type": "code",
   "execution_count": 151,
   "metadata": {},
   "outputs": [
    {
     "data": {
      "text/plain": [
       "(50, 4504)"
      ]
     },
     "execution_count": 151,
     "metadata": {},
     "output_type": "execute_result"
    }
   ],
   "source": [
    "X_gradient = X_gradient2.transpose\n",
    "X_gradient().shape"
   ]
  },
  {
   "cell_type": "code",
   "execution_count": 152,
   "metadata": {},
   "outputs": [
    {
     "data": {
      "text/plain": [
       "(50, 1)"
      ]
     },
     "execution_count": 152,
     "metadata": {},
     "output_type": "execute_result"
    }
   ],
   "source": [
    "thetanew = np.random.randint(0,50,size=(X_gradient().shape[0],1))\n",
    "thetanew.shape"
   ]
  },
  {
   "cell_type": "code",
   "execution_count": 153,
   "metadata": {},
   "outputs": [
    {
     "data": {
      "text/plain": [
       "(50, 4504)"
      ]
     },
     "execution_count": 153,
     "metadata": {},
     "output_type": "execute_result"
    }
   ],
   "source": [
    "X_gradient().shape"
   ]
  },
  {
   "cell_type": "code",
   "execution_count": 154,
   "metadata": {},
   "outputs": [
    {
     "data": {
      "text/plain": [
       "'theta = thetanew\\nthetaTX = np.dot(theta.transpose(),X_gradient())\\ndiff = np.subtract(thetaTX,Y_gradient.transpose())    \\nderivative = np.dot(diff,X_gradient().transpose())\\ntheta = np.subtract(thetanew, np.multiply((alpha/X_gradient().shape[1]),derivative.transpose()))\\nthetaTXNew = np.dot(theta.transpose(),X_gradient())\\ncosterror = np.subtract(thetaTXNew,Y_gradient.transpose())\\nprint (costerror.sum())\\n#thetaTXNew.shape\\n'"
      ]
     },
     "execution_count": 154,
     "metadata": {},
     "output_type": "execute_result"
    }
   ],
   "source": [
    "\"\"\"theta = thetanew\n",
    "thetaTX = np.dot(theta.transpose(),X_gradient())\n",
    "diff = np.subtract(thetaTX,Y_gradient.transpose())    \n",
    "derivative = np.dot(diff,X_gradient().transpose())\n",
    "theta = np.subtract(thetanew, np.multiply((alpha/X_gradient().shape[1]),derivative.transpose()))\n",
    "thetaTXNew = np.dot(theta.transpose(),X_gradient())\n",
    "costerror = np.subtract(thetaTXNew,Y_gradient.transpose())\n",
    "print (costerror.sum())\n",
    "#thetaTXNew.shape\n",
    "\"\"\""
   ]
  },
  {
   "cell_type": "code",
   "execution_count": 214,
   "metadata": {
    "collapsed": true
   },
   "outputs": [],
   "source": [
    "iteration = 1000"
   ]
  },
  {
   "cell_type": "code",
   "execution_count": 267,
   "metadata": {
    "collapsed": true
   },
   "outputs": [],
   "source": [
    "thetanew = np.random.randint(0,50,size=(X_gradient().shape[0],1))\n",
    "theta = thetanew\n",
    "errorLog = np.empty(iteration)\n",
    "alpha = 0.85\n",
    "for i in range(iteration):\n",
    "    thetaTX = np.dot(theta.transpose(),X_gradient())\n",
    "    diff = np.subtract(thetaTX,Y_gradient.transpose())    \n",
    "    derivative = np.dot(diff,X_gradient().transpose())\n",
    "    theta = np.subtract(thetanew, np.multiply((alpha/X_gradient().shape[1]),derivative.transpose()))\n",
    "    thetaTXNew = np.dot(theta.transpose(),X_gradient())\n",
    "    costerror = np.multiply(np.divide(1,np.multiply(2,X_gradient().shape[0])), \n",
    "                            np.square(np.subtract(thetaTXNew,Y_gradient.transpose())))\n",
    "    #print (costerror.sum())\n",
    "    errorLog[i] = costerror.sum()\n",
    "    #Checking convergence\n",
    "    #if(i>0 and (errorLog[i-1] - errorLog[i])<0.0001):\n",
    "     #   break\n",
    "    thetanew = theta"
   ]
  },
  {
   "cell_type": "code",
   "execution_count": 268,
   "metadata": {},
   "outputs": [
    {
     "data": {
      "image/png": "[encoded data removed]",
      "text/plain": [
       "<matplotlib.figure.Figure at 0x27728d5df60>"
      ]
     },
     "metadata": {},
     "output_type": "display_data"
    }
   ],
   "source": [
    "plt.plot(range(iteration),errorLog)\n",
    "plt.show()"
   ]
  },
  {
   "cell_type": "code",
   "execution_count": 230,
   "metadata": {},
   "outputs": [
    {
     "data": {
      "text/plain": [
       "95583.98193359375"
      ]
     },
     "execution_count": 230,
     "metadata": {},
     "output_type": "execute_result"
    }
   ],
   "source": [
    "errorLog[iteration-2] - errorLog[iteration-1]"
   ]
  },
  {
   "cell_type": "code",
   "execution_count": 231,
   "metadata": {
    "collapsed": true
   },
   "outputs": [],
   "source": [
    "def calculateErrorGradientDescent(theta,testX,testY):\n",
    "    yhat = np.dot(theta.transpose(),testX())\n",
    "    MPSE = np.mean(np.divide(np.subtract(yhat,testY.transpose()),testY.transpose()))\n",
    "    return MPSE"
   ]
  },
  {
   "cell_type": "code",
   "execution_count": 232,
   "metadata": {},
   "outputs": [
    {
     "data": {
      "text/plain": [
       "(1931, 1)"
      ]
     },
     "execution_count": 232,
     "metadata": {},
     "output_type": "execute_result"
    }
   ],
   "source": [
    "Y_test_gradient = np.array([wmDFFinal_AllStoresCross_Test_Y]).transpose()\n",
    "Y_test_gradient.shape"
   ]
  },
  {
   "cell_type": "code",
   "execution_count": 233,
   "metadata": {},
   "outputs": [
    {
     "data": {
      "text/plain": [
       "(1, 1931)"
      ]
     },
     "execution_count": 233,
     "metadata": {},
     "output_type": "execute_result"
    }
   ],
   "source": [
    "Y_test_gradient.transpose().shape"
   ]
  },
  {
   "cell_type": "code",
   "execution_count": 234,
   "metadata": {},
   "outputs": [
    {
     "data": {
      "text/plain": [
       "array([[ 1.        , -0.977842  , -1.21551687, ..., -0.15599607,\n",
       "        -0.15298291, -0.15599607],\n",
       "       [ 1.        ,  0.45937375,  1.31657679, ..., -0.15599607,\n",
       "        -0.15298291, -0.15599607],\n",
       "       [ 1.        ,  0.29606611,  0.02322093, ..., -0.15599607,\n",
       "        -0.15298291, -0.15599607],\n",
       "       ..., \n",
       "       [ 1.        , -0.6262694 ,  0.40773213, ..., -0.15599607,\n",
       "        -0.15298291, -0.15599607],\n",
       "       [ 1.        ,  1.56943167,  0.63275857, ..., -0.15599607,\n",
       "        -0.15298291, -0.15599607],\n",
       "       [ 1.        ,  0.44038449,  1.06970312, ..., -0.15599607,\n",
       "        -0.15298291, -0.15599607]])"
      ]
     },
     "execution_count": 234,
     "metadata": {},
     "output_type": "execute_result"
    }
   ],
   "source": [
    "X_test_gradient1 = np.ones(X_test.shape[0])\n",
    "X_test_gradient2 = np.c_[X_test_gradient1,X_test]\n",
    "X_test_gradient2"
   ]
  },
  {
   "cell_type": "code",
   "execution_count": 235,
   "metadata": {},
   "outputs": [
    {
     "data": {
      "text/plain": [
       "(50, 1931)"
      ]
     },
     "execution_count": 235,
     "metadata": {},
     "output_type": "execute_result"
    }
   ],
   "source": [
    "X_test_gradient = X_test_gradient2.transpose\n",
    "X_test_gradient().shape"
   ]
  },
  {
   "cell_type": "code",
   "execution_count": 236,
   "metadata": {},
   "outputs": [
    {
     "name": "stdout",
     "output_type": "stream",
     "text": [
      "0.98463363227\n"
     ]
    }
   ],
   "source": [
    "mpse = calculateErrorGradientDescent(theta,X_test_gradient,Y_test_gradient)\n",
    "print (1-mpse)"
   ]
  },
  {
   "cell_type": "code",
   "execution_count": 237,
   "metadata": {
    "collapsed": true
   },
   "outputs": [],
   "source": [
    "from numpy.linalg import inv"
   ]
  },
  {
   "cell_type": "code",
   "execution_count": 258,
   "metadata": {
    "collapsed": true
   },
   "outputs": [],
   "source": [
    "def calculateThetaNormal(trainX,trainY):\n",
    "    XTX = np.dot(trainX.transpose(), trainX)\n",
    "    InvXT = np.dot(inv(XTX),trainX.transpose())\n",
    "    thetaNormal = np.dot(InvXT,trainY)\n",
    "    return thetaNormal"
   ]
  },
  {
   "cell_type": "code",
   "execution_count": 259,
   "metadata": {},
   "outputs": [
    {
     "data": {
      "text/plain": [
       "(4504, 1)"
      ]
     },
     "execution_count": 259,
     "metadata": {},
     "output_type": "execute_result"
    }
   ],
   "source": [
    "Y_gradient.shape"
   ]
  },
  {
   "cell_type": "code",
   "execution_count": 261,
   "metadata": {},
   "outputs": [
    {
     "data": {
      "text/plain": [
       "(50, 1)"
      ]
     },
     "execution_count": 261,
     "metadata": {},
     "output_type": "execute_result"
    }
   ],
   "source": [
    "#Using normal equation\n",
    "thetaNormal = calculateThetaNormal(X_gradient().transpose(), Y_gradient)\n",
    "thetaNormal.shape"
   ]
  },
  {
   "cell_type": "code",
   "execution_count": 262,
   "metadata": {},
   "outputs": [
    {
     "data": {
      "text/plain": [
       "array([[ 1041304.89740009],\n",
       "       [  -14249.3053385 ],\n",
       "       [  -18396.65108484],\n",
       "       [  111972.52876392],\n",
       "       [  -39183.15923415],\n",
       "       [   19150.15842126],\n",
       "       [   54774.70861348],\n",
       "       [ -166269.30811758],\n",
       "       [  107394.34140369],\n",
       "       [ -189744.22583302],\n",
       "       [   -1499.9491761 ],\n",
       "       [ -143807.47352402],\n",
       "       [  -98867.89388443],\n",
       "       [ -152708.02816703],\n",
       "       [   89395.30411843],\n",
       "       [  -29522.92900233],\n",
       "       [  -24804.71898813],\n",
       "       [  104535.68514828],\n",
       "       [   80591.27211083],\n",
       "       [ -103191.10321275],\n",
       "       [ -155313.77411525],\n",
       "       [  -65776.64865833],\n",
       "       [  -31651.8547771 ],\n",
       "       [   19646.25482809],\n",
       "       [   85872.95034878],\n",
       "       [ -113990.81845864],\n",
       "       [  -46055.0671801 ],\n",
       "       [    1218.86910732],\n",
       "       [    9008.40666248],\n",
       "       [ -121386.08170633],\n",
       "       [  -48308.43031196],\n",
       "       [   70647.6143268 ],\n",
       "       [   19636.29018936],\n",
       "       [ -113628.02016457],\n",
       "       [ -168982.66692589],\n",
       "       [  -22678.64812864],\n",
       "       [  -49419.74759156],\n",
       "       [ -139858.17632115],\n",
       "       [  -47148.72331655],\n",
       "       [  -56951.86176212],\n",
       "       [ -171160.4257816 ],\n",
       "       [ -151202.43412589],\n",
       "       [ -117167.02876705],\n",
       "       [  -14495.82610424],\n",
       "       [  -63311.45530294],\n",
       "       [  -38345.24526093],\n",
       "       [ -102871.57470353],\n",
       "       [ -129077.17912883],\n",
       "       [ -153708.75668401],\n",
       "       [ -102255.13400712]])"
      ]
     },
     "execution_count": 262,
     "metadata": {},
     "output_type": "execute_result"
    }
   ],
   "source": [
    "thetaNormal"
   ]
  },
  {
   "cell_type": "code",
   "execution_count": 263,
   "metadata": {},
   "outputs": [
    {
     "data": {
      "text/plain": [
       "array([[ 1041304.89740009],\n",
       "       [  -14234.17471914],\n",
       "       [  -19709.51160966],\n",
       "       [  138035.98544463],\n",
       "       [  -36975.1574138 ],\n",
       "       [   19070.41638263],\n",
       "       [   54970.13476224],\n",
       "       [ -166363.3999249 ],\n",
       "       [  116187.54855563],\n",
       "       [ -189398.33227112],\n",
       "       [   -1318.37884907],\n",
       "       [ -141488.70883823],\n",
       "       [  -98785.20829834],\n",
       "       [ -152669.17461313],\n",
       "       [   97777.69789309],\n",
       "       [  -29608.53226541],\n",
       "       [  -16734.16888334],\n",
       "       [  113616.34587716],\n",
       "       [   83550.01906696],\n",
       "       [  -94797.69173706],\n",
       "       [ -152662.89952897],\n",
       "       [  -56749.13398298],\n",
       "       [  -23518.22479412],\n",
       "       [   27497.61489813],\n",
       "       [   86879.71653954],\n",
       "       [ -113784.62403357],\n",
       "       [  -38208.27179232],\n",
       "       [    9675.79031223],\n",
       "       [   16741.67783222],\n",
       "       [ -120389.21591278],\n",
       "       [  -40123.05254827],\n",
       "       [   78477.52406786],\n",
       "       [   27407.81443677],\n",
       "       [ -105554.14899403],\n",
       "       [ -168775.32937071],\n",
       "       [  -22505.56071091],\n",
       "       [  -47144.93521143],\n",
       "       [ -131663.09737138],\n",
       "       [  -38322.62136119],\n",
       "       [  -49615.60381384],\n",
       "       [ -170921.07559062],\n",
       "       [ -150953.88898849],\n",
       "       [ -109199.07428173],\n",
       "       [  -14255.93021223],\n",
       "       [  -54507.94835368],\n",
       "       [  -35852.69018558],\n",
       "       [  -94341.94000313],\n",
       "       [ -128505.8435727 ],\n",
       "       [ -144664.66118729],\n",
       "       [  -99161.3655821 ]])"
      ]
     },
     "execution_count": 263,
     "metadata": {},
     "output_type": "execute_result"
    }
   ],
   "source": [
    "theta"
   ]
  },
  {
   "cell_type": "code",
   "execution_count": 264,
   "metadata": {},
   "outputs": [
    {
     "name": "stdout",
     "output_type": "stream",
     "text": [
      "0.984668118717\n"
     ]
    }
   ],
   "source": [
    "mpse = calculateErrorGradientDescent(thetaNormal,X_test_gradient,Y_test_gradient)\n",
    "print (1-mpse)"
   ]
  },
  {
   "cell_type": "code",
   "execution_count": null,
   "metadata": {
    "collapsed": true
   },
   "outputs": [],
   "source": []
  }
 ],
 "metadata": {
  "kernelspec": {
   "display_name": "Python 3",
   "language": "python",
   "name": "python3"
  },
  "language_info": {
   "codemirror_mode": {
    "name": "ipython",
    "version": 3
   },
   "file_extension": ".py",
   "mimetype": "text/x-python",
   "name": "python",
   "nbconvert_exporter": "python",
   "pygments_lexer": "ipython3",
   "version": "3.6.3"
  }
 },
 "nbformat": 4,
 "nbformat_minor": 1
}
